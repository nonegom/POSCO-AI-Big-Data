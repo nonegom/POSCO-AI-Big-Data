{
 "cells": [
  {
   "cell_type": "code",
   "execution_count": 3,
   "metadata": {},
   "outputs": [],
   "source": [
    "import pandas as pd\n",
    "import numpy as np\n",
    "\n",
    "# 데이터 시각화 패키지\n",
    "import matplotlib\n",
    "import matplotlib.pyplot as plt\n",
    "import seaborn as sns\n",
    "\n",
    "from statsmodels.api import add_constant\n",
    "\n",
    "from sklearn.svm import SVC \n",
    "\n",
    "# 모델 전처리\n",
    "from sklearn.model_selection import train_test_split\n",
    "from sklearn.preprocessing import StandardScaler\n",
    "from sklearn.model_selection import GridSearchCV\n",
    "\n",
    "\n",
    "# grhpviz\n",
    "from sklearn.tree import export_graphviz\n",
    "import graphviz\n",
    "\n",
    "# 로지스틱 회귀\n",
    "from statsmodels.api import Logit\n",
    "from sklearn.metrics import accuracy_score\n",
    "\n",
    "# 의사결정나무\n",
    "from sklearn.tree import DecisionTreeClassifier\n",
    "\n",
    "\n",
    "# 랜덤포레스트\n",
    "from sklearn.ensemble import RandomForestClassifier\n",
    "\n",
    "# 그레디언트 부스팅\n",
    "from sklearn.ensemble import GradientBoostingClassifier\n",
    "\n",
    "# 모델 성능 평가\n",
    "from sklearn.metrics import confusion_matrix\n",
    "\n",
    "# 주피터 노트북 사용시 그래프 자동 출력 옵션\n",
    "%matplotlib inline\n",
    "matplotlib.rc('font', family = \"NanumGothic\")\n",
    "plt.rc('font', family = \"NanumGothic\")\n",
    "plt.rcParams[\"font.family\"] = 'NanumGothic'\n",
    "plt.rcParams['axes.unicode_minus'] = False"
   ]
  },
  {
   "cell_type": "code",
   "execution_count": 55,
   "metadata": {},
   "outputs": [
    {
     "data": {
      "text/html": [
       "<div>\n",
       "<style scoped>\n",
       "    .dataframe tbody tr th:only-of-type {\n",
       "        vertical-align: middle;\n",
       "    }\n",
       "\n",
       "    .dataframe tbody tr th {\n",
       "        vertical-align: top;\n",
       "    }\n",
       "\n",
       "    .dataframe thead th {\n",
       "        text-align: right;\n",
       "    }\n",
       "</style>\n",
       "<table border=\"1\" class=\"dataframe\">\n",
       "  <thead>\n",
       "    <tr style=\"text-align: right;\">\n",
       "      <th></th>\n",
       "      <th>customer_id</th>\n",
       "      <th>item_id</th>\n",
       "      <th>movie_id</th>\n",
       "      <th>down_year</th>\n",
       "      <th>down_month</th>\n",
       "      <th>down_weekday</th>\n",
       "      <th>season</th>\n",
       "      <th>title</th>\n",
       "      <th>release_year</th>\n",
       "      <th>contract_year</th>\n",
       "      <th>...</th>\n",
       "      <th>Genre_1</th>\n",
       "      <th>Genre_2</th>\n",
       "      <th>Genre_3</th>\n",
       "      <th>actor_1</th>\n",
       "      <th>actor_2</th>\n",
       "      <th>actor_3</th>\n",
       "      <th>contract_price</th>\n",
       "      <th>studio_score</th>\n",
       "      <th>price_class</th>\n",
       "      <th>price</th>\n",
       "    </tr>\n",
       "  </thead>\n",
       "  <tbody>\n",
       "    <tr>\n",
       "      <th>0</th>\n",
       "      <td>C5001</td>\n",
       "      <td>I-1038</td>\n",
       "      <td>tt1951264</td>\n",
       "      <td>2015</td>\n",
       "      <td>Jan</td>\n",
       "      <td>Thu</td>\n",
       "      <td>winter</td>\n",
       "      <td>The Hunger Games: Catching Fire</td>\n",
       "      <td>2013</td>\n",
       "      <td>2015</td>\n",
       "      <td>...</td>\n",
       "      <td>Action</td>\n",
       "      <td>Adventure</td>\n",
       "      <td>Mystery</td>\n",
       "      <td>Jennifer Lawrence</td>\n",
       "      <td>Liam Hemsworth</td>\n",
       "      <td>Jack Quaid</td>\n",
       "      <td>2600</td>\n",
       "      <td>6</td>\n",
       "      <td>10</td>\n",
       "      <td>1000.0</td>\n",
       "    </tr>\n",
       "    <tr>\n",
       "      <th>1</th>\n",
       "      <td>C5011</td>\n",
       "      <td>I-1038</td>\n",
       "      <td>tt1951264</td>\n",
       "      <td>2015</td>\n",
       "      <td>Mar</td>\n",
       "      <td>Fri</td>\n",
       "      <td>spring</td>\n",
       "      <td>The Hunger Games: Catching Fire</td>\n",
       "      <td>2013</td>\n",
       "      <td>2015</td>\n",
       "      <td>...</td>\n",
       "      <td>Action</td>\n",
       "      <td>Adventure</td>\n",
       "      <td>Mystery</td>\n",
       "      <td>Jennifer Lawrence</td>\n",
       "      <td>Liam Hemsworth</td>\n",
       "      <td>Jack Quaid</td>\n",
       "      <td>2600</td>\n",
       "      <td>6</td>\n",
       "      <td>10</td>\n",
       "      <td>1000.0</td>\n",
       "    </tr>\n",
       "    <tr>\n",
       "      <th>2</th>\n",
       "      <td>C5024</td>\n",
       "      <td>I-1038</td>\n",
       "      <td>tt1951264</td>\n",
       "      <td>2015</td>\n",
       "      <td>Aug</td>\n",
       "      <td>Wed</td>\n",
       "      <td>summer</td>\n",
       "      <td>The Hunger Games: Catching Fire</td>\n",
       "      <td>2013</td>\n",
       "      <td>2015</td>\n",
       "      <td>...</td>\n",
       "      <td>Action</td>\n",
       "      <td>Adventure</td>\n",
       "      <td>Mystery</td>\n",
       "      <td>Jennifer Lawrence</td>\n",
       "      <td>Liam Hemsworth</td>\n",
       "      <td>Jack Quaid</td>\n",
       "      <td>2600</td>\n",
       "      <td>6</td>\n",
       "      <td>10</td>\n",
       "      <td>1000.0</td>\n",
       "    </tr>\n",
       "    <tr>\n",
       "      <th>3</th>\n",
       "      <td>C5027</td>\n",
       "      <td>I-1038</td>\n",
       "      <td>tt1951264</td>\n",
       "      <td>2015</td>\n",
       "      <td>May</td>\n",
       "      <td>Mon</td>\n",
       "      <td>spring</td>\n",
       "      <td>The Hunger Games: Catching Fire</td>\n",
       "      <td>2013</td>\n",
       "      <td>2015</td>\n",
       "      <td>...</td>\n",
       "      <td>Action</td>\n",
       "      <td>Adventure</td>\n",
       "      <td>Mystery</td>\n",
       "      <td>Jennifer Lawrence</td>\n",
       "      <td>Liam Hemsworth</td>\n",
       "      <td>Jack Quaid</td>\n",
       "      <td>2600</td>\n",
       "      <td>6</td>\n",
       "      <td>10</td>\n",
       "      <td>1000.0</td>\n",
       "    </tr>\n",
       "    <tr>\n",
       "      <th>4</th>\n",
       "      <td>C5035</td>\n",
       "      <td>I-1038</td>\n",
       "      <td>tt1951264</td>\n",
       "      <td>2015</td>\n",
       "      <td>Aug</td>\n",
       "      <td>Wed</td>\n",
       "      <td>summer</td>\n",
       "      <td>The Hunger Games: Catching Fire</td>\n",
       "      <td>2013</td>\n",
       "      <td>2015</td>\n",
       "      <td>...</td>\n",
       "      <td>Action</td>\n",
       "      <td>Adventure</td>\n",
       "      <td>Mystery</td>\n",
       "      <td>Jennifer Lawrence</td>\n",
       "      <td>Liam Hemsworth</td>\n",
       "      <td>Jack Quaid</td>\n",
       "      <td>2600</td>\n",
       "      <td>6</td>\n",
       "      <td>10</td>\n",
       "      <td>1000.0</td>\n",
       "    </tr>\n",
       "  </tbody>\n",
       "</table>\n",
       "<p>5 rows × 32 columns</p>\n",
       "</div>"
      ],
      "text/plain": [
       "  customer_id item_id   movie_id  down_year down_month down_weekday  season  \\\n",
       "0       C5001  I-1038  tt1951264       2015        Jan          Thu  winter   \n",
       "1       C5011  I-1038  tt1951264       2015        Mar          Fri  spring   \n",
       "2       C5024  I-1038  tt1951264       2015        Aug          Wed  summer   \n",
       "3       C5027  I-1038  tt1951264       2015        May          Mon  spring   \n",
       "4       C5035  I-1038  tt1951264       2015        Aug          Wed  summer   \n",
       "\n",
       "                             title  release_year  contract_year  ...  Genre_1  \\\n",
       "0  The Hunger Games: Catching Fire          2013           2015  ...   Action   \n",
       "1  The Hunger Games: Catching Fire          2013           2015  ...   Action   \n",
       "2  The Hunger Games: Catching Fire          2013           2015  ...   Action   \n",
       "3  The Hunger Games: Catching Fire          2013           2015  ...   Action   \n",
       "4  The Hunger Games: Catching Fire          2013           2015  ...   Action   \n",
       "\n",
       "     Genre_2  Genre_3            actor_1         actor_2     actor_3  \\\n",
       "0  Adventure  Mystery  Jennifer Lawrence  Liam Hemsworth  Jack Quaid   \n",
       "1  Adventure  Mystery  Jennifer Lawrence  Liam Hemsworth  Jack Quaid   \n",
       "2  Adventure  Mystery  Jennifer Lawrence  Liam Hemsworth  Jack Quaid   \n",
       "3  Adventure  Mystery  Jennifer Lawrence  Liam Hemsworth  Jack Quaid   \n",
       "4  Adventure  Mystery  Jennifer Lawrence  Liam Hemsworth  Jack Quaid   \n",
       "\n",
       "   contract_price  studio_score  price_class   price  \n",
       "0            2600             6           10  1000.0  \n",
       "1            2600             6           10  1000.0  \n",
       "2            2600             6           10  1000.0  \n",
       "3            2600             6           10  1000.0  \n",
       "4            2600             6           10  1000.0  \n",
       "\n",
       "[5 rows x 32 columns]"
      ]
     },
     "execution_count": 55,
     "metadata": {},
     "output_type": "execute_result"
    }
   ],
   "source": [
    "#영화 데이터 불러오기\n",
    "raw_movie_data=pd.read_csv(\"./Data_OTT_update//download_inventory_final.csv\")\n",
    "raw_movie_data.head()"
   ]
  },
  {
   "cell_type": "code",
   "execution_count": 56,
   "metadata": {
    "collapsed": true
   },
   "outputs": [
    {
     "data": {
      "text/html": [
       "<div>\n",
       "<style scoped>\n",
       "    .dataframe tbody tr th:only-of-type {\n",
       "        vertical-align: middle;\n",
       "    }\n",
       "\n",
       "    .dataframe tbody tr th {\n",
       "        vertical-align: top;\n",
       "    }\n",
       "\n",
       "    .dataframe thead th {\n",
       "        text-align: right;\n",
       "    }\n",
       "</style>\n",
       "<table border=\"1\" class=\"dataframe\">\n",
       "  <thead>\n",
       "    <tr style=\"text-align: right;\">\n",
       "      <th></th>\n",
       "      <th>customer_id</th>\n",
       "      <th>gender</th>\n",
       "      <th>age</th>\n",
       "      <th>age_group</th>\n",
       "      <th>married</th>\n",
       "      <th>kids_under12</th>\n",
       "      <th>area</th>\n",
       "      <th>subs_start_year</th>\n",
       "      <th>download_count</th>\n",
       "      <th>total_price</th>\n",
       "      <th>class</th>\n",
       "    </tr>\n",
       "  </thead>\n",
       "  <tbody>\n",
       "    <tr>\n",
       "      <th>0</th>\n",
       "      <td>C5001</td>\n",
       "      <td>F</td>\n",
       "      <td>51</td>\n",
       "      <td>50대</td>\n",
       "      <td>M</td>\n",
       "      <td>N</td>\n",
       "      <td>용산구</td>\n",
       "      <td>2015</td>\n",
       "      <td>55</td>\n",
       "      <td>262000.0</td>\n",
       "      <td>Platinum</td>\n",
       "    </tr>\n",
       "    <tr>\n",
       "      <th>1</th>\n",
       "      <td>C5002</td>\n",
       "      <td>M</td>\n",
       "      <td>22</td>\n",
       "      <td>20대</td>\n",
       "      <td>S</td>\n",
       "      <td>N</td>\n",
       "      <td>강남구</td>\n",
       "      <td>2015</td>\n",
       "      <td>23</td>\n",
       "      <td>102200.0</td>\n",
       "      <td>Silver</td>\n",
       "    </tr>\n",
       "    <tr>\n",
       "      <th>2</th>\n",
       "      <td>C5003</td>\n",
       "      <td>F</td>\n",
       "      <td>33</td>\n",
       "      <td>30대</td>\n",
       "      <td>M</td>\n",
       "      <td>Y</td>\n",
       "      <td>서대문구</td>\n",
       "      <td>2015</td>\n",
       "      <td>55</td>\n",
       "      <td>270800.0</td>\n",
       "      <td>Platinum</td>\n",
       "    </tr>\n",
       "    <tr>\n",
       "      <th>3</th>\n",
       "      <td>C5004</td>\n",
       "      <td>F</td>\n",
       "      <td>24</td>\n",
       "      <td>20대</td>\n",
       "      <td>M</td>\n",
       "      <td>N</td>\n",
       "      <td>서대문구</td>\n",
       "      <td>2015</td>\n",
       "      <td>41</td>\n",
       "      <td>200400.0</td>\n",
       "      <td>Gold</td>\n",
       "    </tr>\n",
       "    <tr>\n",
       "      <th>4</th>\n",
       "      <td>C5005</td>\n",
       "      <td>F</td>\n",
       "      <td>35</td>\n",
       "      <td>30대</td>\n",
       "      <td>M</td>\n",
       "      <td>N</td>\n",
       "      <td>마포구</td>\n",
       "      <td>2015</td>\n",
       "      <td>34</td>\n",
       "      <td>165900.0</td>\n",
       "      <td>Gold</td>\n",
       "    </tr>\n",
       "    <tr>\n",
       "      <th>...</th>\n",
       "      <td>...</td>\n",
       "      <td>...</td>\n",
       "      <td>...</td>\n",
       "      <td>...</td>\n",
       "      <td>...</td>\n",
       "      <td>...</td>\n",
       "      <td>...</td>\n",
       "      <td>...</td>\n",
       "      <td>...</td>\n",
       "      <td>...</td>\n",
       "      <td>...</td>\n",
       "    </tr>\n",
       "    <tr>\n",
       "      <th>3272</th>\n",
       "      <td>C8273</td>\n",
       "      <td>F</td>\n",
       "      <td>43</td>\n",
       "      <td>40대</td>\n",
       "      <td>M</td>\n",
       "      <td>N</td>\n",
       "      <td>마포구</td>\n",
       "      <td>2018</td>\n",
       "      <td>8</td>\n",
       "      <td>37000.0</td>\n",
       "      <td>Bronze</td>\n",
       "    </tr>\n",
       "    <tr>\n",
       "      <th>3273</th>\n",
       "      <td>C8274</td>\n",
       "      <td>F</td>\n",
       "      <td>24</td>\n",
       "      <td>20대</td>\n",
       "      <td>M</td>\n",
       "      <td>N</td>\n",
       "      <td>송파구</td>\n",
       "      <td>2018</td>\n",
       "      <td>10</td>\n",
       "      <td>48700.0</td>\n",
       "      <td>Bronze</td>\n",
       "    </tr>\n",
       "    <tr>\n",
       "      <th>3274</th>\n",
       "      <td>C8275</td>\n",
       "      <td>F</td>\n",
       "      <td>55</td>\n",
       "      <td>50대</td>\n",
       "      <td>S</td>\n",
       "      <td>N</td>\n",
       "      <td>강남구</td>\n",
       "      <td>2018</td>\n",
       "      <td>9</td>\n",
       "      <td>44500.0</td>\n",
       "      <td>Bronze</td>\n",
       "    </tr>\n",
       "    <tr>\n",
       "      <th>3275</th>\n",
       "      <td>C8276</td>\n",
       "      <td>F</td>\n",
       "      <td>36</td>\n",
       "      <td>30대</td>\n",
       "      <td>S</td>\n",
       "      <td>Y</td>\n",
       "      <td>서대문구</td>\n",
       "      <td>2018</td>\n",
       "      <td>17</td>\n",
       "      <td>77500.0</td>\n",
       "      <td>Bronze</td>\n",
       "    </tr>\n",
       "    <tr>\n",
       "      <th>3276</th>\n",
       "      <td>C8277</td>\n",
       "      <td>M</td>\n",
       "      <td>37</td>\n",
       "      <td>30대</td>\n",
       "      <td>S</td>\n",
       "      <td>N</td>\n",
       "      <td>강남구</td>\n",
       "      <td>2018</td>\n",
       "      <td>10</td>\n",
       "      <td>48700.0</td>\n",
       "      <td>Bronze</td>\n",
       "    </tr>\n",
       "  </tbody>\n",
       "</table>\n",
       "<p>3277 rows × 11 columns</p>\n",
       "</div>"
      ],
      "text/plain": [
       "     customer_id gender  age age_group married kids_under12  area  \\\n",
       "0          C5001      F   51       50대       M            N   용산구   \n",
       "1          C5002      M   22       20대       S            N   강남구   \n",
       "2          C5003      F   33       30대       M            Y  서대문구   \n",
       "3          C5004      F   24       20대       M            N  서대문구   \n",
       "4          C5005      F   35       30대       M            N   마포구   \n",
       "...          ...    ...  ...       ...     ...          ...   ...   \n",
       "3272       C8273      F   43       40대       M            N   마포구   \n",
       "3273       C8274      F   24       20대       M            N   송파구   \n",
       "3274       C8275      F   55       50대       S            N   강남구   \n",
       "3275       C8276      F   36       30대       S            Y  서대문구   \n",
       "3276       C8277      M   37       30대       S            N   강남구   \n",
       "\n",
       "      subs_start_year  download_count  total_price     class  \n",
       "0                2015              55     262000.0  Platinum  \n",
       "1                2015              23     102200.0    Silver  \n",
       "2                2015              55     270800.0  Platinum  \n",
       "3                2015              41     200400.0      Gold  \n",
       "4                2015              34     165900.0      Gold  \n",
       "...               ...             ...          ...       ...  \n",
       "3272             2018               8      37000.0    Bronze  \n",
       "3273             2018              10      48700.0    Bronze  \n",
       "3274             2018               9      44500.0    Bronze  \n",
       "3275             2018              17      77500.0    Bronze  \n",
       "3276             2018              10      48700.0    Bronze  \n",
       "\n",
       "[3277 rows x 11 columns]"
      ]
     },
     "execution_count": 56,
     "metadata": {},
     "output_type": "execute_result"
    }
   ],
   "source": [
    "df_cus = pd.read_csv(\"Data_OTT_update//movie_custom_final.csv\", encoding = 'utf-8')\n",
    "df_cus"
   ]
  },
  {
   "cell_type": "markdown",
   "metadata": {},
   "source": [
    "### - 다운로드 횟수와 imdb 평점과의 관계"
   ]
  },
  {
   "cell_type": "code",
   "execution_count": 57,
   "metadata": {
    "collapsed": true
   },
   "outputs": [
    {
     "data": {
      "text/html": [
       "<div>\n",
       "<style scoped>\n",
       "    .dataframe tbody tr th:only-of-type {\n",
       "        vertical-align: middle;\n",
       "    }\n",
       "\n",
       "    .dataframe tbody tr th {\n",
       "        vertical-align: top;\n",
       "    }\n",
       "\n",
       "    .dataframe thead th {\n",
       "        text-align: right;\n",
       "    }\n",
       "</style>\n",
       "<table border=\"1\" class=\"dataframe\">\n",
       "  <thead>\n",
       "    <tr style=\"text-align: right;\">\n",
       "      <th></th>\n",
       "      <th>down_count</th>\n",
       "    </tr>\n",
       "    <tr>\n",
       "      <th>title</th>\n",
       "      <th></th>\n",
       "    </tr>\n",
       "  </thead>\n",
       "  <tbody>\n",
       "    <tr>\n",
       "      <th>American Sniper</th>\n",
       "      <td>1689</td>\n",
       "    </tr>\n",
       "    <tr>\n",
       "      <th>Ant-Man</th>\n",
       "      <td>1321</td>\n",
       "    </tr>\n",
       "    <tr>\n",
       "      <th>Avatar</th>\n",
       "      <td>1425</td>\n",
       "    </tr>\n",
       "    <tr>\n",
       "      <th>Avengers: Age of Ultron</th>\n",
       "      <td>2025</td>\n",
       "    </tr>\n",
       "    <tr>\n",
       "      <th>Batman v Superman: Dawn of Justice</th>\n",
       "      <td>1455</td>\n",
       "    </tr>\n",
       "    <tr>\n",
       "      <th>...</th>\n",
       "      <td>...</td>\n",
       "    </tr>\n",
       "    <tr>\n",
       "      <th>Trolls</th>\n",
       "      <td>1427</td>\n",
       "    </tr>\n",
       "    <tr>\n",
       "      <th>Up</th>\n",
       "      <td>916</td>\n",
       "    </tr>\n",
       "    <tr>\n",
       "      <th>Wonder Woman</th>\n",
       "      <td>865</td>\n",
       "    </tr>\n",
       "    <tr>\n",
       "      <th>X-Men: Apocalypse</th>\n",
       "      <td>574</td>\n",
       "    </tr>\n",
       "    <tr>\n",
       "      <th>Zootopia</th>\n",
       "      <td>1706</td>\n",
       "    </tr>\n",
       "  </tbody>\n",
       "</table>\n",
       "<p>94 rows × 1 columns</p>\n",
       "</div>"
      ],
      "text/plain": [
       "                                    down_count\n",
       "title                                         \n",
       "American Sniper                           1689\n",
       "Ant-Man                                   1321\n",
       "Avatar                                    1425\n",
       "Avengers: Age of Ultron                   2025\n",
       "Batman v Superman: Dawn of Justice        1455\n",
       "...                                        ...\n",
       "Trolls                                    1427\n",
       "Up                                         916\n",
       "Wonder Woman                               865\n",
       "X-Men: Apocalypse                          574\n",
       "Zootopia                                  1706\n",
       "\n",
       "[94 rows x 1 columns]"
      ]
     },
     "execution_count": 57,
     "metadata": {},
     "output_type": "execute_result"
    }
   ],
   "source": [
    "down_count_ = pd.DataFrame()\n",
    "down_count_[\"down_count\"] = raw_movie_data.groupby(['title']).size()\n",
    "down_count_"
   ]
  },
  {
   "cell_type": "code",
   "execution_count": 58,
   "metadata": {},
   "outputs": [],
   "source": [
    "df_in = raw_movie_data[['title','imdb_score']]\n",
    "df_in_uni = df_in.drop_duplicates()"
   ]
  },
  {
   "cell_type": "code",
   "execution_count": 59,
   "metadata": {
    "collapsed": true
   },
   "outputs": [
    {
     "data": {
      "text/html": [
       "<div>\n",
       "<style scoped>\n",
       "    .dataframe tbody tr th:only-of-type {\n",
       "        vertical-align: middle;\n",
       "    }\n",
       "\n",
       "    .dataframe tbody tr th {\n",
       "        vertical-align: top;\n",
       "    }\n",
       "\n",
       "    .dataframe thead th {\n",
       "        text-align: right;\n",
       "    }\n",
       "</style>\n",
       "<table border=\"1\" class=\"dataframe\">\n",
       "  <thead>\n",
       "    <tr style=\"text-align: right;\">\n",
       "      <th></th>\n",
       "      <th>imdb_score</th>\n",
       "    </tr>\n",
       "    <tr>\n",
       "      <th>title</th>\n",
       "      <th></th>\n",
       "    </tr>\n",
       "  </thead>\n",
       "  <tbody>\n",
       "    <tr>\n",
       "      <th>The Hunger Games: Catching Fire</th>\n",
       "      <td>7.5</td>\n",
       "    </tr>\n",
       "    <tr>\n",
       "      <th>The Chronicles of Narnia: The Lion, the Witc</th>\n",
       "      <td>6.9</td>\n",
       "    </tr>\n",
       "    <tr>\n",
       "      <th>Transformers: Revenge of the Fallen</th>\n",
       "      <td>6.0</td>\n",
       "    </tr>\n",
       "    <tr>\n",
       "      <th>Transformers: Dark of the Moon</th>\n",
       "      <td>6.2</td>\n",
       "    </tr>\n",
       "    <tr>\n",
       "      <th>Despicable Me 2</th>\n",
       "      <td>7.4</td>\n",
       "    </tr>\n",
       "    <tr>\n",
       "      <th>...</th>\n",
       "      <td>...</td>\n",
       "    </tr>\n",
       "    <tr>\n",
       "      <th>Get Out</th>\n",
       "      <td>7.7</td>\n",
       "    </tr>\n",
       "    <tr>\n",
       "      <th>Despicable Me 3</th>\n",
       "      <td>6.3</td>\n",
       "    </tr>\n",
       "    <tr>\n",
       "      <th>Dunkirk</th>\n",
       "      <td>7.9</td>\n",
       "    </tr>\n",
       "    <tr>\n",
       "      <th>It</th>\n",
       "      <td>7.4</td>\n",
       "    </tr>\n",
       "    <tr>\n",
       "      <th>The Fate of the Furious</th>\n",
       "      <td>6.7</td>\n",
       "    </tr>\n",
       "  </tbody>\n",
       "</table>\n",
       "<p>94 rows × 1 columns</p>\n",
       "</div>"
      ],
      "text/plain": [
       "                                              imdb_score\n",
       "title                                                   \n",
       "The Hunger Games: Catching Fire                      7.5\n",
       "The Chronicles of Narnia: The Lion, the Witc         6.9\n",
       "Transformers: Revenge of the Fallen                  6.0\n",
       "Transformers: Dark of the Moon                       6.2\n",
       "Despicable Me 2                                      7.4\n",
       "...                                                  ...\n",
       "Get Out                                              7.7\n",
       "Despicable Me 3                                      6.3\n",
       "Dunkirk                                              7.9\n",
       "It                                                   7.4\n",
       "The Fate of the Furious                              6.7\n",
       "\n",
       "[94 rows x 1 columns]"
      ]
     },
     "execution_count": 59,
     "metadata": {},
     "output_type": "execute_result"
    }
   ],
   "source": [
    "df = df_in_uni[['title','imdb_score']].set_index('title')\n",
    "df"
   ]
  },
  {
   "cell_type": "code",
   "execution_count": 60,
   "metadata": {},
   "outputs": [],
   "source": [
    "down_count_['imdb_score'] = df[['imdb_score']]"
   ]
  },
  {
   "cell_type": "code",
   "execution_count": 61,
   "metadata": {
    "collapsed": true
   },
   "outputs": [
    {
     "data": {
      "text/html": [
       "<div>\n",
       "<style scoped>\n",
       "    .dataframe tbody tr th:only-of-type {\n",
       "        vertical-align: middle;\n",
       "    }\n",
       "\n",
       "    .dataframe tbody tr th {\n",
       "        vertical-align: top;\n",
       "    }\n",
       "\n",
       "    .dataframe thead th {\n",
       "        text-align: right;\n",
       "    }\n",
       "</style>\n",
       "<table border=\"1\" class=\"dataframe\">\n",
       "  <thead>\n",
       "    <tr style=\"text-align: right;\">\n",
       "      <th></th>\n",
       "      <th>down_count</th>\n",
       "      <th>imdb_score</th>\n",
       "    </tr>\n",
       "    <tr>\n",
       "      <th>title</th>\n",
       "      <th></th>\n",
       "      <th></th>\n",
       "    </tr>\n",
       "  </thead>\n",
       "  <tbody>\n",
       "    <tr>\n",
       "      <th>American Sniper</th>\n",
       "      <td>1689</td>\n",
       "      <td>7.3</td>\n",
       "    </tr>\n",
       "    <tr>\n",
       "      <th>Ant-Man</th>\n",
       "      <td>1321</td>\n",
       "      <td>7.3</td>\n",
       "    </tr>\n",
       "    <tr>\n",
       "      <th>Avatar</th>\n",
       "      <td>1425</td>\n",
       "      <td>7.8</td>\n",
       "    </tr>\n",
       "    <tr>\n",
       "      <th>Avengers: Age of Ultron</th>\n",
       "      <td>2025</td>\n",
       "      <td>7.3</td>\n",
       "    </tr>\n",
       "    <tr>\n",
       "      <th>Batman v Superman: Dawn of Justice</th>\n",
       "      <td>1455</td>\n",
       "      <td>6.5</td>\n",
       "    </tr>\n",
       "    <tr>\n",
       "      <th>...</th>\n",
       "      <td>...</td>\n",
       "      <td>...</td>\n",
       "    </tr>\n",
       "    <tr>\n",
       "      <th>Trolls</th>\n",
       "      <td>1427</td>\n",
       "      <td>6.5</td>\n",
       "    </tr>\n",
       "    <tr>\n",
       "      <th>Up</th>\n",
       "      <td>916</td>\n",
       "      <td>8.2</td>\n",
       "    </tr>\n",
       "    <tr>\n",
       "      <th>Wonder Woman</th>\n",
       "      <td>865</td>\n",
       "      <td>7.4</td>\n",
       "    </tr>\n",
       "    <tr>\n",
       "      <th>X-Men: Apocalypse</th>\n",
       "      <td>574</td>\n",
       "      <td>6.9</td>\n",
       "    </tr>\n",
       "    <tr>\n",
       "      <th>Zootopia</th>\n",
       "      <td>1706</td>\n",
       "      <td>8.0</td>\n",
       "    </tr>\n",
       "  </tbody>\n",
       "</table>\n",
       "<p>94 rows × 2 columns</p>\n",
       "</div>"
      ],
      "text/plain": [
       "                                    down_count  imdb_score\n",
       "title                                                     \n",
       "American Sniper                           1689         7.3\n",
       "Ant-Man                                   1321         7.3\n",
       "Avatar                                    1425         7.8\n",
       "Avengers: Age of Ultron                   2025         7.3\n",
       "Batman v Superman: Dawn of Justice        1455         6.5\n",
       "...                                        ...         ...\n",
       "Trolls                                    1427         6.5\n",
       "Up                                         916         8.2\n",
       "Wonder Woman                               865         7.4\n",
       "X-Men: Apocalypse                          574         6.9\n",
       "Zootopia                                  1706         8.0\n",
       "\n",
       "[94 rows x 2 columns]"
      ]
     },
     "execution_count": 61,
     "metadata": {},
     "output_type": "execute_result"
    }
   ],
   "source": [
    "down_count_"
   ]
  },
  {
   "cell_type": "code",
   "execution_count": 62,
   "metadata": {
    "collapsed": true
   },
   "outputs": [
    {
     "name": "stderr",
     "output_type": "stream",
     "text": [
      "No handles with labels found to put in legend.\n"
     ]
    },
    {
     "data": {
      "image/png": "[encoded data removed]",
      "text/plain": [
       "<Figure size 432x288 with 1 Axes>"
      ]
     },
     "metadata": {
      "needs_background": "light"
     },
     "output_type": "display_data"
    }
   ],
   "source": [
    "import matplotlib.pylab as plt\n",
    "\n",
    "plt.scatter( down_count_['down_count'], down_count_['imdb_score'])\n",
    "\n",
    "plt.legend(loc = \"best\")\n",
    "plt.xlabel('download')\n",
    "plt.ylabel('imdb_seore')\n",
    "plt.show()"
   ]
  },
  {
   "cell_type": "markdown",
   "metadata": {},
   "source": [
    "## 막대그래프 + 추세선 추가 ★"
   ]
  },
  {
   "cell_type": "code",
   "execution_count": 152,
   "metadata": {},
   "outputs": [],
   "source": [
    "### - 요일과 다운로드 횟수의 관계\n",
    "\n",
    "df_down = pd.read_csv('Data_OTT//movie_down.csv', encoding = 'euc-kr')\n",
    "df_down.head()\n",
    "df = df_down[['down_weekday','item_id']]\n",
    "df = pd.DataFrame(df[['down_weekday']].value_counts()).reindex()\n",
    "\n",
    "df_ch = df.reindex([('Mon',),('Tue',),('Wed',),('Thu',),('Fri',),('Sat',),('Sun',)])"
   ]
  },
  {
   "cell_type": "code",
   "execution_count": 154,
   "metadata": {},
   "outputs": [
    {
     "data": {
      "text/plain": [
       "[11037, 5597, 12169, 17984, 27159, 22520, 19998]"
      ]
     },
     "execution_count": 154,
     "metadata": {},
     "output_type": "execute_result"
    }
   ],
   "source": [
    "li = []\n",
    "for i in df_ch[0]:\n",
    "    li.append(i)\n",
    "li"
   ]
  },
  {
   "cell_type": "code",
   "execution_count": 155,
   "metadata": {},
   "outputs": [
    {
     "data": {
      "text/plain": [
       "['Mon', 'Tue', 'Wed', 'Thu', 'Fri', 'Sat', 'Sun']"
      ]
     },
     "execution_count": 155,
     "metadata": {},
     "output_type": "execute_result"
    }
   ],
   "source": [
    "li_x = []\n",
    "for i in df_ch.index:\n",
    "    li_x.append(list(i)[0])\n",
    "li_x"
   ]
  },
  {
   "cell_type": "code",
   "execution_count": 218,
   "metadata": {
    "collapsed": true
   },
   "outputs": [
    {
     "data": {
      "text/plain": [
       "Text(0, 0.5, '요일별 누적 다운로드 횟수')"
      ]
     },
     "execution_count": 218,
     "metadata": {},
     "output_type": "execute_result"
    },
    {
     "data": {
      "image/png": "[encoded data removed]",
      "text/plain": [
       "<Figure size 1080x504 with 1 Axes>"
      ]
     },
     "metadata": {
      "needs_background": "light"
     },
     "output_type": "display_data"
    }
   ],
   "source": [
    "colors = sns.color_palette('mako', len(li_x))\n",
    "plt.figure(figsize = (15,7))\n",
    "plt.plot(li_x, li, color = 'deeppink', marker = 'o', linewidth=4.0)\n",
    "plt.bar(li_x, li, color=colors)\n",
    "plt.xticks(fontsize = 17)\n",
    "plt.yticks(fontsize = 17)\n",
    "plt.xlabel(\"요일\", fontsize = 20)\n",
    "plt.ylabel(\"요일별 누적 다운로드 횟수\", fontsize = 20)"
   ]
  },
  {
   "cell_type": "code",
   "execution_count": 187,
   "metadata": {
    "collapsed": true
   },
   "outputs": [
    {
     "data": {
      "text/plain": [
       "<AxesSubplot:xlabel='down_weekday'>"
      ]
     },
     "execution_count": 187,
     "metadata": {},
     "output_type": "execute_result"
    },
    {
     "data": {
      "image/png": "[encoded data removed]",
      "text/plain": [
       "<Figure size 432x288 with 1 Axes>"
      ]
     },
     "metadata": {
      "needs_background": "light"
     },
     "output_type": "display_data"
    }
   ],
   "source": [
    "week_day.plot()"
   ]
  },
  {
   "cell_type": "markdown",
   "metadata": {},
   "source": [
    "### - 고객의 장르선호도 / 전체 영화 장르 수"
   ]
  },
  {
   "cell_type": "code",
   "execution_count": 64,
   "metadata": {},
   "outputs": [
    {
     "data": {
      "text/plain": [
       "(116464, 32)"
      ]
     },
     "execution_count": 64,
     "metadata": {},
     "output_type": "execute_result"
    }
   ],
   "source": [
    "df_di = pd.read_csv('Data_OTT_update/download_inventory_final.csv', encoding = 'utf-8')\n",
    "df_di.shape"
   ]
  },
  {
   "cell_type": "code",
   "execution_count": 65,
   "metadata": {},
   "outputs": [
    {
     "data": {
      "text/plain": [
       "(116464, 8)"
      ]
     },
     "execution_count": 65,
     "metadata": {},
     "output_type": "execute_result"
    }
   ],
   "source": [
    "df_down = pd.read_csv('Data_OTT//download_month.csv', encoding = 'euc-kr')\n",
    "df_down.shape"
   ]
  },
  {
   "cell_type": "code",
   "execution_count": 66,
   "metadata": {
    "collapsed": true
   },
   "outputs": [
    {
     "data": {
      "text/html": [
       "<div>\n",
       "<style scoped>\n",
       "    .dataframe tbody tr th:only-of-type {\n",
       "        vertical-align: middle;\n",
       "    }\n",
       "\n",
       "    .dataframe tbody tr th {\n",
       "        vertical-align: top;\n",
       "    }\n",
       "\n",
       "    .dataframe thead th {\n",
       "        text-align: right;\n",
       "    }\n",
       "</style>\n",
       "<table border=\"1\" class=\"dataframe\">\n",
       "  <thead>\n",
       "    <tr style=\"text-align: right;\">\n",
       "      <th></th>\n",
       "      <th>customer_id</th>\n",
       "    </tr>\n",
       "  </thead>\n",
       "  <tbody>\n",
       "    <tr>\n",
       "      <th>0</th>\n",
       "      <td>C5001</td>\n",
       "    </tr>\n",
       "    <tr>\n",
       "      <th>1</th>\n",
       "      <td>C5001</td>\n",
       "    </tr>\n",
       "    <tr>\n",
       "      <th>2</th>\n",
       "      <td>C5001</td>\n",
       "    </tr>\n",
       "    <tr>\n",
       "      <th>3</th>\n",
       "      <td>C5001</td>\n",
       "    </tr>\n",
       "    <tr>\n",
       "      <th>4</th>\n",
       "      <td>C5001</td>\n",
       "    </tr>\n",
       "    <tr>\n",
       "      <th>...</th>\n",
       "      <td>...</td>\n",
       "    </tr>\n",
       "    <tr>\n",
       "      <th>116459</th>\n",
       "      <td>C8277</td>\n",
       "    </tr>\n",
       "    <tr>\n",
       "      <th>116460</th>\n",
       "      <td>C8277</td>\n",
       "    </tr>\n",
       "    <tr>\n",
       "      <th>116461</th>\n",
       "      <td>C8277</td>\n",
       "    </tr>\n",
       "    <tr>\n",
       "      <th>116462</th>\n",
       "      <td>C8277</td>\n",
       "    </tr>\n",
       "    <tr>\n",
       "      <th>116463</th>\n",
       "      <td>C8277</td>\n",
       "    </tr>\n",
       "  </tbody>\n",
       "</table>\n",
       "<p>116464 rows × 1 columns</p>\n",
       "</div>"
      ],
      "text/plain": [
       "       customer_id\n",
       "0            C5001\n",
       "1            C5001\n",
       "2            C5001\n",
       "3            C5001\n",
       "4            C5001\n",
       "...            ...\n",
       "116459       C8277\n",
       "116460       C8277\n",
       "116461       C8277\n",
       "116462       C8277\n",
       "116463       C8277\n",
       "\n",
       "[116464 rows x 1 columns]"
      ]
     },
     "execution_count": 66,
     "metadata": {},
     "output_type": "execute_result"
    }
   ],
   "source": [
    "df1 = df_down[['customer_id']]\n",
    "df1"
   ]
  },
  {
   "cell_type": "code",
   "execution_count": 67,
   "metadata": {
    "collapsed": true
   },
   "outputs": [
    {
     "data": {
      "text/plain": [
       "Counter({'Action': 61161,\n",
       "         'Adventure': 83862,\n",
       "         'Animation': 27133,\n",
       "         'Drama': 22584,\n",
       "         'Comedy': 42150,\n",
       "         'Biography': 9550,\n",
       "         'Horror': 2094,\n",
       "         'Family': 15667,\n",
       "         'Sci-Fi': 28370,\n",
       "         'Fantasy': 15373,\n",
       "         'Crime': 4247,\n",
       "         'Music': 1479,\n",
       "         'Romance': 3239,\n",
       "         'Thriller': 9212,\n",
       "         'Mystery': 1135,\n",
       "         'Sport': 1380,\n",
       "         'History': 6288})"
      ]
     },
     "execution_count": 67,
     "metadata": {},
     "output_type": "execute_result"
    }
   ],
   "source": [
    "users_gen = Counter(df_di['Genre_1']) + Counter(df_di['Genre_2']) + Counter(df_di['Genre_3'])\n",
    "del users_gen['ETC']\n",
    "users_gen"
   ]
  },
  {
   "cell_type": "code",
   "execution_count": 68,
   "metadata": {},
   "outputs": [],
   "source": [
    "users_gen = sorted(users_gen.items(), key=lambda x: x[1], reverse=True)"
   ]
  },
  {
   "cell_type": "code",
   "execution_count": 69,
   "metadata": {
    "collapsed": true
   },
   "outputs": [
    {
     "data": {
      "text/plain": [
       "{'Adventure': 83862,\n",
       " 'Action': 61161,\n",
       " 'Comedy': 42150,\n",
       " 'Sci-Fi': 28370,\n",
       " 'Animation': 27133,\n",
       " 'Drama': 22584,\n",
       " 'Family': 15667,\n",
       " 'Fantasy': 15373,\n",
       " 'Biography': 9550,\n",
       " 'Thriller': 9212,\n",
       " 'History': 6288,\n",
       " 'Crime': 4247,\n",
       " 'Romance': 3239,\n",
       " 'Horror': 2094,\n",
       " 'Music': 1479,\n",
       " 'Sport': 1380,\n",
       " 'Mystery': 1135}"
      ]
     },
     "execution_count": 69,
     "metadata": {},
     "output_type": "execute_result"
    }
   ],
   "source": [
    "users_gen = dict(users_gen)\n",
    "users_gen"
   ]
  },
  {
   "cell_type": "code",
   "execution_count": 70,
   "metadata": {
    "collapsed": true
   },
   "outputs": [
    {
     "data": {
      "image/png": "[encoded data removed]",
      "text/plain": [
       "<Figure size 1440x720 with 1 Axes>"
      ]
     },
     "metadata": {
      "needs_background": "light"
     },
     "output_type": "display_data"
    }
   ],
   "source": [
    "gen_x = []\n",
    "gen_y = []\n",
    "\n",
    "for key, value in users_gen.items():\n",
    "    gen_x.append(key)\n",
    "    gen_y.append(value)\n",
    "\n",
    "plt.figure(figsize = (20,10))\n",
    "plt.bar(gen_x, gen_y)\n",
    "plt.xlabel('movie genres', fontsize = (15))\n",
    "plt.ylabel('download by customers', fontsize = 15)\n",
    "plt.show()"
   ]
  },
  {
   "cell_type": "code",
   "execution_count": 71,
   "metadata": {
    "scrolled": true
   },
   "outputs": [
    {
     "data": {
      "text/html": [
       "<div>\n",
       "<style scoped>\n",
       "    .dataframe tbody tr th:only-of-type {\n",
       "        vertical-align: middle;\n",
       "    }\n",
       "\n",
       "    .dataframe tbody tr th {\n",
       "        vertical-align: top;\n",
       "    }\n",
       "\n",
       "    .dataframe thead th {\n",
       "        text-align: right;\n",
       "    }\n",
       "</style>\n",
       "<table border=\"1\" class=\"dataframe\">\n",
       "  <thead>\n",
       "    <tr style=\"text-align: right;\">\n",
       "      <th></th>\n",
       "      <th>item_id</th>\n",
       "      <th>contract_year</th>\n",
       "      <th>movie_id</th>\n",
       "      <th>title</th>\n",
       "      <th>release_year</th>\n",
       "      <th>release_date</th>\n",
       "      <th>runtime</th>\n",
       "      <th>mpa_rating</th>\n",
       "      <th>mpa_rating_origin</th>\n",
       "      <th>imdb_score</th>\n",
       "      <th>...</th>\n",
       "      <th>director</th>\n",
       "      <th>Genre_1</th>\n",
       "      <th>Genre_2</th>\n",
       "      <th>Genre_3</th>\n",
       "      <th>actor_1</th>\n",
       "      <th>actor_2</th>\n",
       "      <th>actor_3</th>\n",
       "      <th>contract_price</th>\n",
       "      <th>studio_score</th>\n",
       "      <th>price_class</th>\n",
       "    </tr>\n",
       "  </thead>\n",
       "  <tbody>\n",
       "    <tr>\n",
       "      <th>0</th>\n",
       "      <td>I-1001</td>\n",
       "      <td>2015</td>\n",
       "      <td>tt0121766</td>\n",
       "      <td>Star Wars: Episode III - Revenge of the Sith</td>\n",
       "      <td>2005</td>\n",
       "      <td>05-19-2005</td>\n",
       "      <td>140</td>\n",
       "      <td>PG-13</td>\n",
       "      <td>PG-13</td>\n",
       "      <td>7.5</td>\n",
       "      <td>...</td>\n",
       "      <td>George Lucas</td>\n",
       "      <td>Action</td>\n",
       "      <td>Adventure</td>\n",
       "      <td>Fantasy</td>\n",
       "      <td>Ewan McGregor</td>\n",
       "      <td>Natalie Portman</td>\n",
       "      <td>Hayden Christensen</td>\n",
       "      <td>2700</td>\n",
       "      <td>10</td>\n",
       "      <td>10</td>\n",
       "    </tr>\n",
       "    <tr>\n",
       "      <th>1</th>\n",
       "      <td>I-1002</td>\n",
       "      <td>2015</td>\n",
       "      <td>tt0330373</td>\n",
       "      <td>Harry Potter and the Goblet of Fire</td>\n",
       "      <td>2005</td>\n",
       "      <td>11-18-2005</td>\n",
       "      <td>157</td>\n",
       "      <td>PG-13</td>\n",
       "      <td>PG-13</td>\n",
       "      <td>7.7</td>\n",
       "      <td>...</td>\n",
       "      <td>Mike Newell</td>\n",
       "      <td>Adventure</td>\n",
       "      <td>Family</td>\n",
       "      <td>Fantasy</td>\n",
       "      <td>Eric Sykes</td>\n",
       "      <td>Timothy Spall</td>\n",
       "      <td>David Tennant</td>\n",
       "      <td>2700</td>\n",
       "      <td>10</td>\n",
       "      <td>10</td>\n",
       "    </tr>\n",
       "    <tr>\n",
       "      <th>2</th>\n",
       "      <td>I-1003</td>\n",
       "      <td>2015</td>\n",
       "      <td>tt0363771</td>\n",
       "      <td>The Chronicles of Narnia: The Lion, the Witc</td>\n",
       "      <td>2005</td>\n",
       "      <td>12-09-2005</td>\n",
       "      <td>143</td>\n",
       "      <td>PG</td>\n",
       "      <td>PG</td>\n",
       "      <td>6.9</td>\n",
       "      <td>...</td>\n",
       "      <td>Andrew Adamson</td>\n",
       "      <td>Adventure</td>\n",
       "      <td>Family</td>\n",
       "      <td>Fantasy</td>\n",
       "      <td>Georgie Henley</td>\n",
       "      <td>Skandar Keynes</td>\n",
       "      <td>William Moseley</td>\n",
       "      <td>2295</td>\n",
       "      <td>10</td>\n",
       "      <td>1</td>\n",
       "    </tr>\n",
       "    <tr>\n",
       "      <th>3</th>\n",
       "      <td>I-1004</td>\n",
       "      <td>2015</td>\n",
       "      <td>tt0383574</td>\n",
       "      <td>Pirates of the Caribbean: Dead Man's Chest</td>\n",
       "      <td>2006</td>\n",
       "      <td>07-07-2006</td>\n",
       "      <td>151</td>\n",
       "      <td>PG-13</td>\n",
       "      <td>PG-13</td>\n",
       "      <td>7.3</td>\n",
       "      <td>...</td>\n",
       "      <td>Gore Verbinski</td>\n",
       "      <td>Action</td>\n",
       "      <td>Adventure</td>\n",
       "      <td>Fantasy</td>\n",
       "      <td>Johnny Depp</td>\n",
       "      <td>Orlando Bloom</td>\n",
       "      <td>Keira Knightley</td>\n",
       "      <td>2295</td>\n",
       "      <td>10</td>\n",
       "      <td>1</td>\n",
       "    </tr>\n",
       "    <tr>\n",
       "      <th>4</th>\n",
       "      <td>I-1005</td>\n",
       "      <td>2015</td>\n",
       "      <td>tt0413300</td>\n",
       "      <td>Spider-Man 3</td>\n",
       "      <td>2007</td>\n",
       "      <td>05-04-2007</td>\n",
       "      <td>139</td>\n",
       "      <td>PG-13</td>\n",
       "      <td>PG-13</td>\n",
       "      <td>6.2</td>\n",
       "      <td>...</td>\n",
       "      <td>Sam Raimi</td>\n",
       "      <td>Action</td>\n",
       "      <td>Adventure</td>\n",
       "      <td>Sci-Fi</td>\n",
       "      <td>Tobey Maguire</td>\n",
       "      <td>Kirsten Dunst</td>\n",
       "      <td>James Franco</td>\n",
       "      <td>2295</td>\n",
       "      <td>10</td>\n",
       "      <td>1</td>\n",
       "    </tr>\n",
       "    <tr>\n",
       "      <th>...</th>\n",
       "      <td>...</td>\n",
       "      <td>...</td>\n",
       "      <td>...</td>\n",
       "      <td>...</td>\n",
       "      <td>...</td>\n",
       "      <td>...</td>\n",
       "      <td>...</td>\n",
       "      <td>...</td>\n",
       "      <td>...</td>\n",
       "      <td>...</td>\n",
       "      <td>...</td>\n",
       "      <td>...</td>\n",
       "      <td>...</td>\n",
       "      <td>...</td>\n",
       "      <td>...</td>\n",
       "      <td>...</td>\n",
       "      <td>...</td>\n",
       "      <td>...</td>\n",
       "      <td>...</td>\n",
       "      <td>...</td>\n",
       "      <td>...</td>\n",
       "    </tr>\n",
       "    <tr>\n",
       "      <th>101</th>\n",
       "      <td>I-1102</td>\n",
       "      <td>2019</td>\n",
       "      <td>tt5095030</td>\n",
       "      <td>Ant-Man and the Wasp</td>\n",
       "      <td>2018</td>\n",
       "      <td>07-06-2018</td>\n",
       "      <td>118</td>\n",
       "      <td>PG-13</td>\n",
       "      <td>PG-13</td>\n",
       "      <td>7.1</td>\n",
       "      <td>...</td>\n",
       "      <td>Peyton Reed</td>\n",
       "      <td>Action</td>\n",
       "      <td>Adventure</td>\n",
       "      <td>Comedy</td>\n",
       "      <td>Paul Rudd</td>\n",
       "      <td>Evangeline Lilly</td>\n",
       "      <td>Michael Pe　a</td>\n",
       "      <td>2295</td>\n",
       "      <td>10</td>\n",
       "      <td>1</td>\n",
       "    </tr>\n",
       "    <tr>\n",
       "      <th>102</th>\n",
       "      <td>I-1103</td>\n",
       "      <td>2019</td>\n",
       "      <td>tt4912910</td>\n",
       "      <td>Mission: Impossible - Fallout</td>\n",
       "      <td>2018</td>\n",
       "      <td>07-27-2018</td>\n",
       "      <td>147</td>\n",
       "      <td>PG-13</td>\n",
       "      <td>PG-13</td>\n",
       "      <td>7.8</td>\n",
       "      <td>...</td>\n",
       "      <td>Christopher McQua</td>\n",
       "      <td>Action</td>\n",
       "      <td>Adventure</td>\n",
       "      <td>Thriller</td>\n",
       "      <td>Tom Cruise</td>\n",
       "      <td>Henry Cavill</td>\n",
       "      <td>Ving Rhames</td>\n",
       "      <td>2700</td>\n",
       "      <td>10</td>\n",
       "      <td>10</td>\n",
       "    </tr>\n",
       "    <tr>\n",
       "      <th>103</th>\n",
       "      <td>I-1104</td>\n",
       "      <td>2019</td>\n",
       "      <td>tt1727824</td>\n",
       "      <td>Bohemian Rhapsody</td>\n",
       "      <td>2018</td>\n",
       "      <td>11-02-2018</td>\n",
       "      <td>134</td>\n",
       "      <td>PG-13</td>\n",
       "      <td>PG-13</td>\n",
       "      <td>8.0</td>\n",
       "      <td>...</td>\n",
       "      <td>Bryan Singer</td>\n",
       "      <td>Biography</td>\n",
       "      <td>Drama</td>\n",
       "      <td>Music</td>\n",
       "      <td>Rami Malek</td>\n",
       "      <td>Lucy Boynton</td>\n",
       "      <td>Gwilym Lee</td>\n",
       "      <td>2600</td>\n",
       "      <td>6</td>\n",
       "      <td>10</td>\n",
       "    </tr>\n",
       "    <tr>\n",
       "      <th>104</th>\n",
       "      <td>I-1105</td>\n",
       "      <td>2019</td>\n",
       "      <td>tt5848272</td>\n",
       "      <td>Bohemian Rhapsody</td>\n",
       "      <td>2018</td>\n",
       "      <td>11-21-2018</td>\n",
       "      <td>112</td>\n",
       "      <td>PG</td>\n",
       "      <td>PG</td>\n",
       "      <td>7.1</td>\n",
       "      <td>...</td>\n",
       "      <td>Phil Johnston</td>\n",
       "      <td>Animation</td>\n",
       "      <td>Adventure</td>\n",
       "      <td>Comedy</td>\n",
       "      <td>John C. Reilly</td>\n",
       "      <td>Sarah Silverman</td>\n",
       "      <td>Gal Gadot</td>\n",
       "      <td>2295</td>\n",
       "      <td>10</td>\n",
       "      <td>1</td>\n",
       "    </tr>\n",
       "    <tr>\n",
       "      <th>105</th>\n",
       "      <td>I-1106</td>\n",
       "      <td>2019</td>\n",
       "      <td>tt1477834</td>\n",
       "      <td>Aquaman</td>\n",
       "      <td>2018</td>\n",
       "      <td>12-21-2018</td>\n",
       "      <td>143</td>\n",
       "      <td>PG-13</td>\n",
       "      <td>PG-13</td>\n",
       "      <td>7.0</td>\n",
       "      <td>...</td>\n",
       "      <td>James Wan</td>\n",
       "      <td>Action</td>\n",
       "      <td>Adventure</td>\n",
       "      <td>Fantasy</td>\n",
       "      <td>Jason Momoa</td>\n",
       "      <td>Amber Heard</td>\n",
       "      <td>Willem Dafoe</td>\n",
       "      <td>2295</td>\n",
       "      <td>10</td>\n",
       "      <td>1</td>\n",
       "    </tr>\n",
       "  </tbody>\n",
       "</table>\n",
       "<p>106 rows × 32 columns</p>\n",
       "</div>"
      ],
      "text/plain": [
       "    item_id  contract_year   movie_id  \\\n",
       "0    I-1001           2015  tt0121766   \n",
       "1    I-1002           2015  tt0330373   \n",
       "2    I-1003           2015  tt0363771   \n",
       "3    I-1004           2015  tt0383574   \n",
       "4    I-1005           2015  tt0413300   \n",
       "..      ...            ...        ...   \n",
       "101  I-1102           2019  tt5095030   \n",
       "102  I-1103           2019  tt4912910   \n",
       "103  I-1104           2019  tt1727824   \n",
       "104  I-1105           2019  tt5848272   \n",
       "105  I-1106           2019  tt1477834   \n",
       "\n",
       "                                            title  release_year release_date  \\\n",
       "0    Star Wars: Episode III - Revenge of the Sith          2005   05-19-2005   \n",
       "1             Harry Potter and the Goblet of Fire          2005   11-18-2005   \n",
       "2    The Chronicles of Narnia: The Lion, the Witc          2005   12-09-2005   \n",
       "3      Pirates of the Caribbean: Dead Man's Chest          2006   07-07-2006   \n",
       "4                                    Spider-Man 3          2007   05-04-2007   \n",
       "..                                            ...           ...          ...   \n",
       "101                          Ant-Man and the Wasp          2018   07-06-2018   \n",
       "102                 Mission: Impossible - Fallout          2018   07-27-2018   \n",
       "103                             Bohemian Rhapsody          2018   11-02-2018   \n",
       "104                             Bohemian Rhapsody          2018   11-21-2018   \n",
       "105                                       Aquaman          2018   12-21-2018   \n",
       "\n",
       "     runtime mpa_rating mpa_rating_origin  imdb_score  ...           director  \\\n",
       "0        140      PG-13             PG-13         7.5  ...       George Lucas   \n",
       "1        157      PG-13             PG-13         7.7  ...        Mike Newell   \n",
       "2        143         PG                PG         6.9  ...     Andrew Adamson   \n",
       "3        151      PG-13             PG-13         7.3  ...     Gore Verbinski   \n",
       "4        139      PG-13             PG-13         6.2  ...          Sam Raimi   \n",
       "..       ...        ...               ...         ...  ...                ...   \n",
       "101      118      PG-13             PG-13         7.1  ...        Peyton Reed   \n",
       "102      147      PG-13             PG-13         7.8  ...  Christopher McQua   \n",
       "103      134      PG-13             PG-13         8.0  ...       Bryan Singer   \n",
       "104      112         PG                PG         7.1  ...      Phil Johnston   \n",
       "105      143      PG-13             PG-13         7.0  ...          James Wan   \n",
       "\n",
       "       Genre_1    Genre_2   Genre_3         actor_1           actor_2  \\\n",
       "0       Action  Adventure   Fantasy   Ewan McGregor   Natalie Portman   \n",
       "1    Adventure     Family   Fantasy      Eric Sykes     Timothy Spall   \n",
       "2    Adventure     Family   Fantasy  Georgie Henley    Skandar Keynes   \n",
       "3       Action  Adventure   Fantasy     Johnny Depp     Orlando Bloom   \n",
       "4       Action  Adventure    Sci-Fi   Tobey Maguire     Kirsten Dunst   \n",
       "..         ...        ...       ...             ...               ...   \n",
       "101     Action  Adventure    Comedy       Paul Rudd  Evangeline Lilly   \n",
       "102     Action  Adventure  Thriller      Tom Cruise      Henry Cavill   \n",
       "103  Biography      Drama     Music      Rami Malek      Lucy Boynton   \n",
       "104  Animation  Adventure    Comedy  John C. Reilly   Sarah Silverman   \n",
       "105     Action  Adventure   Fantasy     Jason Momoa       Amber Heard   \n",
       "\n",
       "                actor_3  contract_price studio_score price_class  \n",
       "0    Hayden Christensen            2700           10          10  \n",
       "1         David Tennant            2700           10          10  \n",
       "2       William Moseley            2295           10           1  \n",
       "3       Keira Knightley            2295           10           1  \n",
       "4          James Franco            2295           10           1  \n",
       "..                  ...             ...          ...         ...  \n",
       "101        Michael Pe　a            2295           10           1  \n",
       "102         Ving Rhames            2700           10          10  \n",
       "103          Gwilym Lee            2600            6          10  \n",
       "104           Gal Gadot            2295           10           1  \n",
       "105        Willem Dafoe            2295           10           1  \n",
       "\n",
       "[106 rows x 32 columns]"
      ]
     },
     "execution_count": 71,
     "metadata": {},
     "output_type": "execute_result"
    }
   ],
   "source": [
    "df_in = pd.read_csv('Data_OTT/movie_inventory.csv', encoding = 'euc-kr')\n",
    "df_in"
   ]
  },
  {
   "cell_type": "code",
   "execution_count": 72,
   "metadata": {
    "collapsed": true
   },
   "outputs": [
    {
     "data": {
      "text/plain": [
       "Counter({'Action': 61,\n",
       "         'Adventure': 83,\n",
       "         'Animation': 23,\n",
       "         'Comedy': 35,\n",
       "         'Biography': 6,\n",
       "         'Drama': 16,\n",
       "         'Horror': 3,\n",
       "         'Family': 11,\n",
       "         'Crime': 3,\n",
       "         nan: 13,\n",
       "         'Sci-Fi': 30,\n",
       "         'Fantasy': 16,\n",
       "         'Romance': 2,\n",
       "         'Music': 2,\n",
       "         'Thriller': 8,\n",
       "         'Mystery': 2,\n",
       "         'Sport': 1,\n",
       "         'History': 3})"
      ]
     },
     "execution_count": 72,
     "metadata": {},
     "output_type": "execute_result"
    }
   ],
   "source": [
    "theater_gen = Counter(df_in['Genre_1']) + Counter(df_in['Genre_2']) + Counter(df_in['Genre_3'])\n",
    "theater_gen"
   ]
  },
  {
   "cell_type": "code",
   "execution_count": 73,
   "metadata": {
    "collapsed": true
   },
   "outputs": [
    {
     "data": {
      "text/plain": [
       "{'Action': 61,\n",
       " 'Adventure': 83,\n",
       " 'Animation': 23,\n",
       " 'Comedy': 35,\n",
       " 'Drama': 16,\n",
       " 'Family': 11,\n",
       " nan: 13,\n",
       " 'Sci-Fi': 30,\n",
       " 'Fantasy': 16,\n",
       " 'Thriller': 8}"
      ]
     },
     "execution_count": 73,
     "metadata": {},
     "output_type": "execute_result"
    }
   ],
   "source": [
    "new_dic = {}\n",
    "for key, value in theater_gen.items():\n",
    "    if theater_gen[key] >= 8:\n",
    "        new_dic[key] = value\n",
    "\n",
    "new_dic"
   ]
  },
  {
   "cell_type": "code",
   "execution_count": 74,
   "metadata": {},
   "outputs": [
    {
     "data": {
      "text/plain": [
       "{'Action': 1002.639344262295,\n",
       " 'Adventure': 1010.3855421686746,\n",
       " 'Animation': 1179.695652173913,\n",
       " 'Comedy': 1204.2857142857142,\n",
       " 'Drama': 1411.5,\n",
       " 'Family': 1424.2727272727273,\n",
       " 'Sci-Fi': 945.6666666666666,\n",
       " 'Fantasy': 960.8125,\n",
       " 'Thriller': 1151.5}"
      ]
     },
     "execution_count": 74,
     "metadata": {},
     "output_type": "execute_result"
    }
   ],
   "source": [
    "genre_dict = {}\n",
    "\n",
    "for title, num in new_dic.items():\n",
    "    if title not in users_gen.keys():\n",
    "        pass\n",
    "    else:\n",
    "        d = users_gen[title] / new_dic[title]\n",
    "        genre_dict[title] = d\n",
    "    \n",
    "genre_dict"
   ]
  },
  {
   "cell_type": "code",
   "execution_count": 75,
   "metadata": {
    "collapsed": true
   },
   "outputs": [
    {
     "data": {
      "text/plain": [
       "{'Family': 1424.2727272727273,\n",
       " 'Drama': 1411.5,\n",
       " 'Comedy': 1204.2857142857142,\n",
       " 'Animation': 1179.695652173913,\n",
       " 'Thriller': 1151.5,\n",
       " 'Adventure': 1010.3855421686746,\n",
       " 'Action': 1002.639344262295,\n",
       " 'Fantasy': 960.8125,\n",
       " 'Sci-Fi': 945.6666666666666}"
      ]
     },
     "execution_count": 75,
     "metadata": {},
     "output_type": "execute_result"
    }
   ],
   "source": [
    "genre_dict = sorted(genre_dict.items(), key=lambda x: x[1], reverse=True)\n",
    "genre_dict = dict(genre_dict)\n",
    "genre_dict"
   ]
  },
  {
   "cell_type": "markdown",
   "metadata": {},
   "source": [
    "# 고객이 다운로드한 총 선호 장르수 / 회사의 전체 장르 비율 ★\n",
    "## 회사보유 영화 장르 대비 고객 선호 장르 (3번)"
   ]
  },
  {
   "cell_type": "code",
   "execution_count": 221,
   "metadata": {},
   "outputs": [
    {
     "data": {
      "image/png": "[encoded data removed]",
      "text/plain": [
       "<Figure size 1440x720 with 1 Axes>"
      ]
     },
     "metadata": {
      "needs_background": "light"
     },
     "output_type": "display_data"
    }
   ],
   "source": [
    "gen_x = []\n",
    "gen_y = []\n",
    "\n",
    "\n",
    "for key, value in genre_dict.items():\n",
    "    gen_x.append(key)\n",
    "    gen_y.append(value)\n",
    "    \n",
    "colors = sns.color_palette('mako', len(gen_x))\n",
    "plt.figure(figsize = (20,10))\n",
    "plt.bar(gen_x, gen_y, color=colors)\n",
    "plt.xlabel('영화 장르', fontsize = (20))\n",
    "plt.ylabel('장르별 다운로드 수 / 영화 장르 수', fontsize = 25)\n",
    "\n",
    "plt.xticks(fontsize = 25)\n",
    "plt.yticks(fontsize = 25)\n",
    "\n",
    "plt.show()"
   ]
  },
  {
   "cell_type": "markdown",
   "metadata": {},
   "source": [
    "### 영화사 전체 다운로드 수"
   ]
  },
  {
   "cell_type": "code",
   "execution_count": 168,
   "metadata": {},
   "outputs": [
    {
     "data": {
      "text/plain": [
       "Counter({'Action': 61,\n",
       "         'Adventure': 83,\n",
       "         'Animation': 23,\n",
       "         'Comedy': 35,\n",
       "         'Biography': 6,\n",
       "         'Drama': 16,\n",
       "         'Horror': 3,\n",
       "         'Family': 11,\n",
       "         'Crime': 3,\n",
       "         nan: 13,\n",
       "         'Sci-Fi': 30,\n",
       "         'Fantasy': 16,\n",
       "         'Romance': 2,\n",
       "         'Music': 2,\n",
       "         'Thriller': 8,\n",
       "         'Mystery': 2,\n",
       "         'Sport': 1,\n",
       "         'History': 3})"
      ]
     },
     "execution_count": 168,
     "metadata": {},
     "output_type": "execute_result"
    }
   ],
   "source": [
    "theater_gen = Counter(df_in['Genre_1']) + Counter(df_in['Genre_2']) + Counter(df_in['Genre_3'])\n",
    "theater_gen"
   ]
  },
  {
   "cell_type": "code",
   "execution_count": 177,
   "metadata": {},
   "outputs": [
    {
     "data": {
      "text/plain": [
       "{'Adventure': 83,\n",
       " 'Action': 61,\n",
       " 'Comedy': 35,\n",
       " 'Sci-Fi': 30,\n",
       " 'Animation': 23,\n",
       " 'Drama': 16,\n",
       " 'Fantasy': 16,\n",
       " 'Family': 11,\n",
       " 'Thriller': 8}"
      ]
     },
     "execution_count": 177,
     "metadata": {},
     "output_type": "execute_result"
    }
   ],
   "source": [
    "new_dic = {}\n",
    "for key, value in theater_gen.items():\n",
    "    if theater_gen[key] >= 8:\n",
    "        new_dic[key] = value\n",
    "new_dic"
   ]
  },
  {
   "cell_type": "code",
   "execution_count": 178,
   "metadata": {},
   "outputs": [
    {
     "data": {
      "image/png": "[encoded data removed]",
      "text/plain": [
       "<Figure size 1440x720 with 1 Axes>"
      ]
     },
     "metadata": {
      "needs_background": "light"
     },
     "output_type": "display_data"
    }
   ],
   "source": [
    "theater_gen = sorted(new_dic.items(), key=lambda x: x[1], reverse=True)\n",
    "theater_gen = dict(theater_gen)\n",
    "theater_gen\n",
    "\n",
    "gen_x = []\n",
    "gen_y = []\n",
    "\n",
    "for key, value in new_dic.items():\n",
    "    if new_dic[key] == 13:\n",
    "        del new_dic[key]\n",
    "    else:\n",
    "        gen_x.append(key)\n",
    "        gen_y.append(value)\n",
    "plt.figure(figsize = (20,10))\n",
    "colors = sns.color_palette('mako', len(gen_x))\n",
    "plt.bar(gen_x, gen_y, color=colors)\n",
    "plt.xlabel('보유영화 장르 현황', fontsize = (20))\n",
    "plt.ylabel('', fontsize = 20)\n",
    "plt.xticks(fontsize = 17)\n",
    "plt.yticks(fontsize = 17)\n",
    "plt.show()"
   ]
  },
  {
   "cell_type": "markdown",
   "metadata": {},
   "source": [
    "### 2번"
   ]
  },
  {
   "cell_type": "code",
   "execution_count": 173,
   "metadata": {},
   "outputs": [
    {
     "data": {
      "image/png": "[encoded data removed]",
      "text/plain": [
       "<Figure size 1440x720 with 1 Axes>"
      ]
     },
     "metadata": {
      "needs_background": "light"
     },
     "output_type": "display_data"
    }
   ],
   "source": [
    "theater_gen = sorted(theater_gen.items(), key=lambda x: x[1], reverse=True)\n",
    "theater_gen = dict(theater_gen)\n",
    "theater_gen\n",
    "\n",
    "gen_x = []\n",
    "gen_y = []\n",
    "for key, value in theater_gen.items():\n",
    "    if theater_gen[key] == 13:\n",
    "        del theater_gen[key]\n",
    "    else:\n",
    "        gen_x.append(key)\n",
    "        gen_y.append(value)\n",
    "        \n",
    "plt.figure(figsize = (20,10))\n",
    "colors = sns.color_palette('mako', len(gen_x))\n",
    "plt.bar(gen_x, gen_y, color=colors)\n",
    "plt.xlabel('보유영화 장르 현황', fontsize = (15))\n",
    "plt.ylabel('', fontsize = 15)\n",
    "plt.xticks(fontsize = 13)\n",
    "plt.yticks(fontsize = 13)\n",
    "plt.show()"
   ]
  },
  {
   "cell_type": "code",
   "execution_count": null,
   "metadata": {},
   "outputs": [],
   "source": []
  },
  {
   "cell_type": "markdown",
   "metadata": {},
   "source": [
    "### - 연령대와 다운로드 횟수와의 관계"
   ]
  },
  {
   "cell_type": "code",
   "execution_count": 223,
   "metadata": {
    "collapsed": true
   },
   "outputs": [
    {
     "data": {
      "text/html": [
       "<div>\n",
       "<style scoped>\n",
       "    .dataframe tbody tr th:only-of-type {\n",
       "        vertical-align: middle;\n",
       "    }\n",
       "\n",
       "    .dataframe tbody tr th {\n",
       "        vertical-align: top;\n",
       "    }\n",
       "\n",
       "    .dataframe thead th {\n",
       "        text-align: right;\n",
       "    }\n",
       "</style>\n",
       "<table border=\"1\" class=\"dataframe\">\n",
       "  <thead>\n",
       "    <tr style=\"text-align: right;\">\n",
       "      <th></th>\n",
       "      <th>customer_id</th>\n",
       "      <th>gender</th>\n",
       "      <th>age</th>\n",
       "      <th>age_group</th>\n",
       "      <th>married</th>\n",
       "      <th>kids_under12</th>\n",
       "      <th>area</th>\n",
       "      <th>subs_start_year</th>\n",
       "      <th>download_count</th>\n",
       "      <th>total_price</th>\n",
       "      <th>class</th>\n",
       "    </tr>\n",
       "  </thead>\n",
       "  <tbody>\n",
       "    <tr>\n",
       "      <th>0</th>\n",
       "      <td>C5001</td>\n",
       "      <td>F</td>\n",
       "      <td>51</td>\n",
       "      <td>50대</td>\n",
       "      <td>M</td>\n",
       "      <td>N</td>\n",
       "      <td>용산구</td>\n",
       "      <td>2015</td>\n",
       "      <td>55</td>\n",
       "      <td>262000.0</td>\n",
       "      <td>Platinum</td>\n",
       "    </tr>\n",
       "    <tr>\n",
       "      <th>1</th>\n",
       "      <td>C5002</td>\n",
       "      <td>M</td>\n",
       "      <td>22</td>\n",
       "      <td>20대</td>\n",
       "      <td>S</td>\n",
       "      <td>N</td>\n",
       "      <td>강남구</td>\n",
       "      <td>2015</td>\n",
       "      <td>23</td>\n",
       "      <td>102200.0</td>\n",
       "      <td>Silver</td>\n",
       "    </tr>\n",
       "    <tr>\n",
       "      <th>2</th>\n",
       "      <td>C5003</td>\n",
       "      <td>F</td>\n",
       "      <td>33</td>\n",
       "      <td>30대</td>\n",
       "      <td>M</td>\n",
       "      <td>Y</td>\n",
       "      <td>서대문구</td>\n",
       "      <td>2015</td>\n",
       "      <td>55</td>\n",
       "      <td>270800.0</td>\n",
       "      <td>Platinum</td>\n",
       "    </tr>\n",
       "    <tr>\n",
       "      <th>3</th>\n",
       "      <td>C5004</td>\n",
       "      <td>F</td>\n",
       "      <td>24</td>\n",
       "      <td>20대</td>\n",
       "      <td>M</td>\n",
       "      <td>N</td>\n",
       "      <td>서대문구</td>\n",
       "      <td>2015</td>\n",
       "      <td>41</td>\n",
       "      <td>200400.0</td>\n",
       "      <td>Gold</td>\n",
       "    </tr>\n",
       "    <tr>\n",
       "      <th>4</th>\n",
       "      <td>C5005</td>\n",
       "      <td>F</td>\n",
       "      <td>35</td>\n",
       "      <td>30대</td>\n",
       "      <td>M</td>\n",
       "      <td>N</td>\n",
       "      <td>마포구</td>\n",
       "      <td>2015</td>\n",
       "      <td>34</td>\n",
       "      <td>165900.0</td>\n",
       "      <td>Gold</td>\n",
       "    </tr>\n",
       "    <tr>\n",
       "      <th>...</th>\n",
       "      <td>...</td>\n",
       "      <td>...</td>\n",
       "      <td>...</td>\n",
       "      <td>...</td>\n",
       "      <td>...</td>\n",
       "      <td>...</td>\n",
       "      <td>...</td>\n",
       "      <td>...</td>\n",
       "      <td>...</td>\n",
       "      <td>...</td>\n",
       "      <td>...</td>\n",
       "    </tr>\n",
       "    <tr>\n",
       "      <th>3272</th>\n",
       "      <td>C8273</td>\n",
       "      <td>F</td>\n",
       "      <td>43</td>\n",
       "      <td>40대</td>\n",
       "      <td>M</td>\n",
       "      <td>N</td>\n",
       "      <td>마포구</td>\n",
       "      <td>2018</td>\n",
       "      <td>8</td>\n",
       "      <td>37000.0</td>\n",
       "      <td>Bronze</td>\n",
       "    </tr>\n",
       "    <tr>\n",
       "      <th>3273</th>\n",
       "      <td>C8274</td>\n",
       "      <td>F</td>\n",
       "      <td>24</td>\n",
       "      <td>20대</td>\n",
       "      <td>M</td>\n",
       "      <td>N</td>\n",
       "      <td>송파구</td>\n",
       "      <td>2018</td>\n",
       "      <td>10</td>\n",
       "      <td>48700.0</td>\n",
       "      <td>Bronze</td>\n",
       "    </tr>\n",
       "    <tr>\n",
       "      <th>3274</th>\n",
       "      <td>C8275</td>\n",
       "      <td>F</td>\n",
       "      <td>55</td>\n",
       "      <td>50대</td>\n",
       "      <td>S</td>\n",
       "      <td>N</td>\n",
       "      <td>강남구</td>\n",
       "      <td>2018</td>\n",
       "      <td>9</td>\n",
       "      <td>44500.0</td>\n",
       "      <td>Bronze</td>\n",
       "    </tr>\n",
       "    <tr>\n",
       "      <th>3275</th>\n",
       "      <td>C8276</td>\n",
       "      <td>F</td>\n",
       "      <td>36</td>\n",
       "      <td>30대</td>\n",
       "      <td>S</td>\n",
       "      <td>Y</td>\n",
       "      <td>서대문구</td>\n",
       "      <td>2018</td>\n",
       "      <td>17</td>\n",
       "      <td>77500.0</td>\n",
       "      <td>Bronze</td>\n",
       "    </tr>\n",
       "    <tr>\n",
       "      <th>3276</th>\n",
       "      <td>C8277</td>\n",
       "      <td>M</td>\n",
       "      <td>37</td>\n",
       "      <td>30대</td>\n",
       "      <td>S</td>\n",
       "      <td>N</td>\n",
       "      <td>강남구</td>\n",
       "      <td>2018</td>\n",
       "      <td>10</td>\n",
       "      <td>48700.0</td>\n",
       "      <td>Bronze</td>\n",
       "    </tr>\n",
       "  </tbody>\n",
       "</table>\n",
       "<p>3277 rows × 11 columns</p>\n",
       "</div>"
      ],
      "text/plain": [
       "     customer_id gender  age age_group married kids_under12  area  \\\n",
       "0          C5001      F   51       50대       M            N   용산구   \n",
       "1          C5002      M   22       20대       S            N   강남구   \n",
       "2          C5003      F   33       30대       M            Y  서대문구   \n",
       "3          C5004      F   24       20대       M            N  서대문구   \n",
       "4          C5005      F   35       30대       M            N   마포구   \n",
       "...          ...    ...  ...       ...     ...          ...   ...   \n",
       "3272       C8273      F   43       40대       M            N   마포구   \n",
       "3273       C8274      F   24       20대       M            N   송파구   \n",
       "3274       C8275      F   55       50대       S            N   강남구   \n",
       "3275       C8276      F   36       30대       S            Y  서대문구   \n",
       "3276       C8277      M   37       30대       S            N   강남구   \n",
       "\n",
       "      subs_start_year  download_count  total_price     class  \n",
       "0                2015              55     262000.0  Platinum  \n",
       "1                2015              23     102200.0    Silver  \n",
       "2                2015              55     270800.0  Platinum  \n",
       "3                2015              41     200400.0      Gold  \n",
       "4                2015              34     165900.0      Gold  \n",
       "...               ...             ...          ...       ...  \n",
       "3272             2018               8      37000.0    Bronze  \n",
       "3273             2018              10      48700.0    Bronze  \n",
       "3274             2018               9      44500.0    Bronze  \n",
       "3275             2018              17      77500.0    Bronze  \n",
       "3276             2018              10      48700.0    Bronze  \n",
       "\n",
       "[3277 rows x 11 columns]"
      ]
     },
     "execution_count": 223,
     "metadata": {},
     "output_type": "execute_result"
    }
   ],
   "source": [
    "df_cus = pd.read_csv('Data_OTT_update//movie_custom_final.csv', encoding = 'utf-8')\n",
    "df_cus"
   ]
  },
  {
   "cell_type": "code",
   "execution_count": 224,
   "metadata": {},
   "outputs": [
    {
     "data": {
      "text/html": [
       "<div>\n",
       "<style scoped>\n",
       "    .dataframe tbody tr th:only-of-type {\n",
       "        vertical-align: middle;\n",
       "    }\n",
       "\n",
       "    .dataframe tbody tr th {\n",
       "        vertical-align: top;\n",
       "    }\n",
       "\n",
       "    .dataframe thead th {\n",
       "        text-align: right;\n",
       "    }\n",
       "</style>\n",
       "<table border=\"1\" class=\"dataframe\">\n",
       "  <thead>\n",
       "    <tr style=\"text-align: right;\">\n",
       "      <th></th>\n",
       "      <th>download_count</th>\n",
       "    </tr>\n",
       "    <tr>\n",
       "      <th>age_group</th>\n",
       "      <th></th>\n",
       "    </tr>\n",
       "  </thead>\n",
       "  <tbody>\n",
       "    <tr>\n",
       "      <th>10대</th>\n",
       "      <td>1231</td>\n",
       "    </tr>\n",
       "    <tr>\n",
       "      <th>20대</th>\n",
       "      <td>31118</td>\n",
       "    </tr>\n",
       "    <tr>\n",
       "      <th>30대</th>\n",
       "      <td>31448</td>\n",
       "    </tr>\n",
       "    <tr>\n",
       "      <th>40대</th>\n",
       "      <td>30303</td>\n",
       "    </tr>\n",
       "    <tr>\n",
       "      <th>50대</th>\n",
       "      <td>19685</td>\n",
       "    </tr>\n",
       "    <tr>\n",
       "      <th>60대</th>\n",
       "      <td>2679</td>\n",
       "    </tr>\n",
       "  </tbody>\n",
       "</table>\n",
       "</div>"
      ],
      "text/plain": [
       "           download_count\n",
       "age_group                \n",
       "10대                  1231\n",
       "20대                 31118\n",
       "30대                 31448\n",
       "40대                 30303\n",
       "50대                 19685\n",
       "60대                  2679"
      ]
     },
     "execution_count": 224,
     "metadata": {},
     "output_type": "execute_result"
    }
   ],
   "source": [
    "df_age = df_cus.groupby(['age_group'])[['download_count']].sum()\n",
    "df_age"
   ]
  },
  {
   "cell_type": "code",
   "execution_count": 225,
   "metadata": {},
   "outputs": [
    {
     "data": {
      "text/plain": [
       "age_group\n",
       "10대     48\n",
       "20대    965\n",
       "30대    880\n",
       "40대    749\n",
       "50대    547\n",
       "60대     88\n",
       "dtype: int64"
      ]
     },
     "execution_count": 225,
     "metadata": {},
     "output_type": "execute_result"
    }
   ],
   "source": [
    "df_count_ag = df_cus.groupby([\"age_group\"]).size()\n",
    "df_count_ag"
   ]
  },
  {
   "cell_type": "code",
   "execution_count": 226,
   "metadata": {},
   "outputs": [
    {
     "data": {
      "text/plain": [
       "[25.645833333333332,\n",
       " 32.24663212435233,\n",
       " 35.736363636363635,\n",
       " 40.45794392523364,\n",
       " 35.9872029250457,\n",
       " 30.443181818181817]"
      ]
     },
     "execution_count": 226,
     "metadata": {},
     "output_type": "execute_result"
    }
   ],
   "source": [
    "li_ag = []\n",
    "cnt = 0\n",
    "for i in df_age.values:\n",
    "    li_ag.append(( i / df_count_ag[cnt])[0])\n",
    "    cnt += 1\n",
    "li_ag"
   ]
  },
  {
   "cell_type": "code",
   "execution_count": 235,
   "metadata": {},
   "outputs": [
    {
     "data": {
      "image/png": "[encoded data removed]",
      "text/plain": [
       "<Figure size 1440x720 with 1 Axes>"
      ]
     },
     "metadata": {
      "needs_background": "light"
     },
     "output_type": "display_data"
    }
   ],
   "source": [
    "colors = sns.color_palette('mako', 6)\n",
    "plt.figure(figsize = (20,10))\n",
    "plt.bar(df_age.index, li_ag, color = colors)\n",
    "\n",
    "plt.title('연령대별 1인 평균 다운로드 수', fontsize = 23, pad=20)\n",
    "\n",
    "plt.xlabel('age_group', fontsize = 23)\n",
    "plt.ylabel('download', fontsize = 23)\n",
    "\n",
    "plt.xticks(fontsize = 21)\n",
    "plt.yticks(fontsize = 21)\n",
    "\n",
    "plt.show()"
   ]
  },
  {
   "cell_type": "markdown",
   "metadata": {},
   "source": [
    "### - 결혼 여부와 다운로드 횟수와의 관계"
   ]
  },
  {
   "cell_type": "code",
   "execution_count": 236,
   "metadata": {},
   "outputs": [
    {
     "data": {
      "text/html": [
       "<div>\n",
       "<style scoped>\n",
       "    .dataframe tbody tr th:only-of-type {\n",
       "        vertical-align: middle;\n",
       "    }\n",
       "\n",
       "    .dataframe tbody tr th {\n",
       "        vertical-align: top;\n",
       "    }\n",
       "\n",
       "    .dataframe thead th {\n",
       "        text-align: right;\n",
       "    }\n",
       "</style>\n",
       "<table border=\"1\" class=\"dataframe\">\n",
       "  <thead>\n",
       "    <tr style=\"text-align: right;\">\n",
       "      <th></th>\n",
       "      <th>download_count</th>\n",
       "    </tr>\n",
       "    <tr>\n",
       "      <th>married</th>\n",
       "      <th></th>\n",
       "    </tr>\n",
       "  </thead>\n",
       "  <tbody>\n",
       "    <tr>\n",
       "      <th>M</th>\n",
       "      <td>83565</td>\n",
       "    </tr>\n",
       "    <tr>\n",
       "      <th>S</th>\n",
       "      <td>32899</td>\n",
       "    </tr>\n",
       "  </tbody>\n",
       "</table>\n",
       "</div>"
      ],
      "text/plain": [
       "         download_count\n",
       "married                \n",
       "M                 83565\n",
       "S                 32899"
      ]
     },
     "execution_count": 236,
     "metadata": {},
     "output_type": "execute_result"
    }
   ],
   "source": [
    "df_married = df_cus.groupby(['married'])[['download_count']].sum()\n",
    "df_married"
   ]
  },
  {
   "cell_type": "code",
   "execution_count": 237,
   "metadata": {},
   "outputs": [
    {
     "data": {
      "text/plain": [
       "married\n",
       "M    2089\n",
       "S    1188\n",
       "dtype: int64"
      ]
     },
     "execution_count": 237,
     "metadata": {},
     "output_type": "execute_result"
    }
   ],
   "source": [
    "df_count_m = df_cus.groupby([\"married\"]).size()\n",
    "df_count_m"
   ]
  },
  {
   "cell_type": "code",
   "execution_count": 238,
   "metadata": {},
   "outputs": [
    {
     "data": {
      "text/plain": [
       "[40.00239348970799, 27.69276094276094]"
      ]
     },
     "execution_count": 238,
     "metadata": {},
     "output_type": "execute_result"
    }
   ],
   "source": [
    "li_m = []\n",
    "cnt = 0\n",
    "for i in df_married.values:\n",
    "    li_m.append(( i / df_count_m[cnt])[0])\n",
    "    cnt += 1\n",
    "li_m"
   ]
  },
  {
   "cell_type": "code",
   "execution_count": 308,
   "metadata": {},
   "outputs": [
    {
     "data": {
      "image/png": "[encoded data removed]",
      "text/plain": [
       "<Figure size 432x288 with 1 Axes>"
      ]
     },
     "metadata": {},
     "output_type": "display_data"
    }
   ],
   "source": [
    "colors = sns.color_palette(\"mako\", 2)\n",
    "\n",
    "plt.pie(li_m, labels=['Married','Solo'], autopct='%.1f%%', textprops={\"fontsize\":14, 'color':\"w\"},  colors = colors)\n",
    "\n",
    "plt.title('결혼 여부에 따른 1인 평균 다운로드 비율', fontsize = 15)\n",
    "plt.legend(bbox_to_anchor=(0.9, 1), fontsize=13)\n",
    "plt.show()"
   ]
  },
  {
   "cell_type": "markdown",
   "metadata": {},
   "source": [
    "### - 성별과 다운로드의 관계"
   ]
  },
  {
   "cell_type": "code",
   "execution_count": 285,
   "metadata": {},
   "outputs": [
    {
     "data": {
      "text/html": [
       "<div>\n",
       "<style scoped>\n",
       "    .dataframe tbody tr th:only-of-type {\n",
       "        vertical-align: middle;\n",
       "    }\n",
       "\n",
       "    .dataframe tbody tr th {\n",
       "        vertical-align: top;\n",
       "    }\n",
       "\n",
       "    .dataframe thead th {\n",
       "        text-align: right;\n",
       "    }\n",
       "</style>\n",
       "<table border=\"1\" class=\"dataframe\">\n",
       "  <thead>\n",
       "    <tr style=\"text-align: right;\">\n",
       "      <th></th>\n",
       "      <th>download_count</th>\n",
       "    </tr>\n",
       "    <tr>\n",
       "      <th>gender</th>\n",
       "      <th></th>\n",
       "    </tr>\n",
       "  </thead>\n",
       "  <tbody>\n",
       "    <tr>\n",
       "      <th>F</th>\n",
       "      <td>61919</td>\n",
       "    </tr>\n",
       "    <tr>\n",
       "      <th>M</th>\n",
       "      <td>54545</td>\n",
       "    </tr>\n",
       "  </tbody>\n",
       "</table>\n",
       "</div>"
      ],
      "text/plain": [
       "        download_count\n",
       "gender                \n",
       "F                61919\n",
       "M                54545"
      ]
     },
     "execution_count": 285,
     "metadata": {},
     "output_type": "execute_result"
    }
   ],
   "source": [
    "df_gender = df_cus.groupby(['gender'])[['download_count']].sum()\n",
    "df_gender"
   ]
  },
  {
   "cell_type": "code",
   "execution_count": 286,
   "metadata": {},
   "outputs": [
    {
     "data": {
      "text/plain": [
       "gender\n",
       "F    1655\n",
       "M    1622\n",
       "dtype: int64"
      ]
     },
     "execution_count": 286,
     "metadata": {},
     "output_type": "execute_result"
    }
   ],
   "source": [
    "df_count_g = df_cus.groupby([\"gender\"]).size()\n",
    "df_count_g"
   ]
  },
  {
   "cell_type": "code",
   "execution_count": 287,
   "metadata": {},
   "outputs": [
    {
     "data": {
      "text/plain": [
       "[37.41329305135952, 33.628236744759555]"
      ]
     },
     "execution_count": 287,
     "metadata": {},
     "output_type": "execute_result"
    }
   ],
   "source": [
    "li_g = []\n",
    "cnt = 0\n",
    "for i in df_gender.values:\n",
    "    li_g.append(( i / df_count_g[cnt])[0])\n",
    "    cnt += 1\n",
    "li_g"
   ]
  },
  {
   "cell_type": "code",
   "execution_count": 321,
   "metadata": {
    "scrolled": true
   },
   "outputs": [
    {
     "data": {
      "image/png": "[encoded data removed]",
      "text/plain": [
       "<Figure size 432x288 with 1 Axes>"
      ]
     },
     "metadata": {},
     "output_type": "display_data"
    }
   ],
   "source": [
    "colors = sns.color_palette(\"mako\", 3)\n",
    "\n",
    "plt.pie(li_g, labels=['Female','Male'], autopct='%.1f%%', textprops={\"fontsize\":14, 'color':\"w\"},  colors = colors)\n",
    "plt.title('성별 1인 평균 다운로드 비율', fontsize = 15)\n",
    "plt.legend(bbox_to_anchor=(0.9, 1), fontsize=13)\n",
    "plt.show()"
   ]
  },
  {
   "cell_type": "markdown",
   "metadata": {},
   "source": [
    "### - 12세 이하 아이 유무와 다운로드 수의 관계"
   ]
  },
  {
   "cell_type": "code",
   "execution_count": 296,
   "metadata": {},
   "outputs": [
    {
     "data": {
      "text/html": [
       "<div>\n",
       "<style scoped>\n",
       "    .dataframe tbody tr th:only-of-type {\n",
       "        vertical-align: middle;\n",
       "    }\n",
       "\n",
       "    .dataframe tbody tr th {\n",
       "        vertical-align: top;\n",
       "    }\n",
       "\n",
       "    .dataframe thead th {\n",
       "        text-align: right;\n",
       "    }\n",
       "</style>\n",
       "<table border=\"1\" class=\"dataframe\">\n",
       "  <thead>\n",
       "    <tr style=\"text-align: right;\">\n",
       "      <th></th>\n",
       "      <th>download_count</th>\n",
       "    </tr>\n",
       "    <tr>\n",
       "      <th>kids_under12</th>\n",
       "      <th></th>\n",
       "    </tr>\n",
       "  </thead>\n",
       "  <tbody>\n",
       "    <tr>\n",
       "      <th>N</th>\n",
       "      <td>61793</td>\n",
       "    </tr>\n",
       "    <tr>\n",
       "      <th>Y</th>\n",
       "      <td>54671</td>\n",
       "    </tr>\n",
       "  </tbody>\n",
       "</table>\n",
       "</div>"
      ],
      "text/plain": [
       "              download_count\n",
       "kids_under12                \n",
       "N                      61793\n",
       "Y                      54671"
      ]
     },
     "execution_count": 296,
     "metadata": {},
     "output_type": "execute_result"
    }
   ],
   "source": [
    "df_kid = df_cus.groupby(['kids_under12'])[['download_count']].sum()\n",
    "df_kid"
   ]
  },
  {
   "cell_type": "code",
   "execution_count": 297,
   "metadata": {},
   "outputs": [
    {
     "data": {
      "text/plain": [
       "kids_under12\n",
       "N    2180\n",
       "Y    1097\n",
       "dtype: int64"
      ]
     },
     "execution_count": 297,
     "metadata": {},
     "output_type": "execute_result"
    }
   ],
   "source": [
    "df_count_k = df_cus.groupby([\"kids_under12\"]).size()\n",
    "df_count_k"
   ]
  },
  {
   "cell_type": "code",
   "execution_count": 298,
   "metadata": {},
   "outputs": [
    {
     "data": {
      "text/plain": [
       "[28.345412844036698, 49.83682771194166]"
      ]
     },
     "execution_count": 298,
     "metadata": {},
     "output_type": "execute_result"
    }
   ],
   "source": [
    "li_k = []\n",
    "cnt = 0\n",
    "for i in df_kid.values:\n",
    "    li_k.append(( i / df_count_k[cnt])[0])\n",
    "    cnt += 1\n",
    "li_k"
   ]
  },
  {
   "cell_type": "code",
   "execution_count": 323,
   "metadata": {},
   "outputs": [
    {
     "data": {
      "image/png": "[encoded data removed]",
      "text/plain": [
       "<Figure size 432x288 with 1 Axes>"
      ]
     },
     "metadata": {},
     "output_type": "display_data"
    }
   ],
   "source": [
    "colors = sns.color_palette(\"mako\", 4)\n",
    "\n",
    "plt.pie(li_k, labels=['NO','YES'], autopct='%.1f%%', textprops={\"fontsize\":14, 'color':\"w\"},  colors = colors)\n",
    "plt.title('아동 유무에 따른 1인 평균 다운로드 비율', fontsize = 15)\n",
    "plt.legend(bbox_to_anchor=(0.9, 1), fontsize=13)\n",
    "plt.show()"
   ]
  },
  {
   "cell_type": "markdown",
   "metadata": {},
   "source": [
    "### - 나이와 다운로드 수의 관계"
   ]
  },
  {
   "cell_type": "code",
   "execution_count": 47,
   "metadata": {},
   "outputs": [],
   "source": [
    "df_a1 = df_cus.groupby(['age'])[['customer_id']].count()\n",
    "\n",
    "df_a2 = df_cus.groupby(['age'])[['download_count']].sum()\n",
    "\n",
    "li_age = []\n",
    "for i in range(len(df_a1)):\n",
    "    li_age.append(df_a2.iloc[i][0] / df_a1.iloc[i][0])\n"
   ]
  },
  {
   "cell_type": "code",
   "execution_count": 48,
   "metadata": {},
   "outputs": [
    {
     "name": "stderr",
     "output_type": "stream",
     "text": [
      "No handles with labels found to put in legend.\n"
     ]
    },
    {
     "data": {
      "image/png": "[encoded data removed]",
      "text/plain": [
       "<Figure size 432x288 with 1 Axes>"
      ]
     },
     "metadata": {
      "needs_background": "light"
     },
     "output_type": "display_data"
    }
   ],
   "source": [
    "plt.scatter(df_a1.index, li_age)\n",
    "\n",
    "plt.legend(loc = \"best\")\n",
    "plt.xlabel('age')\n",
    "plt.ylabel('download_mean')\n",
    "plt.show()"
   ]
  },
  {
   "cell_type": "markdown",
   "metadata": {},
   "source": [
    "### - 거주지와 다운로드 수의 관계"
   ]
  },
  {
   "cell_type": "code",
   "execution_count": 49,
   "metadata": {},
   "outputs": [
    {
     "data": {
      "text/html": [
       "<div>\n",
       "<style scoped>\n",
       "    .dataframe tbody tr th:only-of-type {\n",
       "        vertical-align: middle;\n",
       "    }\n",
       "\n",
       "    .dataframe tbody tr th {\n",
       "        vertical-align: top;\n",
       "    }\n",
       "\n",
       "    .dataframe thead th {\n",
       "        text-align: right;\n",
       "    }\n",
       "</style>\n",
       "<table border=\"1\" class=\"dataframe\">\n",
       "  <thead>\n",
       "    <tr style=\"text-align: right;\">\n",
       "      <th></th>\n",
       "      <th>Unnamed: 0</th>\n",
       "      <th>customer_id</th>\n",
       "      <th>gender</th>\n",
       "      <th>age</th>\n",
       "      <th>age_group</th>\n",
       "      <th>married</th>\n",
       "      <th>kids_under12</th>\n",
       "      <th>area</th>\n",
       "      <th>subs_start_year</th>\n",
       "      <th>download_count</th>\n",
       "      <th>total_price</th>\n",
       "      <th>class</th>\n",
       "    </tr>\n",
       "  </thead>\n",
       "  <tbody>\n",
       "    <tr>\n",
       "      <th>0</th>\n",
       "      <td>0</td>\n",
       "      <td>C5001</td>\n",
       "      <td>F</td>\n",
       "      <td>51</td>\n",
       "      <td>50대</td>\n",
       "      <td>M</td>\n",
       "      <td>N</td>\n",
       "      <td>용산구</td>\n",
       "      <td>2015</td>\n",
       "      <td>55</td>\n",
       "      <td>262000.0</td>\n",
       "      <td>Platinum</td>\n",
       "    </tr>\n",
       "    <tr>\n",
       "      <th>1</th>\n",
       "      <td>1</td>\n",
       "      <td>C5002</td>\n",
       "      <td>M</td>\n",
       "      <td>22</td>\n",
       "      <td>20대</td>\n",
       "      <td>S</td>\n",
       "      <td>N</td>\n",
       "      <td>강남구</td>\n",
       "      <td>2015</td>\n",
       "      <td>23</td>\n",
       "      <td>102200.0</td>\n",
       "      <td>Silver</td>\n",
       "    </tr>\n",
       "    <tr>\n",
       "      <th>2</th>\n",
       "      <td>2</td>\n",
       "      <td>C5003</td>\n",
       "      <td>F</td>\n",
       "      <td>33</td>\n",
       "      <td>30대</td>\n",
       "      <td>M</td>\n",
       "      <td>Y</td>\n",
       "      <td>서대문구</td>\n",
       "      <td>2015</td>\n",
       "      <td>55</td>\n",
       "      <td>270800.0</td>\n",
       "      <td>Platinum</td>\n",
       "    </tr>\n",
       "    <tr>\n",
       "      <th>3</th>\n",
       "      <td>3</td>\n",
       "      <td>C5004</td>\n",
       "      <td>F</td>\n",
       "      <td>24</td>\n",
       "      <td>20대</td>\n",
       "      <td>M</td>\n",
       "      <td>N</td>\n",
       "      <td>서대문구</td>\n",
       "      <td>2015</td>\n",
       "      <td>41</td>\n",
       "      <td>200400.0</td>\n",
       "      <td>Gold</td>\n",
       "    </tr>\n",
       "    <tr>\n",
       "      <th>4</th>\n",
       "      <td>4</td>\n",
       "      <td>C5005</td>\n",
       "      <td>F</td>\n",
       "      <td>35</td>\n",
       "      <td>30대</td>\n",
       "      <td>M</td>\n",
       "      <td>N</td>\n",
       "      <td>마포구</td>\n",
       "      <td>2015</td>\n",
       "      <td>34</td>\n",
       "      <td>165900.0</td>\n",
       "      <td>Gold</td>\n",
       "    </tr>\n",
       "    <tr>\n",
       "      <th>...</th>\n",
       "      <td>...</td>\n",
       "      <td>...</td>\n",
       "      <td>...</td>\n",
       "      <td>...</td>\n",
       "      <td>...</td>\n",
       "      <td>...</td>\n",
       "      <td>...</td>\n",
       "      <td>...</td>\n",
       "      <td>...</td>\n",
       "      <td>...</td>\n",
       "      <td>...</td>\n",
       "      <td>...</td>\n",
       "    </tr>\n",
       "    <tr>\n",
       "      <th>3272</th>\n",
       "      <td>3272</td>\n",
       "      <td>C8273</td>\n",
       "      <td>F</td>\n",
       "      <td>43</td>\n",
       "      <td>40대</td>\n",
       "      <td>M</td>\n",
       "      <td>N</td>\n",
       "      <td>마포구</td>\n",
       "      <td>2018</td>\n",
       "      <td>8</td>\n",
       "      <td>37000.0</td>\n",
       "      <td>Bronze</td>\n",
       "    </tr>\n",
       "    <tr>\n",
       "      <th>3273</th>\n",
       "      <td>3273</td>\n",
       "      <td>C8274</td>\n",
       "      <td>F</td>\n",
       "      <td>24</td>\n",
       "      <td>20대</td>\n",
       "      <td>M</td>\n",
       "      <td>N</td>\n",
       "      <td>송파구</td>\n",
       "      <td>2018</td>\n",
       "      <td>10</td>\n",
       "      <td>48700.0</td>\n",
       "      <td>Bronze</td>\n",
       "    </tr>\n",
       "    <tr>\n",
       "      <th>3274</th>\n",
       "      <td>3274</td>\n",
       "      <td>C8275</td>\n",
       "      <td>F</td>\n",
       "      <td>55</td>\n",
       "      <td>50대</td>\n",
       "      <td>S</td>\n",
       "      <td>N</td>\n",
       "      <td>강남구</td>\n",
       "      <td>2018</td>\n",
       "      <td>9</td>\n",
       "      <td>44500.0</td>\n",
       "      <td>Bronze</td>\n",
       "    </tr>\n",
       "    <tr>\n",
       "      <th>3275</th>\n",
       "      <td>3275</td>\n",
       "      <td>C8276</td>\n",
       "      <td>F</td>\n",
       "      <td>36</td>\n",
       "      <td>30대</td>\n",
       "      <td>S</td>\n",
       "      <td>Y</td>\n",
       "      <td>서대문구</td>\n",
       "      <td>2018</td>\n",
       "      <td>17</td>\n",
       "      <td>77500.0</td>\n",
       "      <td>Bronze</td>\n",
       "    </tr>\n",
       "    <tr>\n",
       "      <th>3276</th>\n",
       "      <td>3276</td>\n",
       "      <td>C8277</td>\n",
       "      <td>M</td>\n",
       "      <td>37</td>\n",
       "      <td>30대</td>\n",
       "      <td>S</td>\n",
       "      <td>N</td>\n",
       "      <td>강남구</td>\n",
       "      <td>2018</td>\n",
       "      <td>10</td>\n",
       "      <td>48700.0</td>\n",
       "      <td>Bronze</td>\n",
       "    </tr>\n",
       "  </tbody>\n",
       "</table>\n",
       "<p>3277 rows × 12 columns</p>\n",
       "</div>"
      ],
      "text/plain": [
       "      Unnamed: 0 customer_id gender  age age_group married kids_under12  area  \\\n",
       "0              0       C5001      F   51       50대       M            N   용산구   \n",
       "1              1       C5002      M   22       20대       S            N   강남구   \n",
       "2              2       C5003      F   33       30대       M            Y  서대문구   \n",
       "3              3       C5004      F   24       20대       M            N  서대문구   \n",
       "4              4       C5005      F   35       30대       M            N   마포구   \n",
       "...          ...         ...    ...  ...       ...     ...          ...   ...   \n",
       "3272        3272       C8273      F   43       40대       M            N   마포구   \n",
       "3273        3273       C8274      F   24       20대       M            N   송파구   \n",
       "3274        3274       C8275      F   55       50대       S            N   강남구   \n",
       "3275        3275       C8276      F   36       30대       S            Y  서대문구   \n",
       "3276        3276       C8277      M   37       30대       S            N   강남구   \n",
       "\n",
       "      subs_start_year  download_count  total_price     class  \n",
       "0                2015              55     262000.0  Platinum  \n",
       "1                2015              23     102200.0    Silver  \n",
       "2                2015              55     270800.0  Platinum  \n",
       "3                2015              41     200400.0      Gold  \n",
       "4                2015              34     165900.0      Gold  \n",
       "...               ...             ...          ...       ...  \n",
       "3272             2018               8      37000.0    Bronze  \n",
       "3273             2018              10      48700.0    Bronze  \n",
       "3274             2018               9      44500.0    Bronze  \n",
       "3275             2018              17      77500.0    Bronze  \n",
       "3276             2018              10      48700.0    Bronze  \n",
       "\n",
       "[3277 rows x 12 columns]"
      ]
     },
     "execution_count": 49,
     "metadata": {},
     "output_type": "execute_result"
    }
   ],
   "source": [
    "df_cus"
   ]
  },
  {
   "cell_type": "code",
   "execution_count": 50,
   "metadata": {},
   "outputs": [],
   "source": [
    "df_area1 = df_cus.groupby(['area'])[['download_count']].sum()\n",
    "df_area2 = df_cus.groupby(['area'])[['customer_id']].count()\n",
    "\n",
    "li_area = []\n",
    "for i in range(len(df_area1)):\n",
    "    li_area.append(df_a2.iloc[i][0] / df_a1.iloc[i][0])"
   ]
  },
  {
   "cell_type": "code",
   "execution_count": 51,
   "metadata": {},
   "outputs": [
    {
     "name": "stderr",
     "output_type": "stream",
     "text": [
      "/home/piai/anaconda3/lib/python3.8/site-packages/matplotlib/backends/backend_agg.py:238: RuntimeWarning: Glyph 44053 missing from current font.\n",
      "  font.set_text(s, 0.0, flags=flags)\n",
      "/home/piai/anaconda3/lib/python3.8/site-packages/matplotlib/backends/backend_agg.py:238: RuntimeWarning: Glyph 45224 missing from current font.\n",
      "  font.set_text(s, 0.0, flags=flags)\n",
      "/home/piai/anaconda3/lib/python3.8/site-packages/matplotlib/backends/backend_agg.py:238: RuntimeWarning: Glyph 44396 missing from current font.\n",
      "  font.set_text(s, 0.0, flags=flags)\n",
      "/home/piai/anaconda3/lib/python3.8/site-packages/matplotlib/backends/backend_agg.py:238: RuntimeWarning: Glyph 44288 missing from current font.\n",
      "  font.set_text(s, 0.0, flags=flags)\n",
      "/home/piai/anaconda3/lib/python3.8/site-packages/matplotlib/backends/backend_agg.py:238: RuntimeWarning: Glyph 50501 missing from current font.\n",
      "  font.set_text(s, 0.0, flags=flags)\n",
      "/home/piai/anaconda3/lib/python3.8/site-packages/matplotlib/backends/backend_agg.py:238: RuntimeWarning: Glyph 44305 missing from current font.\n",
      "  font.set_text(s, 0.0, flags=flags)\n",
      "/home/piai/anaconda3/lib/python3.8/site-packages/matplotlib/backends/backend_agg.py:238: RuntimeWarning: Glyph 51652 missing from current font.\n",
      "  font.set_text(s, 0.0, flags=flags)\n",
      "/home/piai/anaconda3/lib/python3.8/site-packages/matplotlib/backends/backend_agg.py:238: RuntimeWarning: Glyph 46041 missing from current font.\n",
      "  font.set_text(s, 0.0, flags=flags)\n",
      "/home/piai/anaconda3/lib/python3.8/site-packages/matplotlib/backends/backend_agg.py:238: RuntimeWarning: Glyph 51089 missing from current font.\n",
      "  font.set_text(s, 0.0, flags=flags)\n",
      "/home/piai/anaconda3/lib/python3.8/site-packages/matplotlib/backends/backend_agg.py:238: RuntimeWarning: Glyph 47560 missing from current font.\n",
      "  font.set_text(s, 0.0, flags=flags)\n",
      "/home/piai/anaconda3/lib/python3.8/site-packages/matplotlib/backends/backend_agg.py:238: RuntimeWarning: Glyph 54252 missing from current font.\n",
      "  font.set_text(s, 0.0, flags=flags)\n",
      "/home/piai/anaconda3/lib/python3.8/site-packages/matplotlib/backends/backend_agg.py:238: RuntimeWarning: Glyph 49436 missing from current font.\n",
      "  font.set_text(s, 0.0, flags=flags)\n",
      "/home/piai/anaconda3/lib/python3.8/site-packages/matplotlib/backends/backend_agg.py:238: RuntimeWarning: Glyph 45824 missing from current font.\n",
      "  font.set_text(s, 0.0, flags=flags)\n",
      "/home/piai/anaconda3/lib/python3.8/site-packages/matplotlib/backends/backend_agg.py:238: RuntimeWarning: Glyph 47928 missing from current font.\n",
      "  font.set_text(s, 0.0, flags=flags)\n",
      "/home/piai/anaconda3/lib/python3.8/site-packages/matplotlib/backends/backend_agg.py:238: RuntimeWarning: Glyph 52488 missing from current font.\n",
      "  font.set_text(s, 0.0, flags=flags)\n",
      "/home/piai/anaconda3/lib/python3.8/site-packages/matplotlib/backends/backend_agg.py:238: RuntimeWarning: Glyph 49569 missing from current font.\n",
      "  font.set_text(s, 0.0, flags=flags)\n",
      "/home/piai/anaconda3/lib/python3.8/site-packages/matplotlib/backends/backend_agg.py:238: RuntimeWarning: Glyph 54028 missing from current font.\n",
      "  font.set_text(s, 0.0, flags=flags)\n",
      "/home/piai/anaconda3/lib/python3.8/site-packages/matplotlib/backends/backend_agg.py:238: RuntimeWarning: Glyph 50577 missing from current font.\n",
      "  font.set_text(s, 0.0, flags=flags)\n",
      "/home/piai/anaconda3/lib/python3.8/site-packages/matplotlib/backends/backend_agg.py:238: RuntimeWarning: Glyph 52380 missing from current font.\n",
      "  font.set_text(s, 0.0, flags=flags)\n",
      "/home/piai/anaconda3/lib/python3.8/site-packages/matplotlib/backends/backend_agg.py:238: RuntimeWarning: Glyph 50857 missing from current font.\n",
      "  font.set_text(s, 0.0, flags=flags)\n",
      "/home/piai/anaconda3/lib/python3.8/site-packages/matplotlib/backends/backend_agg.py:238: RuntimeWarning: Glyph 49328 missing from current font.\n",
      "  font.set_text(s, 0.0, flags=flags)\n",
      "/home/piai/anaconda3/lib/python3.8/site-packages/matplotlib/backends/backend_agg.py:201: RuntimeWarning: Glyph 44053 missing from current font.\n",
      "  font.set_text(s, 0, flags=flags)\n",
      "/home/piai/anaconda3/lib/python3.8/site-packages/matplotlib/backends/backend_agg.py:201: RuntimeWarning: Glyph 45224 missing from current font.\n",
      "  font.set_text(s, 0, flags=flags)\n",
      "/home/piai/anaconda3/lib/python3.8/site-packages/matplotlib/backends/backend_agg.py:201: RuntimeWarning: Glyph 44396 missing from current font.\n",
      "  font.set_text(s, 0, flags=flags)\n",
      "/home/piai/anaconda3/lib/python3.8/site-packages/matplotlib/backends/backend_agg.py:201: RuntimeWarning: Glyph 44288 missing from current font.\n",
      "  font.set_text(s, 0, flags=flags)\n",
      "/home/piai/anaconda3/lib/python3.8/site-packages/matplotlib/backends/backend_agg.py:201: RuntimeWarning: Glyph 50501 missing from current font.\n",
      "  font.set_text(s, 0, flags=flags)\n",
      "/home/piai/anaconda3/lib/python3.8/site-packages/matplotlib/backends/backend_agg.py:201: RuntimeWarning: Glyph 44305 missing from current font.\n",
      "  font.set_text(s, 0, flags=flags)\n",
      "/home/piai/anaconda3/lib/python3.8/site-packages/matplotlib/backends/backend_agg.py:201: RuntimeWarning: Glyph 51652 missing from current font.\n",
      "  font.set_text(s, 0, flags=flags)\n",
      "/home/piai/anaconda3/lib/python3.8/site-packages/matplotlib/backends/backend_agg.py:201: RuntimeWarning: Glyph 46041 missing from current font.\n",
      "  font.set_text(s, 0, flags=flags)\n",
      "/home/piai/anaconda3/lib/python3.8/site-packages/matplotlib/backends/backend_agg.py:201: RuntimeWarning: Glyph 51089 missing from current font.\n",
      "  font.set_text(s, 0, flags=flags)\n",
      "/home/piai/anaconda3/lib/python3.8/site-packages/matplotlib/backends/backend_agg.py:201: RuntimeWarning: Glyph 47560 missing from current font.\n",
      "  font.set_text(s, 0, flags=flags)\n",
      "/home/piai/anaconda3/lib/python3.8/site-packages/matplotlib/backends/backend_agg.py:201: RuntimeWarning: Glyph 54252 missing from current font.\n",
      "  font.set_text(s, 0, flags=flags)\n",
      "/home/piai/anaconda3/lib/python3.8/site-packages/matplotlib/backends/backend_agg.py:201: RuntimeWarning: Glyph 49436 missing from current font.\n",
      "  font.set_text(s, 0, flags=flags)\n",
      "/home/piai/anaconda3/lib/python3.8/site-packages/matplotlib/backends/backend_agg.py:201: RuntimeWarning: Glyph 45824 missing from current font.\n",
      "  font.set_text(s, 0, flags=flags)\n",
      "/home/piai/anaconda3/lib/python3.8/site-packages/matplotlib/backends/backend_agg.py:201: RuntimeWarning: Glyph 47928 missing from current font.\n",
      "  font.set_text(s, 0, flags=flags)\n",
      "/home/piai/anaconda3/lib/python3.8/site-packages/matplotlib/backends/backend_agg.py:201: RuntimeWarning: Glyph 52488 missing from current font.\n",
      "  font.set_text(s, 0, flags=flags)\n",
      "/home/piai/anaconda3/lib/python3.8/site-packages/matplotlib/backends/backend_agg.py:201: RuntimeWarning: Glyph 49569 missing from current font.\n",
      "  font.set_text(s, 0, flags=flags)\n",
      "/home/piai/anaconda3/lib/python3.8/site-packages/matplotlib/backends/backend_agg.py:201: RuntimeWarning: Glyph 54028 missing from current font.\n",
      "  font.set_text(s, 0, flags=flags)\n",
      "/home/piai/anaconda3/lib/python3.8/site-packages/matplotlib/backends/backend_agg.py:201: RuntimeWarning: Glyph 50577 missing from current font.\n",
      "  font.set_text(s, 0, flags=flags)\n",
      "/home/piai/anaconda3/lib/python3.8/site-packages/matplotlib/backends/backend_agg.py:201: RuntimeWarning: Glyph 52380 missing from current font.\n",
      "  font.set_text(s, 0, flags=flags)\n",
      "/home/piai/anaconda3/lib/python3.8/site-packages/matplotlib/backends/backend_agg.py:201: RuntimeWarning: Glyph 50857 missing from current font.\n",
      "  font.set_text(s, 0, flags=flags)\n",
      "/home/piai/anaconda3/lib/python3.8/site-packages/matplotlib/backends/backend_agg.py:201: RuntimeWarning: Glyph 49328 missing from current font.\n",
      "  font.set_text(s, 0, flags=flags)\n"
     ]
    },
    {
     "data": {
      "image/png": "[encoded data removed]",
      "text/plain": [
       "<Figure size 1440x720 with 1 Axes>"
      ]
     },
     "metadata": {
      "needs_background": "light"
     },
     "output_type": "display_data"
    }
   ],
   "source": [
    "plt.figure(figsize = (20,10))\n",
    "plt.bar(df_area2.index, li_area)\n",
    "plt.xlabel('area', fontsize = (15))\n",
    "plt.ylabel('download', fontsize = 15)\n",
    "\n",
    "plt.show()"
   ]
  },
  {
   "cell_type": "code",
   "execution_count": 52,
   "metadata": {},
   "outputs": [
    {
     "data": {
      "image/png": "[encoded data removed]",
      "text/plain": [
       "<Figure size 432x288 with 1 Axes>"
      ]
     },
     "metadata": {},
     "output_type": "display_data"
    }
   ],
   "source": [
    "plt.pie(li_area, labels=df_area2.index, autopct='%.1f%%')\n",
    "plt.title('area and download')\n",
    "plt.show()"
   ]
  },
  {
   "cell_type": "markdown",
   "metadata": {},
   "source": [
    "### - 연령대와 12세 아이 유무의 관계"
   ]
  },
  {
   "cell_type": "code",
   "execution_count": 345,
   "metadata": {
    "collapsed": true
   },
   "outputs": [
    {
     "data": {
      "image/png": "[encoded data removed]",
      "text/plain": [
       "<Figure size 1080x720 with 1 Axes>"
      ]
     },
     "metadata": {
      "needs_background": "light"
     },
     "output_type": "display_data"
    }
   ],
   "source": [
    "plt.figure(figsize = (15,10))\n",
    "\n",
    "# plt.bar(df_cus[\"age_group\"] ,df_cus[\"kids_under12\"])\n",
    "# # plt.hist(df_cus[\"kids_under12\"], stacked=True, alpha = 0.5)\n",
    "plt.hist(df_cus[df_cus[\"kids_under12\"] == 'N']['age_group'], label = \"NO\", alpha = 0.5)\n",
    "\n",
    "plt.xlabel('연령대', fontsize = 23)\n",
    "plt.ylabel('고객 수 ', fontsize = 23)\n",
    "\n",
    "plt.xticks(fontsize = 21)\n",
    "plt.yticks(fontsize = 21)\n",
    "\n",
    "plt.show()"
   ]
  },
  {
   "cell_type": "code",
   "execution_count": 390,
   "metadata": {},
   "outputs": [
    {
     "data": {
      "text/plain": [
       "<matplotlib.legend.Legend at 0x7f6c36674af0>"
      ]
     },
     "execution_count": 390,
     "metadata": {},
     "output_type": "execute_result"
    },
    {
     "data": {
      "image/png": "[encoded data removed]",
      "text/plain": [
       "<Figure size 1080x720 with 1 Axes>"
      ]
     },
     "metadata": {
      "needs_background": "light"
     },
     "output_type": "display_data"
    }
   ],
   "source": [
    "colors = sns.color_palette(\"mako\", 4)\n",
    "df_ak = pd.DataFrame({'10대':[0, 48], '20대':[221, 744], '30대':[331, 549], '40대':[388, 361], '50대':[157, 390], '60대':[0, 88]})\n",
    "plt.figure(figsize = (15, 10))\n",
    "\n",
    "plt.bar(df_ak.columns, df_ak.iloc[0], label = 'YES', color=\"turquoise\")\n",
    "plt.bar(df_ak.columns, df_ak.iloc[1], label = 'NO', bottom = df_ak.iloc[0], color=\"steelblue\")\n",
    "\n",
    "plt.title('연령대별 - 아이 유무 현황', fontsize = 25, pad=20)\n",
    "\n",
    "plt.xlabel('연령대별 - 아이 유무', fontsize = 25)\n",
    "plt.ylabel('고객 수 ', fontsize = 25)\n",
    "\n",
    "plt.xticks(fontsize = 23)\n",
    "plt.yticks(fontsize = 23)\n",
    "\n",
    "plt.legend(fontsize=25)"
   ]
  },
  {
   "cell_type": "markdown",
   "metadata": {},
   "source": [
    "## 매출 순수익 분포"
   ]
  },
  {
   "cell_type": "code",
   "execution_count": 32,
   "metadata": {},
   "outputs": [
    {
     "data": {
      "text/plain": [
       "(3277, 11)"
      ]
     },
     "execution_count": 32,
     "metadata": {},
     "output_type": "execute_result"
    }
   ],
   "source": [
    "custom = pd.read_csv(\"Data_OTT_update/movie_custom_final.csv\")\n",
    "custom.shape"
   ]
  },
  {
   "cell_type": "code",
   "execution_count": 33,
   "metadata": {},
   "outputs": [
    {
     "data": {
      "text/plain": [
       "(116464, 32)"
      ]
     },
     "execution_count": 33,
     "metadata": {},
     "output_type": "execute_result"
    }
   ],
   "source": [
    "download = pd.read_csv(\"Data_OTT_update/download_inventory_final.csv\")\n",
    "download.shape"
   ]
  },
  {
   "cell_type": "code",
   "execution_count": 34,
   "metadata": {},
   "outputs": [
    {
     "data": {
      "text/plain": [
       "(106, 30)"
      ]
     },
     "execution_count": 34,
     "metadata": {},
     "output_type": "execute_result"
    }
   ],
   "source": [
    "inventory = pd.read_csv(\"Data_OTT_update/inventory_interest_final.csv\")\n",
    "inventory.shape"
   ]
  },
  {
   "cell_type": "code",
   "execution_count": 35,
   "metadata": {
    "scrolled": false
   },
   "outputs": [
    {
     "data": {
      "text/plain": [
       "(1668, 30)"
      ]
     },
     "execution_count": 35,
     "metadata": {},
     "output_type": "execute_result"
    }
   ],
   "source": [
    "meta = pd.read_csv(\"Data_OTT_update/movie_meta_final.csv\")\n",
    "meta.shape"
   ]
  },
  {
   "cell_type": "code",
   "execution_count": 6,
   "metadata": {},
   "outputs": [
    {
     "data": {
      "text/plain": [
       "(116464, 32)"
      ]
     },
     "execution_count": 6,
     "metadata": {},
     "output_type": "execute_result"
    }
   ],
   "source": [
    "download.shape"
   ]
  },
  {
   "cell_type": "code",
   "execution_count": 7,
   "metadata": {},
   "outputs": [
    {
     "data": {
      "text/plain": [
       "(106, 30)"
      ]
     },
     "execution_count": 7,
     "metadata": {},
     "output_type": "execute_result"
    }
   ],
   "source": [
    "inventory.shape"
   ]
  },
  {
   "cell_type": "code",
   "execution_count": 8,
   "metadata": {},
   "outputs": [],
   "source": [
    "count = pd.DataFrame(download[\"title\"].value_counts())"
   ]
  },
  {
   "cell_type": "code",
   "execution_count": 9,
   "metadata": {},
   "outputs": [
    {
     "data": {
      "text/html": [
       "<div>\n",
       "<style scoped>\n",
       "    .dataframe tbody tr th:only-of-type {\n",
       "        vertical-align: middle;\n",
       "    }\n",
       "\n",
       "    .dataframe tbody tr th {\n",
       "        vertical-align: top;\n",
       "    }\n",
       "\n",
       "    .dataframe thead th {\n",
       "        text-align: right;\n",
       "    }\n",
       "</style>\n",
       "<table border=\"1\" class=\"dataframe\">\n",
       "  <thead>\n",
       "    <tr style=\"text-align: right;\">\n",
       "      <th></th>\n",
       "      <th>count</th>\n",
       "    </tr>\n",
       "  </thead>\n",
       "  <tbody>\n",
       "    <tr>\n",
       "      <th>The Hunger Games: Mockingjay - Part 2</th>\n",
       "      <td>3689</td>\n",
       "    </tr>\n",
       "    <tr>\n",
       "      <th>Spectre</th>\n",
       "      <td>3661</td>\n",
       "    </tr>\n",
       "    <tr>\n",
       "      <th>The Martian</th>\n",
       "      <td>3632</td>\n",
       "    </tr>\n",
       "    <tr>\n",
       "      <th>Hotel Transylvania 2</th>\n",
       "      <td>3608</td>\n",
       "    </tr>\n",
       "    <tr>\n",
       "      <th>The Peanuts Movie</th>\n",
       "      <td>3599</td>\n",
       "    </tr>\n",
       "  </tbody>\n",
       "</table>\n",
       "</div>"
      ],
      "text/plain": [
       "                                       count\n",
       "The Hunger Games: Mockingjay - Part 2   3689\n",
       "Spectre                                 3661\n",
       "The Martian                             3632\n",
       "Hotel Transylvania 2                    3608\n",
       "The Peanuts Movie                       3599"
      ]
     },
     "execution_count": 9,
     "metadata": {},
     "output_type": "execute_result"
    }
   ],
   "source": [
    "count.rename(columns={\"title\":\"count\"}, inplace = True)\n",
    "count.head()"
   ]
  },
  {
   "cell_type": "code",
   "execution_count": 10,
   "metadata": {},
   "outputs": [],
   "source": [
    "count = count.reset_index()"
   ]
  },
  {
   "cell_type": "code",
   "execution_count": 11,
   "metadata": {},
   "outputs": [],
   "source": [
    "count.rename(columns={\"index\":\"title\"}, inplace = True)"
   ]
  },
  {
   "cell_type": "code",
   "execution_count": 12,
   "metadata": {},
   "outputs": [
    {
     "data": {
      "text/plain": [
       "(106, 30)"
      ]
     },
     "execution_count": 12,
     "metadata": {},
     "output_type": "execute_result"
    }
   ],
   "source": [
    "inventory.shape"
   ]
  },
  {
   "cell_type": "code",
   "execution_count": 13,
   "metadata": {},
   "outputs": [],
   "source": [
    "inv_count = pd.merge(inventory, count, on = \"title\", how = \"left\")"
   ]
  },
  {
   "cell_type": "code",
   "execution_count": 14,
   "metadata": {},
   "outputs": [],
   "source": [
    "inv_count.fillna(0,inplace=True)"
   ]
  },
  {
   "cell_type": "code",
   "execution_count": 15,
   "metadata": {},
   "outputs": [
    {
     "data": {
      "text/plain": [
       "(106, 31)"
      ]
     },
     "execution_count": 15,
     "metadata": {},
     "output_type": "execute_result"
    }
   ],
   "source": [
    "inv_count.shape"
   ]
  },
  {
   "cell_type": "code",
   "execution_count": 29,
   "metadata": {},
   "outputs": [
    {
     "data": {
      "text/plain": [
       "(array([ 0.,  5., 10., 15., 20., 25., 30.]),\n",
       " [Text(0, 0, ''),\n",
       "  Text(0, 0, ''),\n",
       "  Text(0, 0, ''),\n",
       "  Text(0, 0, ''),\n",
       "  Text(0, 0, ''),\n",
       "  Text(0, 0, ''),\n",
       "  Text(0, 0, '')])"
      ]
     },
     "execution_count": 29,
     "metadata": {},
     "output_type": "execute_result"
    },
    {
     "data": {
      "image/png": "[encoded data removed]",
      "text/plain": [
       "<Figure size 432x288 with 1 Axes>"
      ]
     },
     "metadata": {
      "needs_background": "light"
     },
     "output_type": "display_data"
    }
   ],
   "source": [
    "colors = sns.color_palette('mako', 1)\n",
    "plt.hist(inv_count[\"interest\"], color=\"turquoise\", bins=10, alpha = 0.6)\n",
    "plt.title(\"영화별 매출 순수익\")\n",
    "plt.xlabel(\"매출 순이익\")\n",
    "plt.ylabel(\"영화 수 \")\n",
    "plt.xticks(fontsize = 12)\n",
    "plt.yticks(fontsize = 12)"
   ]
  },
  {
   "cell_type": "code",
   "execution_count": 17,
   "metadata": {},
   "outputs": [
    {
     "data": {
      "text/plain": [
       "(array([ 0.,  5., 10., 15., 20., 25., 30., 35.]),\n",
       " [Text(0, 0, ''),\n",
       "  Text(0, 0, ''),\n",
       "  Text(0, 0, ''),\n",
       "  Text(0, 0, ''),\n",
       "  Text(0, 0, ''),\n",
       "  Text(0, 0, ''),\n",
       "  Text(0, 0, ''),\n",
       "  Text(0, 0, '')])"
      ]
     },
     "execution_count": 17,
     "metadata": {},
     "output_type": "execute_result"
    },
    {
     "data": {
      "image/png": "[encoded data removed]",
      "text/plain": [
       "<Figure size 432x288 with 1 Axes>"
      ]
     },
     "metadata": {
      "needs_background": "light"
     },
     "output_type": "display_data"
    }
   ],
   "source": [
    "colors = sns.color_palette('mako', 1)\n",
    "plt.hist(inv_count[\"count\"], color=colors)\n",
    "\n",
    "plt.xticks(fontsize = 12)\n",
    "plt.yticks(fontsize = 12)"
   ]
  },
  {
   "cell_type": "markdown",
   "metadata": {},
   "source": [
    "# 누적 고객 구매금액 분포"
   ]
  },
  {
   "cell_type": "code",
   "execution_count": 30,
   "metadata": {},
   "outputs": [
    {
     "data": {
      "text/plain": [
       "(array([    0., 10000., 20000., 30000., 40000., 50000.]),\n",
       " [Text(0, 0, ''),\n",
       "  Text(0, 0, ''),\n",
       "  Text(0, 0, ''),\n",
       "  Text(0, 0, ''),\n",
       "  Text(0, 0, ''),\n",
       "  Text(0, 0, '')])"
      ]
     },
     "execution_count": 30,
     "metadata": {},
     "output_type": "execute_result"
    },
    {
     "data": {
      "image/png": "[encoded data removed]",
      "text/plain": [
       "<Figure size 432x288 with 1 Axes>"
      ]
     },
     "metadata": {
      "needs_background": "light"
     },
     "output_type": "display_data"
    }
   ],
   "source": [
    "colors = sns.color_palette('mako', 1)\n",
    "plt.hist(download[\"contract_price\"], color=colors)\n",
    "plt.title(\"판권 계약 금액별 다운로드 수\", fontsize = 12)\n",
    "plt.xlabel(\"판권 계약 금액\", fontsize = 12)\n",
    "plt.ylabel(\"다운로드 수\", fontsize = 12)\n",
    "plt.xticks(fontsize = 12)\n",
    "plt.yticks(fontsize = 12)"
   ]
  },
  {
   "cell_type": "code",
   "execution_count": 28,
   "metadata": {},
   "outputs": [
    {
     "data": {
      "text/plain": [
       "(array([ 0., 10., 20., 30., 40., 50.]),\n",
       " [Text(0, 0, ''),\n",
       "  Text(0, 0, ''),\n",
       "  Text(0, 0, ''),\n",
       "  Text(0, 0, ''),\n",
       "  Text(0, 0, ''),\n",
       "  Text(0, 0, '')])"
      ]
     },
     "execution_count": 28,
     "metadata": {},
     "output_type": "execute_result"
    },
    {
     "data": {
      "image/png": "[encoded data removed]",
      "text/plain": [
       "<Figure size 432x288 with 1 Axes>"
      ]
     },
     "metadata": {
      "needs_background": "light"
     },
     "output_type": "display_data"
    }
   ],
   "source": [
    "colors = sns.color_palette('mako', 1)\n",
    "plt.hist(inventory[\"contract_price\"], color=colors)\n",
    "plt.title(\"판권 계약 금액 분포\")\n",
    "plt.xlabel(\"판권 계약 금액\")\n",
    "plt.ylabel(\"영화 수\")\n",
    "plt.xticks(fontsize = 12)\n",
    "plt.yticks(fontsize = 12)"
   ]
  },
  {
   "cell_type": "code",
   "execution_count": 23,
   "metadata": {
    "collapsed": true
   },
   "outputs": [
    {
     "ename": "KeyError",
     "evalue": "'download_count'",
     "output_type": "error",
     "traceback": [
      "\u001b[0;31m---------------------------------------------------------------------------\u001b[0m",
      "\u001b[0;31mKeyError\u001b[0m                                  Traceback (most recent call last)",
      "\u001b[0;32m~/anaconda3/lib/python3.8/site-packages/pandas/core/indexes/base.py\u001b[0m in \u001b[0;36mget_loc\u001b[0;34m(self, key, method, tolerance)\u001b[0m\n\u001b[1;32m   2894\u001b[0m             \u001b[0;32mtry\u001b[0m\u001b[0;34m:\u001b[0m\u001b[0;34m\u001b[0m\u001b[0;34m\u001b[0m\u001b[0m\n\u001b[0;32m-> 2895\u001b[0;31m                 \u001b[0;32mreturn\u001b[0m \u001b[0mself\u001b[0m\u001b[0;34m.\u001b[0m\u001b[0m_engine\u001b[0m\u001b[0;34m.\u001b[0m\u001b[0mget_loc\u001b[0m\u001b[0;34m(\u001b[0m\u001b[0mcasted_key\u001b[0m\u001b[0;34m)\u001b[0m\u001b[0;34m\u001b[0m\u001b[0;34m\u001b[0m\u001b[0m\n\u001b[0m\u001b[1;32m   2896\u001b[0m             \u001b[0;32mexcept\u001b[0m \u001b[0mKeyError\u001b[0m \u001b[0;32mas\u001b[0m \u001b[0merr\u001b[0m\u001b[0;34m:\u001b[0m\u001b[0;34m\u001b[0m\u001b[0;34m\u001b[0m\u001b[0m\n",
      "\u001b[0;32mpandas/_libs/index.pyx\u001b[0m in \u001b[0;36mpandas._libs.index.IndexEngine.get_loc\u001b[0;34m()\u001b[0m\n",
      "\u001b[0;32mpandas/_libs/index.pyx\u001b[0m in \u001b[0;36mpandas._libs.index.IndexEngine.get_loc\u001b[0;34m()\u001b[0m\n",
      "\u001b[0;32mpandas/_libs/hashtable_class_helper.pxi\u001b[0m in \u001b[0;36mpandas._libs.hashtable.PyObjectHashTable.get_item\u001b[0;34m()\u001b[0m\n",
      "\u001b[0;32mpandas/_libs/hashtable_class_helper.pxi\u001b[0m in \u001b[0;36mpandas._libs.hashtable.PyObjectHashTable.get_item\u001b[0;34m()\u001b[0m\n",
      "\u001b[0;31mKeyError\u001b[0m: 'download_count'",
      "\nThe above exception was the direct cause of the following exception:\n",
      "\u001b[0;31mKeyError\u001b[0m                                  Traceback (most recent call last)",
      "\u001b[0;32m<ipython-input-23-4a7893e240ee>\u001b[0m in \u001b[0;36m<module>\u001b[0;34m\u001b[0m\n\u001b[1;32m      1\u001b[0m \u001b[0mcolors\u001b[0m \u001b[0;34m=\u001b[0m \u001b[0msns\u001b[0m\u001b[0;34m.\u001b[0m\u001b[0mcolor_palette\u001b[0m\u001b[0;34m(\u001b[0m\u001b[0;34m'mako'\u001b[0m\u001b[0;34m,\u001b[0m \u001b[0;36m1\u001b[0m\u001b[0;34m)\u001b[0m\u001b[0;34m\u001b[0m\u001b[0;34m\u001b[0m\u001b[0m\n\u001b[0;32m----> 2\u001b[0;31m \u001b[0mplt\u001b[0m\u001b[0;34m.\u001b[0m\u001b[0mhist\u001b[0m\u001b[0;34m(\u001b[0m\u001b[0minv_count\u001b[0m\u001b[0;34m[\u001b[0m\u001b[0;34m\"download_count\"\u001b[0m\u001b[0;34m]\u001b[0m\u001b[0;34m,\u001b[0m \u001b[0mcolor\u001b[0m\u001b[0;34m=\u001b[0m\u001b[0mcolors\u001b[0m\u001b[0;34m)\u001b[0m\u001b[0;34m\u001b[0m\u001b[0;34m\u001b[0m\u001b[0m\n\u001b[0m\u001b[1;32m      3\u001b[0m \u001b[0mplt\u001b[0m\u001b[0;34m.\u001b[0m\u001b[0mtitle\u001b[0m\u001b[0;34m(\u001b[0m\u001b[0;34m\"보유 영화당 매출 순수익\"\u001b[0m\u001b[0;34m)\u001b[0m\u001b[0;34m\u001b[0m\u001b[0;34m\u001b[0m\u001b[0m\n\u001b[1;32m      4\u001b[0m \u001b[0mplt\u001b[0m\u001b[0;34m.\u001b[0m\u001b[0mxlabel\u001b[0m\u001b[0;34m(\u001b[0m\u001b[0;34m\"매출 순이익\"\u001b[0m\u001b[0;34m)\u001b[0m\u001b[0;34m\u001b[0m\u001b[0;34m\u001b[0m\u001b[0m\n\u001b[1;32m      5\u001b[0m \u001b[0mplt\u001b[0m\u001b[0;34m.\u001b[0m\u001b[0mylabel\u001b[0m\u001b[0;34m(\u001b[0m\u001b[0;34m\"영화 수 \"\u001b[0m\u001b[0;34m)\u001b[0m\u001b[0;34m\u001b[0m\u001b[0;34m\u001b[0m\u001b[0m\n",
      "\u001b[0;32m~/anaconda3/lib/python3.8/site-packages/pandas/core/frame.py\u001b[0m in \u001b[0;36m__getitem__\u001b[0;34m(self, key)\u001b[0m\n\u001b[1;32m   2900\u001b[0m             \u001b[0;32mif\u001b[0m \u001b[0mself\u001b[0m\u001b[0;34m.\u001b[0m\u001b[0mcolumns\u001b[0m\u001b[0;34m.\u001b[0m\u001b[0mnlevels\u001b[0m \u001b[0;34m>\u001b[0m \u001b[0;36m1\u001b[0m\u001b[0;34m:\u001b[0m\u001b[0;34m\u001b[0m\u001b[0;34m\u001b[0m\u001b[0m\n\u001b[1;32m   2901\u001b[0m                 \u001b[0;32mreturn\u001b[0m \u001b[0mself\u001b[0m\u001b[0;34m.\u001b[0m\u001b[0m_getitem_multilevel\u001b[0m\u001b[0;34m(\u001b[0m\u001b[0mkey\u001b[0m\u001b[0;34m)\u001b[0m\u001b[0;34m\u001b[0m\u001b[0;34m\u001b[0m\u001b[0m\n\u001b[0;32m-> 2902\u001b[0;31m             \u001b[0mindexer\u001b[0m \u001b[0;34m=\u001b[0m \u001b[0mself\u001b[0m\u001b[0;34m.\u001b[0m\u001b[0mcolumns\u001b[0m\u001b[0;34m.\u001b[0m\u001b[0mget_loc\u001b[0m\u001b[0;34m(\u001b[0m\u001b[0mkey\u001b[0m\u001b[0;34m)\u001b[0m\u001b[0;34m\u001b[0m\u001b[0;34m\u001b[0m\u001b[0m\n\u001b[0m\u001b[1;32m   2903\u001b[0m             \u001b[0;32mif\u001b[0m \u001b[0mis_integer\u001b[0m\u001b[0;34m(\u001b[0m\u001b[0mindexer\u001b[0m\u001b[0;34m)\u001b[0m\u001b[0;34m:\u001b[0m\u001b[0;34m\u001b[0m\u001b[0;34m\u001b[0m\u001b[0m\n\u001b[1;32m   2904\u001b[0m                 \u001b[0mindexer\u001b[0m \u001b[0;34m=\u001b[0m \u001b[0;34m[\u001b[0m\u001b[0mindexer\u001b[0m\u001b[0;34m]\u001b[0m\u001b[0;34m\u001b[0m\u001b[0;34m\u001b[0m\u001b[0m\n",
      "\u001b[0;32m~/anaconda3/lib/python3.8/site-packages/pandas/core/indexes/base.py\u001b[0m in \u001b[0;36mget_loc\u001b[0;34m(self, key, method, tolerance)\u001b[0m\n\u001b[1;32m   2895\u001b[0m                 \u001b[0;32mreturn\u001b[0m \u001b[0mself\u001b[0m\u001b[0;34m.\u001b[0m\u001b[0m_engine\u001b[0m\u001b[0;34m.\u001b[0m\u001b[0mget_loc\u001b[0m\u001b[0;34m(\u001b[0m\u001b[0mcasted_key\u001b[0m\u001b[0;34m)\u001b[0m\u001b[0;34m\u001b[0m\u001b[0;34m\u001b[0m\u001b[0m\n\u001b[1;32m   2896\u001b[0m             \u001b[0;32mexcept\u001b[0m \u001b[0mKeyError\u001b[0m \u001b[0;32mas\u001b[0m \u001b[0merr\u001b[0m\u001b[0;34m:\u001b[0m\u001b[0;34m\u001b[0m\u001b[0;34m\u001b[0m\u001b[0m\n\u001b[0;32m-> 2897\u001b[0;31m                 \u001b[0;32mraise\u001b[0m \u001b[0mKeyError\u001b[0m\u001b[0;34m(\u001b[0m\u001b[0mkey\u001b[0m\u001b[0;34m)\u001b[0m \u001b[0;32mfrom\u001b[0m \u001b[0merr\u001b[0m\u001b[0;34m\u001b[0m\u001b[0;34m\u001b[0m\u001b[0m\n\u001b[0m\u001b[1;32m   2898\u001b[0m \u001b[0;34m\u001b[0m\u001b[0m\n\u001b[1;32m   2899\u001b[0m         \u001b[0;32mif\u001b[0m \u001b[0mtolerance\u001b[0m \u001b[0;32mis\u001b[0m \u001b[0;32mnot\u001b[0m \u001b[0;32mNone\u001b[0m\u001b[0;34m:\u001b[0m\u001b[0;34m\u001b[0m\u001b[0;34m\u001b[0m\u001b[0m\n",
      "\u001b[0;31mKeyError\u001b[0m: 'download_count'"
     ]
    }
   ],
   "source": [
    "colors = sns.color_palette('mako', 1)\n",
    "plt.hist(inv_count[\"download_count\"], color=colors)\n",
    "plt.title(\"보유 영화당 매출 순수익\")\n",
    "plt.xlabel(\"매출 순이익\")\n",
    "plt.ylabel(\"영화 수 \")\n",
    "plt.xticks(fontsize = 12)\n",
    "plt.yticks(fontsize = 12)"
   ]
  },
  {
   "cell_type": "code",
   "execution_count": 42,
   "metadata": {},
   "outputs": [
    {
     "data": {
      "text/plain": [
       "Index(['customer_id', 'item_id', 'movie_id', 'down_year', 'down_month',\n",
       "       'down_weekday', 'season', 'title', 'release_year', 'contract_year',\n",
       "       'runtime', 'mpa_rating', 'imdb_score', 'votes', 'reviews_users',\n",
       "       'reviews_critics', 'budget', 'income_usa', 'income_ww', 'country_1',\n",
       "       'studio', 'director', 'Genre_1', 'Genre_2', 'Genre_3', 'actor_1',\n",
       "       'actor_2', 'actor_3', 'contract_price', 'studio_score', 'price_class',\n",
       "       'price'],\n",
       "      dtype='object')"
      ]
     },
     "execution_count": 42,
     "metadata": {},
     "output_type": "execute_result"
    }
   ],
   "source": [
    "download.columns"
   ]
  },
  {
   "cell_type": "code",
   "execution_count": 43,
   "metadata": {},
   "outputs": [
    {
     "data": {
      "text/plain": [
       "array([2015, 2016, 2017, 2018])"
      ]
     },
     "execution_count": 43,
     "metadata": {},
     "output_type": "execute_result"
    }
   ],
   "source": [
    "download.down_year"
   ]
  },
  {
   "cell_type": "markdown",
   "metadata": {},
   "source": [
    "## 히트맵 분석"
   ]
  },
  {
   "cell_type": "code",
   "execution_count": 16,
   "metadata": {},
   "outputs": [
    {
     "data": {
      "text/html": [
       "<div>\n",
       "<style scoped>\n",
       "    .dataframe tbody tr th:only-of-type {\n",
       "        vertical-align: middle;\n",
       "    }\n",
       "\n",
       "    .dataframe tbody tr th {\n",
       "        vertical-align: top;\n",
       "    }\n",
       "\n",
       "    .dataframe thead th {\n",
       "        text-align: right;\n",
       "    }\n",
       "</style>\n",
       "<table border=\"1\" class=\"dataframe\">\n",
       "  <thead>\n",
       "    <tr style=\"text-align: right;\">\n",
       "      <th></th>\n",
       "      <th>Unnamed: 0</th>\n",
       "      <th>item_id</th>\n",
       "      <th>movie_id</th>\n",
       "      <th>title</th>\n",
       "      <th>release_year</th>\n",
       "      <th>contract_year</th>\n",
       "      <th>runtime</th>\n",
       "      <th>mpa_rating</th>\n",
       "      <th>imdb_score</th>\n",
       "      <th>votes</th>\n",
       "      <th>...</th>\n",
       "      <th>actor_2</th>\n",
       "      <th>actor_3</th>\n",
       "      <th>contract_price</th>\n",
       "      <th>studio_score</th>\n",
       "      <th>price_class</th>\n",
       "      <th>price</th>\n",
       "      <th>total_price</th>\n",
       "      <th>total_dollar</th>\n",
       "      <th>interest</th>\n",
       "      <th>theater_total</th>\n",
       "    </tr>\n",
       "  </thead>\n",
       "  <tbody>\n",
       "    <tr>\n",
       "      <th>0</th>\n",
       "      <td>0</td>\n",
       "      <td>I-1063</td>\n",
       "      <td>tt2452042</td>\n",
       "      <td>The Peanuts Movie</td>\n",
       "      <td>2015</td>\n",
       "      <td>2016</td>\n",
       "      <td>88</td>\n",
       "      <td>G</td>\n",
       "      <td>7.1</td>\n",
       "      <td>39900</td>\n",
       "      <td>...</td>\n",
       "      <td>Rebecca Bloom</td>\n",
       "      <td>Anastasia Bredikhina</td>\n",
       "      <td>2195</td>\n",
       "      <td>6</td>\n",
       "      <td>1</td>\n",
       "      <td>5000.0</td>\n",
       "      <td>17995000.0</td>\n",
       "      <td>15841.0</td>\n",
       "      <td>13646.0</td>\n",
       "      <td>3902</td>\n",
       "    </tr>\n",
       "    <tr>\n",
       "      <th>1</th>\n",
       "      <td>1</td>\n",
       "      <td>I-1061</td>\n",
       "      <td>tt3659388</td>\n",
       "      <td>The Martian</td>\n",
       "      <td>2015</td>\n",
       "      <td>2016</td>\n",
       "      <td>144</td>\n",
       "      <td>PG-13</td>\n",
       "      <td>8.0</td>\n",
       "      <td>701756</td>\n",
       "      <td>...</td>\n",
       "      <td>Jessica Chastain</td>\n",
       "      <td>Kristen Wiig</td>\n",
       "      <td>2600</td>\n",
       "      <td>6</td>\n",
       "      <td>10</td>\n",
       "      <td>4500.0</td>\n",
       "      <td>16344000.0</td>\n",
       "      <td>14387.0</td>\n",
       "      <td>11787.0</td>\n",
       "      <td>3854</td>\n",
       "    </tr>\n",
       "    <tr>\n",
       "      <th>2</th>\n",
       "      <td>2</td>\n",
       "      <td>I-1059</td>\n",
       "      <td>tt1398426</td>\n",
       "      <td>Straight Outta Compton</td>\n",
       "      <td>2015</td>\n",
       "      <td>2016</td>\n",
       "      <td>147</td>\n",
       "      <td>R</td>\n",
       "      <td>7.9</td>\n",
       "      <td>168582</td>\n",
       "      <td>...</td>\n",
       "      <td>Corey Hawkins</td>\n",
       "      <td>Jason Mitchell</td>\n",
       "      <td>2600</td>\n",
       "      <td>6</td>\n",
       "      <td>10</td>\n",
       "      <td>4500.0</td>\n",
       "      <td>15975000.0</td>\n",
       "      <td>14062.0</td>\n",
       "      <td>11462.0</td>\n",
       "      <td>3142</td>\n",
       "    </tr>\n",
       "    <tr>\n",
       "      <th>3</th>\n",
       "      <td>3</td>\n",
       "      <td>I-1062</td>\n",
       "      <td>tt2379713</td>\n",
       "      <td>Spectre</td>\n",
       "      <td>2015</td>\n",
       "      <td>2016</td>\n",
       "      <td>148</td>\n",
       "      <td>PG-13</td>\n",
       "      <td>6.8</td>\n",
       "      <td>359445</td>\n",
       "      <td>...</td>\n",
       "      <td>Christoph Waltz</td>\n",
       "      <td>L占쏙옙a Seydoux</td>\n",
       "      <td>2295</td>\n",
       "      <td>10</td>\n",
       "      <td>1</td>\n",
       "      <td>4000.0</td>\n",
       "      <td>14644000.0</td>\n",
       "      <td>12891.0</td>\n",
       "      <td>10596.0</td>\n",
       "      <td>3929</td>\n",
       "    </tr>\n",
       "    <tr>\n",
       "      <th>4</th>\n",
       "      <td>4</td>\n",
       "      <td>I-1060</td>\n",
       "      <td>tt2510894</td>\n",
       "      <td>Hotel Transylvania 2</td>\n",
       "      <td>2015</td>\n",
       "      <td>2016</td>\n",
       "      <td>89</td>\n",
       "      <td>PG</td>\n",
       "      <td>6.7</td>\n",
       "      <td>96526</td>\n",
       "      <td>...</td>\n",
       "      <td>Andy Samberg</td>\n",
       "      <td>Selena Gomez</td>\n",
       "      <td>2295</td>\n",
       "      <td>10</td>\n",
       "      <td>1</td>\n",
       "      <td>4000.0</td>\n",
       "      <td>14432000.0</td>\n",
       "      <td>12704.0</td>\n",
       "      <td>10409.0</td>\n",
       "      <td>3768</td>\n",
       "    </tr>\n",
       "    <tr>\n",
       "      <th>...</th>\n",
       "      <td>...</td>\n",
       "      <td>...</td>\n",
       "      <td>...</td>\n",
       "      <td>...</td>\n",
       "      <td>...</td>\n",
       "      <td>...</td>\n",
       "      <td>...</td>\n",
       "      <td>...</td>\n",
       "      <td>...</td>\n",
       "      <td>...</td>\n",
       "      <td>...</td>\n",
       "      <td>...</td>\n",
       "      <td>...</td>\n",
       "      <td>...</td>\n",
       "      <td>...</td>\n",
       "      <td>...</td>\n",
       "      <td>...</td>\n",
       "      <td>...</td>\n",
       "      <td>...</td>\n",
       "      <td>...</td>\n",
       "      <td>...</td>\n",
       "    </tr>\n",
       "    <tr>\n",
       "      <th>101</th>\n",
       "      <td>101</td>\n",
       "      <td>I-1098</td>\n",
       "      <td>tt5463162</td>\n",
       "      <td>Deadpool 2</td>\n",
       "      <td>2018</td>\n",
       "      <td>2019</td>\n",
       "      <td>119</td>\n",
       "      <td>R</td>\n",
       "      <td>7.7</td>\n",
       "      <td>424573</td>\n",
       "      <td>...</td>\n",
       "      <td>Josh Brolin</td>\n",
       "      <td>Morena Baccarin</td>\n",
       "      <td>2600</td>\n",
       "      <td>6</td>\n",
       "      <td>10</td>\n",
       "      <td>4500.0</td>\n",
       "      <td>0.0</td>\n",
       "      <td>0.0</td>\n",
       "      <td>-2600.0</td>\n",
       "      <td>4349</td>\n",
       "    </tr>\n",
       "    <tr>\n",
       "      <th>102</th>\n",
       "      <td>102</td>\n",
       "      <td>I-1104</td>\n",
       "      <td>tt1727824</td>\n",
       "      <td>Bohemian Rhapsody</td>\n",
       "      <td>2018</td>\n",
       "      <td>2019</td>\n",
       "      <td>134</td>\n",
       "      <td>PG-13</td>\n",
       "      <td>8.0</td>\n",
       "      <td>392599</td>\n",
       "      <td>...</td>\n",
       "      <td>Lucy Boynton</td>\n",
       "      <td>Gwilym Lee</td>\n",
       "      <td>2600</td>\n",
       "      <td>6</td>\n",
       "      <td>10</td>\n",
       "      <td>4500.0</td>\n",
       "      <td>0.0</td>\n",
       "      <td>0.0</td>\n",
       "      <td>-2600.0</td>\n",
       "      <td>4000</td>\n",
       "    </tr>\n",
       "    <tr>\n",
       "      <th>103</th>\n",
       "      <td>103</td>\n",
       "      <td>I-1097</td>\n",
       "      <td>tt4154756</td>\n",
       "      <td>Avengers: Infinity War</td>\n",
       "      <td>2018</td>\n",
       "      <td>2019</td>\n",
       "      <td>149</td>\n",
       "      <td>PG-13</td>\n",
       "      <td>8.5</td>\n",
       "      <td>725138</td>\n",
       "      <td>...</td>\n",
       "      <td>Chris Hemsworth</td>\n",
       "      <td>Mark Ruffalo</td>\n",
       "      <td>2700</td>\n",
       "      <td>10</td>\n",
       "      <td>10</td>\n",
       "      <td>7200.0</td>\n",
       "      <td>0.0</td>\n",
       "      <td>0.0</td>\n",
       "      <td>-2700.0</td>\n",
       "      <td>4474</td>\n",
       "    </tr>\n",
       "    <tr>\n",
       "      <th>104</th>\n",
       "      <td>104</td>\n",
       "      <td>I-1100</td>\n",
       "      <td>tt3606756</td>\n",
       "      <td>Incredibles 2</td>\n",
       "      <td>2018</td>\n",
       "      <td>2019</td>\n",
       "      <td>118</td>\n",
       "      <td>PG</td>\n",
       "      <td>7.7</td>\n",
       "      <td>219133</td>\n",
       "      <td>...</td>\n",
       "      <td>Holly Hunter</td>\n",
       "      <td>Sarah Vowell</td>\n",
       "      <td>2700</td>\n",
       "      <td>10</td>\n",
       "      <td>10</td>\n",
       "      <td>7200.0</td>\n",
       "      <td>0.0</td>\n",
       "      <td>0.0</td>\n",
       "      <td>-2700.0</td>\n",
       "      <td>4410</td>\n",
       "    </tr>\n",
       "    <tr>\n",
       "      <th>105</th>\n",
       "      <td>105</td>\n",
       "      <td>I-1103</td>\n",
       "      <td>tt4912910</td>\n",
       "      <td>Mission: Impossible - Fallout</td>\n",
       "      <td>2018</td>\n",
       "      <td>2019</td>\n",
       "      <td>147</td>\n",
       "      <td>PG-13</td>\n",
       "      <td>7.8</td>\n",
       "      <td>251993</td>\n",
       "      <td>...</td>\n",
       "      <td>Henry Cavill</td>\n",
       "      <td>Ving Rhames</td>\n",
       "      <td>2700</td>\n",
       "      <td>10</td>\n",
       "      <td>10</td>\n",
       "      <td>5000.0</td>\n",
       "      <td>0.0</td>\n",
       "      <td>0.0</td>\n",
       "      <td>-2700.0</td>\n",
       "      <td>4395</td>\n",
       "    </tr>\n",
       "  </tbody>\n",
       "</table>\n",
       "<p>106 rows × 32 columns</p>\n",
       "</div>"
      ],
      "text/plain": [
       "     Unnamed: 0 item_id   movie_id                          title  \\\n",
       "0             0  I-1063  tt2452042              The Peanuts Movie   \n",
       "1             1  I-1061  tt3659388                    The Martian   \n",
       "2             2  I-1059  tt1398426         Straight Outta Compton   \n",
       "3             3  I-1062  tt2379713                        Spectre   \n",
       "4             4  I-1060  tt2510894           Hotel Transylvania 2   \n",
       "..          ...     ...        ...                            ...   \n",
       "101         101  I-1098  tt5463162                     Deadpool 2   \n",
       "102         102  I-1104  tt1727824              Bohemian Rhapsody   \n",
       "103         103  I-1097  tt4154756         Avengers: Infinity War   \n",
       "104         104  I-1100  tt3606756                  Incredibles 2   \n",
       "105         105  I-1103  tt4912910  Mission: Impossible - Fallout   \n",
       "\n",
       "     release_year  contract_year  runtime mpa_rating  imdb_score   votes  ...  \\\n",
       "0            2015           2016       88          G         7.1   39900  ...   \n",
       "1            2015           2016      144      PG-13         8.0  701756  ...   \n",
       "2            2015           2016      147          R         7.9  168582  ...   \n",
       "3            2015           2016      148      PG-13         6.8  359445  ...   \n",
       "4            2015           2016       89         PG         6.7   96526  ...   \n",
       "..            ...            ...      ...        ...         ...     ...  ...   \n",
       "101          2018           2019      119          R         7.7  424573  ...   \n",
       "102          2018           2019      134      PG-13         8.0  392599  ...   \n",
       "103          2018           2019      149      PG-13         8.5  725138  ...   \n",
       "104          2018           2019      118         PG         7.7  219133  ...   \n",
       "105          2018           2019      147      PG-13         7.8  251993  ...   \n",
       "\n",
       "              actor_2               actor_3  contract_price  studio_score  \\\n",
       "0       Rebecca Bloom  Anastasia Bredikhina            2195             6   \n",
       "1    Jessica Chastain          Kristen Wiig            2600             6   \n",
       "2       Corey Hawkins        Jason Mitchell            2600             6   \n",
       "3     Christoph Waltz         L占쏙옙a Seydoux            2295            10   \n",
       "4        Andy Samberg          Selena Gomez            2295            10   \n",
       "..                ...                   ...             ...           ...   \n",
       "101       Josh Brolin       Morena Baccarin            2600             6   \n",
       "102      Lucy Boynton            Gwilym Lee            2600             6   \n",
       "103   Chris Hemsworth          Mark Ruffalo            2700            10   \n",
       "104      Holly Hunter          Sarah Vowell            2700            10   \n",
       "105      Henry Cavill           Ving Rhames            2700            10   \n",
       "\n",
       "     price_class   price total_price total_dollar interest theater_total  \n",
       "0              1  5000.0  17995000.0      15841.0  13646.0          3902  \n",
       "1             10  4500.0  16344000.0      14387.0  11787.0          3854  \n",
       "2             10  4500.0  15975000.0      14062.0  11462.0          3142  \n",
       "3              1  4000.0  14644000.0      12891.0  10596.0          3929  \n",
       "4              1  4000.0  14432000.0      12704.0  10409.0          3768  \n",
       "..           ...     ...         ...          ...      ...           ...  \n",
       "101           10  4500.0         0.0          0.0  -2600.0          4349  \n",
       "102           10  4500.0         0.0          0.0  -2600.0          4000  \n",
       "103           10  7200.0         0.0          0.0  -2700.0          4474  \n",
       "104           10  7200.0         0.0          0.0  -2700.0          4410  \n",
       "105           10  5000.0         0.0          0.0  -2700.0          4395  \n",
       "\n",
       "[106 rows x 32 columns]"
      ]
     },
     "execution_count": 16,
     "metadata": {},
     "output_type": "execute_result"
    }
   ],
   "source": [
    "df_inv = pd.read_csv(\"./Data_OTT_update/inventory_theater_total.csv\")\n",
    "df_inv"
   ]
  },
  {
   "cell_type": "code",
   "execution_count": 17,
   "metadata": {
    "collapsed": true
   },
   "outputs": [
    {
     "name": "stdout",
     "output_type": "stream",
     "text": [
      "<class 'pandas.core.frame.DataFrame'>\n",
      "RangeIndex: 106 entries, 0 to 105\n",
      "Data columns (total 32 columns):\n",
      " #   Column           Non-Null Count  Dtype  \n",
      "---  ------           --------------  -----  \n",
      " 0   Unnamed: 0       106 non-null    int64  \n",
      " 1   item_id          106 non-null    object \n",
      " 2   movie_id         106 non-null    object \n",
      " 3   title            106 non-null    object \n",
      " 4   release_year     106 non-null    int64  \n",
      " 5   contract_year    106 non-null    int64  \n",
      " 6   runtime          106 non-null    int64  \n",
      " 7   mpa_rating       106 non-null    object \n",
      " 8   imdb_score       106 non-null    float64\n",
      " 9   votes            106 non-null    int64  \n",
      " 10  reviews_users    106 non-null    int64  \n",
      " 11  reviews_critics  106 non-null    int64  \n",
      " 12  budget           106 non-null    int64  \n",
      " 13  income_usa       106 non-null    int64  \n",
      " 14  income_ww        106 non-null    int64  \n",
      " 15  country_1        106 non-null    object \n",
      " 16  studio           106 non-null    object \n",
      " 17  director         106 non-null    object \n",
      " 18  Genre_1          106 non-null    object \n",
      " 19  Genre_2          106 non-null    object \n",
      " 20  Genre_3          106 non-null    object \n",
      " 21  actor_1          106 non-null    object \n",
      " 22  actor_2          106 non-null    object \n",
      " 23  actor_3          106 non-null    object \n",
      " 24  contract_price   106 non-null    int64  \n",
      " 25  studio_score     106 non-null    int64  \n",
      " 26  price_class      106 non-null    int64  \n",
      " 27  price            106 non-null    float64\n",
      " 28  total_price      106 non-null    float64\n",
      " 29  total_dollar     106 non-null    float64\n",
      " 30  interest         106 non-null    float64\n",
      " 31  theater_total    106 non-null    int64  \n",
      "dtypes: float64(5), int64(14), object(13)\n",
      "memory usage: 26.6+ KB\n"
     ]
    }
   ],
   "source": [
    "df_inv.info()"
   ]
  },
  {
   "cell_type": "code",
   "execution_count": 18,
   "metadata": {
    "collapsed": true
   },
   "outputs": [
    {
     "data": {
      "image/png": "[encoded data removed]",
      "text/plain": [
       "<Figure size 720x720 with 2 Axes>"
      ]
     },
     "metadata": {},
     "output_type": "display_data"
    }
   ],
   "source": [
    "# total_theature, income, reviews_users, imdb_score \n",
    "# [[\"theater_total\",\"imdb_score\",\"reviews_users\"]]\n",
    "\n",
    "corr = df_inv[[\"theater_total\",\"imdb_score\",\"reviews_users\",\"interest\"]].corr().round(3)\n",
    "\n",
    "sns.set(font_scale=1.5)\n",
    "plt.figure(figsize=(10, 10))\n",
    "df_heatmap = sns.heatmap(corr, cbar=True, annot=True,\n",
    "                        annot_kws={'size':18}, fmt='.2f', square=True, cmap ='cool')"
   ]
  },
  {
   "cell_type": "markdown",
   "metadata": {},
   "source": [
    "1) 목표변수와 설명변수 간 상관관계  \n",
    "- interest는 다른 변수들과 상관관계가 없음  \n",
    "  \n",
    "2) 설명변수간 상관관계  \n",
    "- 리뷰 수와 투표 수간 양의 상관관계 --> 리뷰가 많으면 평점 수도 많음\n",
    "- 계약 금액, 가격 등급은 imdb 평점과 높은 양의 상관관계 --> 평점으로 등급과 계약 금액을 매기기 때문,, \n",
    "- 계약 가격과 가격 등급은 거의 동일한 것으로 보임 --> 하나 제외해도 되지 않을까? \n",
    "- total_price = total_dallar = interest --> 같은 분포이기 때문에 제외"
   ]
  },
  {
   "cell_type": "code",
   "execution_count": null,
   "metadata": {},
   "outputs": [],
   "source": []
  }
 ],
 "metadata": {
  "kernelspec": {
   "display_name": "Python 3",
   "language": "python",
   "name": "python3"
  },
  "language_info": {
   "codemirror_mode": {
    "name": "ipython",
    "version": 3
   },
   "file_extension": ".py",
   "mimetype": "text/x-python",
   "name": "python",
   "nbconvert_exporter": "python",
   "pygments_lexer": "ipython3",
   "version": "3.8.5"
  }
 },
 "nbformat": 4,
 "nbformat_minor": 4
}
