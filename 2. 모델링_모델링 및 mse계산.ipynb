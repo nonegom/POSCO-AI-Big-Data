{
 "cells": [
  {
   "cell_type": "code",
   "execution_count": 1,
   "metadata": {},
   "outputs": [],
   "source": [
    "import pandas as pd\n",
    "import numpy as np\n",
    "\n",
    "# 데이터 시각화 패키지\n",
    "import matplotlib\n",
    "import matplotlib.pyplot as plt\n",
    "import seaborn as sns\n",
    "\n",
    "# 데이터 split\n",
    "from sklearn.model_selection import train_test_split\n",
    "\n",
    "# 회귀분석\n",
    "import statsmodels.formula.api as smf\n",
    "import statsmodels.formula.api as ol\n",
    "\n",
    "from sklearn.tree import DecisionTreeRegressor\n",
    "# 앙상블 모델\n",
    "from sklearn.ensemble import GradientBoostingRegressor as GBR\n",
    "from sklearn.ensemble import RandomForestRegressor as RFR\n",
    "\n",
    "from sklearn.model_selection import GridSearchCV\n",
    "\n",
    "# 평가함수\n",
    "from sklearn.metrics import mean_squared_error\n",
    "from sklearn.metrics import mean_absolute_error\n",
    "\n",
    "# 주피터 노트북 사용시 그래프 자동 출력 옵션\n",
    "%matplotlib inline\n",
    "\n",
    "# 폰트 설정\n",
    "matplotlib.rc('font', family = \"NanumGothic\")\n",
    "plt.rc('font', family = \"NanumGothic\")\n",
    "plt.rcParams[\"font.family\"] = 'NanumGothic'\n",
    "plt.rcParams['axes.unicode_minus'] = False"
   ]
  },
  {
   "cell_type": "code",
   "execution_count": 2,
   "metadata": {},
   "outputs": [],
   "source": [
    "def root_mean_squared_error(y_true, y_pred):\n",
    "    return np.sqrt(mean_squared_error(y_true, y_pred))\n",
    "\n",
    "def mean_absolute_percenatage_error(y_true, y_pred):\n",
    "    return np.mean(np.abs((y_true - y_pred) / y_true)) *  100"
   ]
  },
  {
   "cell_type": "code",
   "execution_count": 3,
   "metadata": {},
   "outputs": [],
   "source": [
    "df_raw = pd.read_csv(\"./Data_OTT_update/customer.csv\", engine=\"python\")"
   ]
  },
  {
   "cell_type": "markdown",
   "metadata": {},
   "source": [
    "# 데이터 전처리"
   ]
  },
  {
   "cell_type": "code",
   "execution_count": 4,
   "metadata": {},
   "outputs": [
    {
     "data": {
      "text/html": [
       "<div>\n",
       "<style scoped>\n",
       "    .dataframe tbody tr th:only-of-type {\n",
       "        vertical-align: middle;\n",
       "    }\n",
       "\n",
       "    .dataframe tbody tr th {\n",
       "        vertical-align: top;\n",
       "    }\n",
       "\n",
       "    .dataframe thead th {\n",
       "        text-align: right;\n",
       "    }\n",
       "</style>\n",
       "<table border=\"1\" class=\"dataframe\">\n",
       "  <thead>\n",
       "    <tr style=\"text-align: right;\">\n",
       "      <th></th>\n",
       "      <th>gender</th>\n",
       "      <th>age</th>\n",
       "      <th>age_group</th>\n",
       "      <th>married</th>\n",
       "      <th>kids_under12</th>\n",
       "      <th>subs_start_year</th>\n",
       "      <th>total_price</th>\n",
       "    </tr>\n",
       "  </thead>\n",
       "  <tbody>\n",
       "    <tr>\n",
       "      <th>0</th>\n",
       "      <td>F</td>\n",
       "      <td>51</td>\n",
       "      <td>50</td>\n",
       "      <td>1</td>\n",
       "      <td>0</td>\n",
       "      <td>2015</td>\n",
       "      <td>262000.0</td>\n",
       "    </tr>\n",
       "    <tr>\n",
       "      <th>1</th>\n",
       "      <td>M</td>\n",
       "      <td>22</td>\n",
       "      <td>20</td>\n",
       "      <td>0</td>\n",
       "      <td>0</td>\n",
       "      <td>2015</td>\n",
       "      <td>102200.0</td>\n",
       "    </tr>\n",
       "    <tr>\n",
       "      <th>2</th>\n",
       "      <td>F</td>\n",
       "      <td>33</td>\n",
       "      <td>30</td>\n",
       "      <td>1</td>\n",
       "      <td>1</td>\n",
       "      <td>2015</td>\n",
       "      <td>270800.0</td>\n",
       "    </tr>\n",
       "    <tr>\n",
       "      <th>3</th>\n",
       "      <td>F</td>\n",
       "      <td>24</td>\n",
       "      <td>20</td>\n",
       "      <td>1</td>\n",
       "      <td>0</td>\n",
       "      <td>2015</td>\n",
       "      <td>200400.0</td>\n",
       "    </tr>\n",
       "    <tr>\n",
       "      <th>4</th>\n",
       "      <td>F</td>\n",
       "      <td>35</td>\n",
       "      <td>30</td>\n",
       "      <td>1</td>\n",
       "      <td>0</td>\n",
       "      <td>2015</td>\n",
       "      <td>165900.0</td>\n",
       "    </tr>\n",
       "    <tr>\n",
       "      <th>...</th>\n",
       "      <td>...</td>\n",
       "      <td>...</td>\n",
       "      <td>...</td>\n",
       "      <td>...</td>\n",
       "      <td>...</td>\n",
       "      <td>...</td>\n",
       "      <td>...</td>\n",
       "    </tr>\n",
       "    <tr>\n",
       "      <th>3272</th>\n",
       "      <td>F</td>\n",
       "      <td>43</td>\n",
       "      <td>40</td>\n",
       "      <td>1</td>\n",
       "      <td>0</td>\n",
       "      <td>2018</td>\n",
       "      <td>37000.0</td>\n",
       "    </tr>\n",
       "    <tr>\n",
       "      <th>3273</th>\n",
       "      <td>F</td>\n",
       "      <td>24</td>\n",
       "      <td>20</td>\n",
       "      <td>1</td>\n",
       "      <td>0</td>\n",
       "      <td>2018</td>\n",
       "      <td>48700.0</td>\n",
       "    </tr>\n",
       "    <tr>\n",
       "      <th>3274</th>\n",
       "      <td>F</td>\n",
       "      <td>55</td>\n",
       "      <td>50</td>\n",
       "      <td>0</td>\n",
       "      <td>0</td>\n",
       "      <td>2018</td>\n",
       "      <td>44500.0</td>\n",
       "    </tr>\n",
       "    <tr>\n",
       "      <th>3275</th>\n",
       "      <td>F</td>\n",
       "      <td>36</td>\n",
       "      <td>30</td>\n",
       "      <td>0</td>\n",
       "      <td>1</td>\n",
       "      <td>2018</td>\n",
       "      <td>77500.0</td>\n",
       "    </tr>\n",
       "    <tr>\n",
       "      <th>3276</th>\n",
       "      <td>M</td>\n",
       "      <td>37</td>\n",
       "      <td>30</td>\n",
       "      <td>0</td>\n",
       "      <td>0</td>\n",
       "      <td>2018</td>\n",
       "      <td>48700.0</td>\n",
       "    </tr>\n",
       "  </tbody>\n",
       "</table>\n",
       "<p>3277 rows × 7 columns</p>\n",
       "</div>"
      ],
      "text/plain": [
       "     gender  age  age_group  married  kids_under12  subs_start_year  \\\n",
       "0         F   51         50        1             0             2015   \n",
       "1         M   22         20        0             0             2015   \n",
       "2         F   33         30        1             1             2015   \n",
       "3         F   24         20        1             0             2015   \n",
       "4         F   35         30        1             0             2015   \n",
       "...     ...  ...        ...      ...           ...              ...   \n",
       "3272      F   43         40        1             0             2018   \n",
       "3273      F   24         20        1             0             2018   \n",
       "3274      F   55         50        0             0             2018   \n",
       "3275      F   36         30        0             1             2018   \n",
       "3276      M   37         30        0             0             2018   \n",
       "\n",
       "      total_price  \n",
       "0        262000.0  \n",
       "1        102200.0  \n",
       "2        270800.0  \n",
       "3        200400.0  \n",
       "4        165900.0  \n",
       "...           ...  \n",
       "3272      37000.0  \n",
       "3273      48700.0  \n",
       "3274      44500.0  \n",
       "3275      77500.0  \n",
       "3276      48700.0  \n",
       "\n",
       "[3277 rows x 7 columns]"
      ]
     },
     "execution_count": 4,
     "metadata": {},
     "output_type": "execute_result"
    }
   ],
   "source": [
    "df_raw.drop(\"customer_id\", axis=1, inplace=True) \n",
    "df_raw.drop('download_count', axis=1, inplace = True)\n",
    "df_raw.drop('class', axis = 1, inplace = True)\n",
    "df_raw.drop('area', axis = 1, inplace = True)\n",
    "df_raw"
   ]
  },
  {
   "cell_type": "markdown",
   "metadata": {},
   "source": [
    "total_price = 고객 데이터에서 다운로드 횟수를 묶어 고객이 다운로드한 데이터의 가격을 계산한 컬럼"
   ]
  },
  {
   "cell_type": "code",
   "execution_count": 5,
   "metadata": {},
   "outputs": [],
   "source": [
    "change_fm = {\"M\": 1, \"F\": 0}\n",
    "df_raw = df_raw.replace({'gender': change_fm})"
   ]
  },
  {
   "cell_type": "markdown",
   "metadata": {},
   "source": [
    "기존에 M, F 범주형으로 묶여있던 성별 컬럼을 남자면 1, 여자면 0 이렇게 연속형 변수로 변경"
   ]
  },
  {
   "cell_type": "code",
   "execution_count": 6,
   "metadata": {},
   "outputs": [
    {
     "data": {
      "text/html": [
       "<div>\n",
       "<style scoped>\n",
       "    .dataframe tbody tr th:only-of-type {\n",
       "        vertical-align: middle;\n",
       "    }\n",
       "\n",
       "    .dataframe tbody tr th {\n",
       "        vertical-align: top;\n",
       "    }\n",
       "\n",
       "    .dataframe thead th {\n",
       "        text-align: right;\n",
       "    }\n",
       "</style>\n",
       "<table border=\"1\" class=\"dataframe\">\n",
       "  <thead>\n",
       "    <tr style=\"text-align: right;\">\n",
       "      <th></th>\n",
       "      <th>gender</th>\n",
       "      <th>age</th>\n",
       "      <th>age_group</th>\n",
       "      <th>married</th>\n",
       "      <th>kids_under12</th>\n",
       "      <th>subs_start_year</th>\n",
       "      <th>total_price</th>\n",
       "    </tr>\n",
       "  </thead>\n",
       "  <tbody>\n",
       "    <tr>\n",
       "      <th>0</th>\n",
       "      <td>0</td>\n",
       "      <td>51</td>\n",
       "      <td>50</td>\n",
       "      <td>1</td>\n",
       "      <td>0</td>\n",
       "      <td>2015</td>\n",
       "      <td>262000.0</td>\n",
       "    </tr>\n",
       "    <tr>\n",
       "      <th>1</th>\n",
       "      <td>1</td>\n",
       "      <td>22</td>\n",
       "      <td>20</td>\n",
       "      <td>0</td>\n",
       "      <td>0</td>\n",
       "      <td>2015</td>\n",
       "      <td>102200.0</td>\n",
       "    </tr>\n",
       "    <tr>\n",
       "      <th>2</th>\n",
       "      <td>0</td>\n",
       "      <td>33</td>\n",
       "      <td>30</td>\n",
       "      <td>1</td>\n",
       "      <td>1</td>\n",
       "      <td>2015</td>\n",
       "      <td>270800.0</td>\n",
       "    </tr>\n",
       "    <tr>\n",
       "      <th>3</th>\n",
       "      <td>0</td>\n",
       "      <td>24</td>\n",
       "      <td>20</td>\n",
       "      <td>1</td>\n",
       "      <td>0</td>\n",
       "      <td>2015</td>\n",
       "      <td>200400.0</td>\n",
       "    </tr>\n",
       "    <tr>\n",
       "      <th>4</th>\n",
       "      <td>0</td>\n",
       "      <td>35</td>\n",
       "      <td>30</td>\n",
       "      <td>1</td>\n",
       "      <td>0</td>\n",
       "      <td>2015</td>\n",
       "      <td>165900.0</td>\n",
       "    </tr>\n",
       "  </tbody>\n",
       "</table>\n",
       "</div>"
      ],
      "text/plain": [
       "   gender  age  age_group  married  kids_under12  subs_start_year  total_price\n",
       "0       0   51         50        1             0             2015     262000.0\n",
       "1       1   22         20        0             0             2015     102200.0\n",
       "2       0   33         30        1             1             2015     270800.0\n",
       "3       0   24         20        1             0             2015     200400.0\n",
       "4       0   35         30        1             0             2015     165900.0"
      ]
     },
     "execution_count": 6,
     "metadata": {},
     "output_type": "execute_result"
    }
   ],
   "source": [
    "df_raw.head()"
   ]
  },
  {
   "cell_type": "code",
   "execution_count": 7,
   "metadata": {},
   "outputs": [
    {
     "data": {
      "text/html": [
       "<div>\n",
       "<style scoped>\n",
       "    .dataframe tbody tr th:only-of-type {\n",
       "        vertical-align: middle;\n",
       "    }\n",
       "\n",
       "    .dataframe tbody tr th {\n",
       "        vertical-align: top;\n",
       "    }\n",
       "\n",
       "    .dataframe thead th {\n",
       "        text-align: right;\n",
       "    }\n",
       "</style>\n",
       "<table border=\"1\" class=\"dataframe\">\n",
       "  <thead>\n",
       "    <tr style=\"text-align: right;\">\n",
       "      <th></th>\n",
       "      <th>gender</th>\n",
       "      <th>age</th>\n",
       "      <th>age_group</th>\n",
       "      <th>married</th>\n",
       "      <th>kids_under12</th>\n",
       "      <th>subs_start_year</th>\n",
       "    </tr>\n",
       "  </thead>\n",
       "  <tbody>\n",
       "    <tr>\n",
       "      <th>0</th>\n",
       "      <td>0</td>\n",
       "      <td>51</td>\n",
       "      <td>50</td>\n",
       "      <td>1</td>\n",
       "      <td>0</td>\n",
       "      <td>2015</td>\n",
       "    </tr>\n",
       "    <tr>\n",
       "      <th>1</th>\n",
       "      <td>1</td>\n",
       "      <td>22</td>\n",
       "      <td>20</td>\n",
       "      <td>0</td>\n",
       "      <td>0</td>\n",
       "      <td>2015</td>\n",
       "    </tr>\n",
       "    <tr>\n",
       "      <th>2</th>\n",
       "      <td>0</td>\n",
       "      <td>33</td>\n",
       "      <td>30</td>\n",
       "      <td>1</td>\n",
       "      <td>1</td>\n",
       "      <td>2015</td>\n",
       "    </tr>\n",
       "    <tr>\n",
       "      <th>3</th>\n",
       "      <td>0</td>\n",
       "      <td>24</td>\n",
       "      <td>20</td>\n",
       "      <td>1</td>\n",
       "      <td>0</td>\n",
       "      <td>2015</td>\n",
       "    </tr>\n",
       "    <tr>\n",
       "      <th>4</th>\n",
       "      <td>0</td>\n",
       "      <td>35</td>\n",
       "      <td>30</td>\n",
       "      <td>1</td>\n",
       "      <td>0</td>\n",
       "      <td>2015</td>\n",
       "    </tr>\n",
       "  </tbody>\n",
       "</table>\n",
       "</div>"
      ],
      "text/plain": [
       "   gender  age  age_group  married  kids_under12  subs_start_year\n",
       "0       0   51         50        1             0             2015\n",
       "1       1   22         20        0             0             2015\n",
       "2       0   33         30        1             1             2015\n",
       "3       0   24         20        1             0             2015\n",
       "4       0   35         30        1             0             2015"
      ]
     },
     "metadata": {},
     "output_type": "display_data"
    },
    {
     "name": "stdout",
     "output_type": "stream",
     "text": [
      "<class 'pandas.core.frame.DataFrame'>\n",
      "RangeIndex: 3277 entries, 0 to 3276\n",
      "Data columns (total 7 columns):\n",
      " #   Column           Non-Null Count  Dtype  \n",
      "---  ------           --------------  -----  \n",
      " 0   gender           3277 non-null   int64  \n",
      " 1   age              3277 non-null   int64  \n",
      " 2   age_group        3277 non-null   int64  \n",
      " 3   married          3277 non-null   int64  \n",
      " 4   kids_under12     3277 non-null   int64  \n",
      " 5   subs_start_year  3277 non-null   int64  \n",
      " 6   total_price      3277 non-null   float64\n",
      "dtypes: float64(1), int64(6)\n",
      "memory usage: 179.3 KB\n"
     ]
    },
    {
     "data": {
      "text/plain": [
       "None"
      ]
     },
     "metadata": {},
     "output_type": "display_data"
    },
    {
     "name": "stdout",
     "output_type": "stream",
     "text": [
      "train data X size: (1966, 6)\n",
      "train data Y size: (1966,)\n",
      "test data X size: (1311, 6)\n",
      "test data Y size: (1311,)\n"
     ]
    }
   ],
   "source": [
    "# X: 설명변수 데이터, Y: 목표변수 데이터, test_size = test 데이터 비율, random state= random seed\n",
    "df_raw_y = df_raw[\"total_price\"] # 목표변수\n",
    "df_raw_x = df_raw.drop(\"total_price\", axis=1, inplace=False) # 설명변수\n",
    "\n",
    "# get_dummies : 데이터의 문자형 변수에 대한 더미변수 생성\n",
    "df_raw_dummy = pd.get_dummies(df_raw_x)\n",
    "# 더미변수 생성된 데이터의 상위 5개 row를 확인\n",
    "display(df_raw_dummy.head())\n",
    "display(df_raw.info())\n",
    "\n",
    "# train 데이터 0.6, test 데이터 0.4로 분할\n",
    "df_train_x, df_test_x, df_train_y, df_test_y = train_test_split(df_raw_dummy, df_raw_y, test_size=0.4)\n",
    "\n",
    "print(\"train data X size: {}\".format(df_train_x.shape))\n",
    "print(\"train data Y size: {}\".format(df_train_y.shape))\n",
    "print(\"test data X size: {}\".format(df_test_x.shape))\n",
    "print(\"test data Y size: {}\".format(df_test_y.shape))"
   ]
  },
  {
   "cell_type": "markdown",
   "metadata": {},
   "source": [
    "고객이 원하는 컨텐츠 1건을 다운로드할 때마다 생기는 비용으로 수익을 창출하는 구조이기 때문에, \\\n",
    "고객이 다운로드한 데이터 누적 계산 비용이 좋은 영화사의 수익률을 높일 수 있는 지표라고 생각했고 이를 통해 목표변수로 설정하게 됨."
   ]
  },
  {
   "cell_type": "code",
   "execution_count": 8,
   "metadata": {},
   "outputs": [],
   "source": [
    "strings = \"+\".join(list(df_train_x.columns))"
   ]
  },
  {
   "cell_type": "code",
   "execution_count": 9,
   "metadata": {},
   "outputs": [
    {
     "data": {
      "text/plain": [
       "'gender+age+age_group+married+kids_under12+subs_start_year'"
      ]
     },
     "execution_count": 9,
     "metadata": {},
     "output_type": "execute_result"
    }
   ],
   "source": [
    "strings"
   ]
  },
  {
   "cell_type": "code",
   "execution_count": 10,
   "metadata": {},
   "outputs": [
    {
     "name": "stdout",
     "output_type": "stream",
     "text": [
      "                            OLS Regression Results                            \n",
      "==============================================================================\n",
      "Dep. Variable:            total_price   R-squared:                       0.782\n",
      "Model:                            OLS   Adj. R-squared:                  0.781\n",
      "Method:                 Least Squares   F-statistic:                     1952.\n",
      "Date:                Thu, 18 Mar 2021   Prob (F-statistic):               0.00\n",
      "Time:                        21:22:20   Log-Likelihood:                -39648.\n",
      "No. Observations:                3277   AIC:                         7.931e+04\n",
      "Df Residuals:                    3270   BIC:                         7.935e+04\n",
      "Df Model:                           6                                         \n",
      "Covariance Type:            nonrobust                                         \n",
      "===================================================================================\n",
      "                      coef    std err          t      P>|t|      [0.025      0.975]\n",
      "-----------------------------------------------------------------------------------\n",
      "Intercept        1.313e+08   1.41e+06     93.397      0.000    1.28e+08    1.34e+08\n",
      "gender          -1.475e+04   1527.527     -9.658      0.000   -1.77e+04   -1.18e+04\n",
      "age              -491.1586    269.260     -1.824      0.068   -1019.094      36.777\n",
      "age_group         876.1200    280.534      3.123      0.002     326.080    1426.160\n",
      "married          8187.2026   1892.781      4.325      0.000    4476.047    1.19e+04\n",
      "kids_under12     7.754e+04   1880.793     41.227      0.000    7.39e+04    8.12e+04\n",
      "subs_start_year -6.503e+04    696.965    -93.307      0.000   -6.64e+04   -6.37e+04\n",
      "==============================================================================\n",
      "Omnibus:                      162.873   Durbin-Watson:                   1.989\n",
      "Prob(Omnibus):                  0.000   Jarque-Bera (JB):              357.117\n",
      "Skew:                          -0.321   Prob(JB):                     2.84e-78\n",
      "Kurtosis:                       4.485   Cond. No.                     3.73e+06\n",
      "==============================================================================\n",
      "\n",
      "Notes:\n",
      "[1] Standard Errors assume that the covariance matrix of the errors is correctly specified.\n",
      "[2] The condition number is large, 3.73e+06. This might indicate that there are\n",
      "strong multicollinearity or other numerical problems.\n"
     ]
    }
   ],
   "source": [
    "# 회귀모델\n",
    "lr_model = smf.ols(formula = \"total_price ~ \" + strings, data = df_raw)\n",
    "lr_result = lr_model.fit()\n",
    "print(lr_result.summary())"
   ]
  },
  {
   "cell_type": "markdown",
   "metadata": {},
   "source": [
    "목표변수 total_price로 정하고, 그 외의 변수들을 설명변수로 정하고 회귀분석한 결과 설명력이 0.782로 출력이 되는 것을 확인했습니다."
   ]
  },
  {
   "cell_type": "code",
   "execution_count": 11,
   "metadata": {},
   "outputs": [
    {
     "name": "stdout",
     "output_type": "stream",
     "text": [
      "Score on training set: 0.837\n",
      "Score on test set: 0.822\n"
     ]
    }
   ],
   "source": [
    "# Decision Tree 모델\n",
    "dt_model = DecisionTreeRegressor(min_samples_leaf=14, min_samples_split=32, max_depth=7)\n",
    "dt_model.fit(df_train_x, df_train_y)\n",
    "\n",
    "print(\"Score on training set: {:.3f}\".format(dt_model.score(df_train_x, df_train_y)))\n",
    "\n",
    "#test데이터 설명력\n",
    "print(\"Score on test set: {:.3f}\".format(dt_model.score(df_test_x, df_test_y)))"
   ]
  },
  {
   "cell_type": "markdown",
   "metadata": {},
   "source": [
    "목표변수 total_price로 정하고, 그 외의 변수들을 설명변수로 정하고 의사결정나무를 모델링한 결과 설명력이 0.813으로 출력이 되는 것을 확인했습니다."
   ]
  },
  {
   "cell_type": "code",
   "execution_count": 12,
   "metadata": {},
   "outputs": [
    {
     "name": "stdout",
     "output_type": "stream",
     "text": [
      "Score on training set: 0.842\n",
      "Score on test set: 0.825\n"
     ]
    }
   ],
   "source": [
    "# RandomForest 모델\n",
    "rf_model = RFR(n_estimators=50, min_samples_leaf=9,\n",
    "                               min_samples_split=17, max_depth=8)\n",
    "rf_model.fit(df_train_x, df_train_y)\n",
    "\n",
    "# Train 데이터 설명력\n",
    "print(\"Score on training set: {:.3f}\".format(rf_model.score(df_train_x, df_train_y)))\n",
    "\n",
    "#test데이터 설명력\n",
    "print(\"Score on test set: {:.3f}\".format(rf_model.score(df_test_x, df_test_y)))"
   ]
  },
  {
   "cell_type": "markdown",
   "metadata": {},
   "source": [
    "목표변수 total_price로 정하고, 그 외의 변수들을 설명변수로 정하고 랜덤포레스트를 모델링한 결과 설명력이 0.817로 출력이 되는 것을 확인했습니다."
   ]
  },
  {
   "cell_type": "code",
   "execution_count": 13,
   "metadata": {},
   "outputs": [
    {
     "name": "stdout",
     "output_type": "stream",
     "text": [
      "Score on training set: 0.850\n",
      "Score on test set: 0.820\n"
     ]
    }
   ],
   "source": [
    "# Gradient Boosting 모델\n",
    "gb_model = GBR(n_estimators=80, min_samples_leaf=14, max_depth=6, learning_rate=0.1)\n",
    "gb_model.fit(df_train_x, df_train_y)\n",
    "\n",
    "# Train 데이터 설명력\n",
    "print(\"Score on training set: {:.3f}\".format(gb_model.score(df_train_x, df_train_y)))\n",
    "\n",
    "#test데이터 설명력\n",
    "print(\"Score on test set: {:.3f}\".format(gb_model.score(df_test_x, df_test_y)))"
   ]
  },
  {
   "cell_type": "markdown",
   "metadata": {},
   "source": [
    "목표변수 total_price로 정하고, 그 외의 변수들을 설명변수로 정하고 그래디언트 부스팅 모델을 모델링한 결과 설명력이 0.816으로 출력이 되는 것을 확인했습니다."
   ]
  },
  {
   "cell_type": "markdown",
   "metadata": {},
   "source": [
    "그리고 모든 모델링 결과 변수 중요도가 sub_start_year (고객의 구독 시작년도), kids_under12(12세 미만 어린이 고객), area_송파구(송파구 지역 고객), age(고객 나이) 순으로 분포되는 것을 확인할 수 있었습니다.\\\n",
    "이를 토대로 우리는 좋은 영화사와 total_price에 연관된 중요 변수를 도출하여 total_price에 대한 연관성을 파악할 수 있었습니다."
   ]
  },
  {
   "cell_type": "markdown",
   "metadata": {},
   "source": [
    "## 3. 예측 및 평가"
   ]
  },
  {
   "cell_type": "markdown",
   "metadata": {},
   "source": [
    "### 예측 평가 리스트 생성"
   ]
  },
  {
   "cell_type": "code",
   "execution_count": 14,
   "metadata": {},
   "outputs": [],
   "source": [
    "# 모델 리스트, 그래프를 그리기 위한 생성 목적\n",
    "models=[\"Linear\", \"Decision Tree\", \"Random Forest\", \"Gradient Boosting\"]\n",
    "\n",
    "# 평가 리스트 초기화\n",
    "mse, rmse, mae, mape = [], [], [], []"
   ]
  },
  {
   "cell_type": "markdown",
   "metadata": {},
   "source": [
    "1) Regression"
   ]
  },
  {
   "cell_type": "code",
   "execution_count": 15,
   "metadata": {},
   "outputs": [],
   "source": [
    "lr_y_pred = lr_result.predict(df_test_x)\n",
    "\n",
    "mse.append(mean_squared_error(df_test_y, lr_y_pred))\n",
    "rmse.append(root_mean_squared_error(df_test_y, lr_y_pred))\n",
    "mae.append(mean_absolute_error(df_test_y, lr_y_pred))\n",
    "mape.append(mean_absolute_percenatage_error(df_test_y, lr_y_pred))"
   ]
  },
  {
   "cell_type": "markdown",
   "metadata": {},
   "source": [
    "2) Decision Tree"
   ]
  },
  {
   "cell_type": "code",
   "execution_count": 16,
   "metadata": {},
   "outputs": [],
   "source": [
    "dt_y_pred = dt_model.predict(df_test_x)\n",
    "\n",
    "mse.append(mean_squared_error(df_test_y, dt_y_pred))\n",
    "rmse.append(root_mean_squared_error(df_test_y, dt_y_pred))\n",
    "mae.append(mean_absolute_error(df_test_y, dt_y_pred))\n",
    "mape.append(mean_absolute_percenatage_error(df_test_y, dt_y_pred))"
   ]
  },
  {
   "cell_type": "markdown",
   "metadata": {},
   "source": [
    "3) Random Forest"
   ]
  },
  {
   "cell_type": "code",
   "execution_count": 17,
   "metadata": {},
   "outputs": [],
   "source": [
    "rf_y_pred = rf_model.predict(df_test_x)\n",
    "\n",
    "mse.append(mean_squared_error(df_test_y, rf_y_pred))\n",
    "rmse.append(root_mean_squared_error(df_test_y, rf_y_pred))\n",
    "mae.append(mean_absolute_error(df_test_y, rf_y_pred))\n",
    "mape.append(mean_absolute_percenatage_error(df_test_y, rf_y_pred))"
   ]
  },
  {
   "cell_type": "markdown",
   "metadata": {},
   "source": [
    "4) Grdient Boosting"
   ]
  },
  {
   "cell_type": "code",
   "execution_count": 18,
   "metadata": {},
   "outputs": [],
   "source": [
    "gb_y_pred = gb_model.predict(df_test_x)\n",
    "\n",
    "mse.append(mean_squared_error(df_test_y, gb_y_pred))\n",
    "rmse.append(root_mean_squared_error(df_test_y, gb_y_pred))\n",
    "mae.append(mean_absolute_error(df_test_y, gb_y_pred))\n",
    "mape.append(mean_absolute_percenatage_error(df_test_y, gb_y_pred))"
   ]
  },
  {
   "cell_type": "code",
   "execution_count": 19,
   "metadata": {},
   "outputs": [
    {
     "name": "stdout",
     "output_type": "stream",
     "text": [
      "[25.817839408401355, 19.51068016211926, 19.452816546821204, 19.700317290724016]\n"
     ]
    }
   ],
   "source": [
    "print(mape)"
   ]
  },
  {
   "cell_type": "markdown",
   "metadata": {},
   "source": [
    "### 평가 시각화"
   ]
  },
  {
   "cell_type": "code",
   "execution_count": 22,
   "metadata": {},
   "outputs": [
    {
     "data": {
      "text/plain": [
       "Text(0.5, 1.0, 'mape')"
      ]
     },
     "execution_count": 22,
     "metadata": {},
     "output_type": "execute_result"
    },
    {
     "data": {
      "image/png": "[encoded data removed]",
      "text/plain": [
       "<Figure size 936x720 with 4 Axes>"
      ]
     },
     "metadata": {
      "needs_background": "light"
     },
     "output_type": "display_data"
    }
   ],
   "source": [
    "## 그래프 커스터 마이징\n",
    "colors = sns.color_palette('mako', 4)\n",
    "\n",
    "fig, ax = plt.subplots(nrows = 2, ncols = 2, figsize = (13, 10))\n",
    "\n",
    "ax[0, 0].bar(models, mse, color=colors)\n",
    "ax[0, 0].set_title(\"mse\", fontsize = 32)\n",
    "\n",
    "ax[0, 1].bar(models, rmse, color=colors)\n",
    "ax[0, 1].set_title(\"rmse\", fontsize = 32)\n",
    "\n",
    "ax[1, 0].bar(models, mae, color=colors)\n",
    "ax[1, 0].set_title(\"mae\", fontsize = 32)\n",
    "\n",
    "ax[1, 1].bar(models, mape, color=colors)\n",
    "ax[1, 1].set_title(\"mape\", fontsize = 32)"
   ]
  },
  {
   "cell_type": "markdown",
   "metadata": {},
   "source": [
    "- Regression 모델이 모든 평가 지표에서 가장 점수가 낮게 나왔기에 성능이 가장 좋다고 할 수 있다. 반면에 Decision Tree모델의 성능이 가장 좋지 않다고 할 수 있다. 평가지표별 모델의 정확도 \"추세\"는 동일하게 나타난다."
   ]
  },
  {
   "cell_type": "markdown",
   "metadata": {},
   "source": [
    "이 모델링을 통해서는 매출에 영향을 줄 수 있는 세분화된 고객 특성 인자 - 고객의 구독 시작년도, 12세 미만, 송파구 주민 고객, 고객의 나이를 도출할 수 있었습니다. \\ "
   ]
  },
  {
   "cell_type": "markdown",
   "metadata": {},
   "source": [
    "- 고객 기반(목표변수: 누적 금액): 고객 기반 모델링 결과 판매액에 영향을 미치는 요인으로 married, under_12 등이 나왔다.  --> 추후 마케팅 등을 진행할 때 핵심 타겟층으로 지정하거나, 해당 특성을 가진 고객들의 선호장르를 고려해서 판권 구매 \\\n",
    "- 영화 데이터 기반(목표변수: 총 판매액): 여러 모델링 결과 유의미한 특성을 발견할 수 없음. --> 우리 회사의 매출은 영화의 개별 인자보다는, 고객들의 선호도에 더 큰 영향을 받는다고 해석 -->   따라서 개별 고객들의 선호도를 반영한 추천 알고리즘의 개발 필요"
   ]
  }
 ],
 "metadata": {
  "kernelspec": {
   "display_name": "Python 3",
   "language": "python",
   "name": "python3"
  },
  "language_info": {
   "codemirror_mode": {
    "name": "ipython",
    "version": 3
   },
   "file_extension": ".py",
   "mimetype": "text/x-python",
   "name": "python",
   "nbconvert_exporter": "python",
   "pygments_lexer": "ipython3",
   "version": "3.8.5"
  }
 },
 "nbformat": 4,
 "nbformat_minor": 4
}
