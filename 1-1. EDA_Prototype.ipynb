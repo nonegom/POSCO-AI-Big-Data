{
 "cells": [
  {
   "cell_type": "markdown",
   "metadata": {},
   "source": [
    "# 1. 라이브러리 불러오기"
   ]
  },
  {
   "cell_type": "code",
   "execution_count": 1,
   "metadata": {},
   "outputs": [],
   "source": [
    "import pandas as pd\n",
    "from collections import Counter\n",
    "import seaborn as sns"
   ]
  },
  {
   "cell_type": "markdown",
   "metadata": {},
   "source": [
    "# 2. 데이터 불러오기"
   ]
  },
  {
   "cell_type": "code",
   "execution_count": 2,
   "metadata": {},
   "outputs": [
    {
     "data": {
      "text/html": [
       "<div>\n",
       "<style scoped>\n",
       "    .dataframe tbody tr th:only-of-type {\n",
       "        vertical-align: middle;\n",
       "    }\n",
       "\n",
       "    .dataframe tbody tr th {\n",
       "        vertical-align: top;\n",
       "    }\n",
       "\n",
       "    .dataframe thead th {\n",
       "        text-align: right;\n",
       "    }\n",
       "</style>\n",
       "<table border=\"1\" class=\"dataframe\">\n",
       "  <thead>\n",
       "    <tr style=\"text-align: right;\">\n",
       "      <th></th>\n",
       "      <th>item_id</th>\n",
       "      <th>contract_year</th>\n",
       "      <th>movie_id</th>\n",
       "      <th>title</th>\n",
       "      <th>price</th>\n",
       "      <th>release_year</th>\n",
       "      <th>runtime</th>\n",
       "      <th>mpa_rating</th>\n",
       "      <th>imdb_score</th>\n",
       "      <th>votes</th>\n",
       "      <th>...</th>\n",
       "      <th>Genre_3</th>\n",
       "      <th>actor_1</th>\n",
       "      <th>actor_2</th>\n",
       "      <th>actor_3</th>\n",
       "      <th>contract_price</th>\n",
       "      <th>studio_score</th>\n",
       "      <th>price_class</th>\n",
       "      <th>total_price</th>\n",
       "      <th>total_dollar</th>\n",
       "      <th>interest</th>\n",
       "    </tr>\n",
       "  </thead>\n",
       "  <tbody>\n",
       "    <tr>\n",
       "      <th>62</th>\n",
       "      <td>I-1063</td>\n",
       "      <td>2016</td>\n",
       "      <td>tt2452042</td>\n",
       "      <td>The Peanuts Movie</td>\n",
       "      <td>5000</td>\n",
       "      <td>2015</td>\n",
       "      <td>88</td>\n",
       "      <td>G</td>\n",
       "      <td>7.1</td>\n",
       "      <td>39900</td>\n",
       "      <td>...</td>\n",
       "      <td>Family</td>\n",
       "      <td>Trombone Shorty</td>\n",
       "      <td>Rebecca Bloom</td>\n",
       "      <td>Anastasia Bredikhina</td>\n",
       "      <td>2195</td>\n",
       "      <td>6</td>\n",
       "      <td>1</td>\n",
       "      <td>17995000</td>\n",
       "      <td>15841</td>\n",
       "      <td>13646</td>\n",
       "    </tr>\n",
       "    <tr>\n",
       "      <th>60</th>\n",
       "      <td>I-1061</td>\n",
       "      <td>2016</td>\n",
       "      <td>tt3659388</td>\n",
       "      <td>The Martian</td>\n",
       "      <td>4500</td>\n",
       "      <td>2015</td>\n",
       "      <td>144</td>\n",
       "      <td>PG-13</td>\n",
       "      <td>8.0</td>\n",
       "      <td>701756</td>\n",
       "      <td>...</td>\n",
       "      <td>Sci-Fi</td>\n",
       "      <td>Matt Damon</td>\n",
       "      <td>Jessica Chastain</td>\n",
       "      <td>Kristen Wiig</td>\n",
       "      <td>2600</td>\n",
       "      <td>6</td>\n",
       "      <td>10</td>\n",
       "      <td>16344000</td>\n",
       "      <td>14387</td>\n",
       "      <td>11787</td>\n",
       "    </tr>\n",
       "    <tr>\n",
       "      <th>58</th>\n",
       "      <td>I-1059</td>\n",
       "      <td>2016</td>\n",
       "      <td>tt1398426</td>\n",
       "      <td>Straight Outta Compton</td>\n",
       "      <td>4500</td>\n",
       "      <td>2015</td>\n",
       "      <td>147</td>\n",
       "      <td>R</td>\n",
       "      <td>7.9</td>\n",
       "      <td>168582</td>\n",
       "      <td>...</td>\n",
       "      <td>History</td>\n",
       "      <td>O'Shea Jackson Jr.</td>\n",
       "      <td>Corey Hawkins</td>\n",
       "      <td>Jason Mitchell</td>\n",
       "      <td>2600</td>\n",
       "      <td>6</td>\n",
       "      <td>10</td>\n",
       "      <td>15975000</td>\n",
       "      <td>14062</td>\n",
       "      <td>11462</td>\n",
       "    </tr>\n",
       "    <tr>\n",
       "      <th>61</th>\n",
       "      <td>I-1062</td>\n",
       "      <td>2016</td>\n",
       "      <td>tt2379713</td>\n",
       "      <td>Spectre</td>\n",
       "      <td>4000</td>\n",
       "      <td>2015</td>\n",
       "      <td>148</td>\n",
       "      <td>PG-13</td>\n",
       "      <td>6.8</td>\n",
       "      <td>359445</td>\n",
       "      <td>...</td>\n",
       "      <td>Thriller</td>\n",
       "      <td>Daniel Craig</td>\n",
       "      <td>Christoph Waltz</td>\n",
       "      <td>L占쏙옙a Seydoux</td>\n",
       "      <td>2295</td>\n",
       "      <td>10</td>\n",
       "      <td>1</td>\n",
       "      <td>14644000</td>\n",
       "      <td>12891</td>\n",
       "      <td>10596</td>\n",
       "    </tr>\n",
       "    <tr>\n",
       "      <th>59</th>\n",
       "      <td>I-1060</td>\n",
       "      <td>2016</td>\n",
       "      <td>tt2510894</td>\n",
       "      <td>Hotel Transylvania 2</td>\n",
       "      <td>4000</td>\n",
       "      <td>2015</td>\n",
       "      <td>89</td>\n",
       "      <td>PG</td>\n",
       "      <td>6.7</td>\n",
       "      <td>96526</td>\n",
       "      <td>...</td>\n",
       "      <td>Family</td>\n",
       "      <td>Adam Sandler</td>\n",
       "      <td>Andy Samberg</td>\n",
       "      <td>Selena Gomez</td>\n",
       "      <td>2295</td>\n",
       "      <td>10</td>\n",
       "      <td>1</td>\n",
       "      <td>14432000</td>\n",
       "      <td>12704</td>\n",
       "      <td>10409</td>\n",
       "    </tr>\n",
       "  </tbody>\n",
       "</table>\n",
       "<p>5 rows × 30 columns</p>\n",
       "</div>"
      ],
      "text/plain": [
       "   item_id  contract_year   movie_id                   title  price  \\\n",
       "62  I-1063           2016  tt2452042       The Peanuts Movie   5000   \n",
       "60  I-1061           2016  tt3659388             The Martian   4500   \n",
       "58  I-1059           2016  tt1398426  Straight Outta Compton   4500   \n",
       "61  I-1062           2016  tt2379713                 Spectre   4000   \n",
       "59  I-1060           2016  tt2510894    Hotel Transylvania 2   4000   \n",
       "\n",
       "    release_year  runtime mpa_rating  imdb_score   votes  ...   Genre_3  \\\n",
       "62          2015       88          G         7.1   39900  ...    Family   \n",
       "60          2015      144      PG-13         8.0  701756  ...    Sci-Fi   \n",
       "58          2015      147          R         7.9  168582  ...   History   \n",
       "61          2015      148      PG-13         6.8  359445  ...  Thriller   \n",
       "59          2015       89         PG         6.7   96526  ...    Family   \n",
       "\n",
       "               actor_1           actor_2               actor_3  \\\n",
       "62     Trombone Shorty     Rebecca Bloom  Anastasia Bredikhina   \n",
       "60          Matt Damon  Jessica Chastain          Kristen Wiig   \n",
       "58  O'Shea Jackson Jr.     Corey Hawkins        Jason Mitchell   \n",
       "61        Daniel Craig   Christoph Waltz         L占쏙옙a Seydoux   \n",
       "59        Adam Sandler      Andy Samberg          Selena Gomez   \n",
       "\n",
       "    contract_price studio_score price_class total_price total_dollar interest  \n",
       "62            2195            6           1    17995000        15841    13646  \n",
       "60            2600            6          10    16344000        14387    11787  \n",
       "58            2600            6          10    15975000        14062    11462  \n",
       "61            2295           10           1    14644000        12891    10596  \n",
       "59            2295           10           1    14432000        12704    10409  \n",
       "\n",
       "[5 rows x 30 columns]"
      ]
     },
     "execution_count": 2,
     "metadata": {},
     "output_type": "execute_result"
    }
   ],
   "source": [
    "# df_in 데이터셋 생성\n",
    "df_in = pd.read_csv('./Data_OTT_update/inventory_interest_final.csv', encoding = 'euc-kr', index_col = 0)\n",
    "df_in.head()"
   ]
  },
  {
   "cell_type": "code",
   "execution_count": 3,
   "metadata": {
    "collapsed": true
   },
   "outputs": [
    {
     "data": {
      "text/html": [
       "<div>\n",
       "<style scoped>\n",
       "    .dataframe tbody tr th:only-of-type {\n",
       "        vertical-align: middle;\n",
       "    }\n",
       "\n",
       "    .dataframe tbody tr th {\n",
       "        vertical-align: top;\n",
       "    }\n",
       "\n",
       "    .dataframe thead th {\n",
       "        text-align: right;\n",
       "    }\n",
       "</style>\n",
       "<table border=\"1\" class=\"dataframe\">\n",
       "  <thead>\n",
       "    <tr style=\"text-align: right;\">\n",
       "      <th></th>\n",
       "      <th>customer_id</th>\n",
       "      <th>gender</th>\n",
       "      <th>age</th>\n",
       "      <th>age_group</th>\n",
       "      <th>married</th>\n",
       "      <th>kids_under12</th>\n",
       "      <th>area</th>\n",
       "      <th>subs_start_year</th>\n",
       "      <th>download_count</th>\n",
       "      <th>total_price</th>\n",
       "      <th>class</th>\n",
       "    </tr>\n",
       "  </thead>\n",
       "  <tbody>\n",
       "    <tr>\n",
       "      <th>0</th>\n",
       "      <td>C5001</td>\n",
       "      <td>F</td>\n",
       "      <td>51</td>\n",
       "      <td>50대</td>\n",
       "      <td>M</td>\n",
       "      <td>N</td>\n",
       "      <td>용산구</td>\n",
       "      <td>2015</td>\n",
       "      <td>55</td>\n",
       "      <td>262000.0</td>\n",
       "      <td>Platinum</td>\n",
       "    </tr>\n",
       "    <tr>\n",
       "      <th>1</th>\n",
       "      <td>C5002</td>\n",
       "      <td>M</td>\n",
       "      <td>22</td>\n",
       "      <td>20대</td>\n",
       "      <td>S</td>\n",
       "      <td>N</td>\n",
       "      <td>강남구</td>\n",
       "      <td>2015</td>\n",
       "      <td>23</td>\n",
       "      <td>102200.0</td>\n",
       "      <td>Silver</td>\n",
       "    </tr>\n",
       "    <tr>\n",
       "      <th>2</th>\n",
       "      <td>C5003</td>\n",
       "      <td>F</td>\n",
       "      <td>33</td>\n",
       "      <td>30대</td>\n",
       "      <td>M</td>\n",
       "      <td>Y</td>\n",
       "      <td>서대문구</td>\n",
       "      <td>2015</td>\n",
       "      <td>55</td>\n",
       "      <td>270800.0</td>\n",
       "      <td>Platinum</td>\n",
       "    </tr>\n",
       "    <tr>\n",
       "      <th>3</th>\n",
       "      <td>C5004</td>\n",
       "      <td>F</td>\n",
       "      <td>24</td>\n",
       "      <td>20대</td>\n",
       "      <td>M</td>\n",
       "      <td>N</td>\n",
       "      <td>서대문구</td>\n",
       "      <td>2015</td>\n",
       "      <td>41</td>\n",
       "      <td>200400.0</td>\n",
       "      <td>Gold</td>\n",
       "    </tr>\n",
       "    <tr>\n",
       "      <th>4</th>\n",
       "      <td>C5005</td>\n",
       "      <td>F</td>\n",
       "      <td>35</td>\n",
       "      <td>30대</td>\n",
       "      <td>M</td>\n",
       "      <td>N</td>\n",
       "      <td>마포구</td>\n",
       "      <td>2015</td>\n",
       "      <td>34</td>\n",
       "      <td>165900.0</td>\n",
       "      <td>Gold</td>\n",
       "    </tr>\n",
       "  </tbody>\n",
       "</table>\n",
       "</div>"
      ],
      "text/plain": [
       "  customer_id gender  age age_group married kids_under12  area  \\\n",
       "0       C5001      F   51       50대       M            N   용산구   \n",
       "1       C5002      M   22       20대       S            N   강남구   \n",
       "2       C5003      F   33       30대       M            Y  서대문구   \n",
       "3       C5004      F   24       20대       M            N  서대문구   \n",
       "4       C5005      F   35       30대       M            N   마포구   \n",
       "\n",
       "   subs_start_year  download_count  total_price     class  \n",
       "0             2015              55     262000.0  Platinum  \n",
       "1             2015              23     102200.0    Silver  \n",
       "2             2015              55     270800.0  Platinum  \n",
       "3             2015              41     200400.0      Gold  \n",
       "4             2015              34     165900.0      Gold  "
      ]
     },
     "execution_count": 3,
     "metadata": {},
     "output_type": "execute_result"
    }
   ],
   "source": [
    "# df_cus 데이터셋 생성\n",
    "df_cus = pd.read_csv('./Data_OTT_update/movie_custom_final.csv', encoding = 'utf-8', index_col = 0)\n",
    "df_cus.head()"
   ]
  },
  {
   "cell_type": "code",
   "execution_count": 4,
   "metadata": {},
   "outputs": [
    {
     "data": {
      "text/html": [
       "<div>\n",
       "<style scoped>\n",
       "    .dataframe tbody tr th:only-of-type {\n",
       "        vertical-align: middle;\n",
       "    }\n",
       "\n",
       "    .dataframe tbody tr th {\n",
       "        vertical-align: top;\n",
       "    }\n",
       "\n",
       "    .dataframe thead th {\n",
       "        text-align: right;\n",
       "    }\n",
       "</style>\n",
       "<table border=\"1\" class=\"dataframe\">\n",
       "  <thead>\n",
       "    <tr style=\"text-align: right;\">\n",
       "      <th></th>\n",
       "      <th>Unnamed: 0</th>\n",
       "      <th>customer_id</th>\n",
       "      <th>item_id</th>\n",
       "      <th>down_date</th>\n",
       "      <th>down_year</th>\n",
       "      <th>down_month</th>\n",
       "      <th>down_weekday</th>\n",
       "      <th>season</th>\n",
       "    </tr>\n",
       "  </thead>\n",
       "  <tbody>\n",
       "    <tr>\n",
       "      <th>0</th>\n",
       "      <td>0</td>\n",
       "      <td>C5001</td>\n",
       "      <td>I-1038</td>\n",
       "      <td>2015-01-08</td>\n",
       "      <td>2015</td>\n",
       "      <td>Jan</td>\n",
       "      <td>Thu</td>\n",
       "      <td>winter</td>\n",
       "    </tr>\n",
       "    <tr>\n",
       "      <th>1</th>\n",
       "      <td>1</td>\n",
       "      <td>C5001</td>\n",
       "      <td>I-1003</td>\n",
       "      <td>2015-01-17</td>\n",
       "      <td>2015</td>\n",
       "      <td>Jan</td>\n",
       "      <td>Sat</td>\n",
       "      <td>winter</td>\n",
       "    </tr>\n",
       "    <tr>\n",
       "      <th>2</th>\n",
       "      <td>2</td>\n",
       "      <td>C5001</td>\n",
       "      <td>I-1017</td>\n",
       "      <td>2015-01-17</td>\n",
       "      <td>2015</td>\n",
       "      <td>Jan</td>\n",
       "      <td>Sat</td>\n",
       "      <td>winter</td>\n",
       "    </tr>\n",
       "    <tr>\n",
       "      <th>3</th>\n",
       "      <td>3</td>\n",
       "      <td>C5001</td>\n",
       "      <td>I-1028</td>\n",
       "      <td>2015-01-19</td>\n",
       "      <td>2015</td>\n",
       "      <td>Jan</td>\n",
       "      <td>Mon</td>\n",
       "      <td>winter</td>\n",
       "    </tr>\n",
       "    <tr>\n",
       "      <th>4</th>\n",
       "      <td>4</td>\n",
       "      <td>C5001</td>\n",
       "      <td>I-1036</td>\n",
       "      <td>2015-01-20</td>\n",
       "      <td>2015</td>\n",
       "      <td>Jan</td>\n",
       "      <td>Tue</td>\n",
       "      <td>winter</td>\n",
       "    </tr>\n",
       "  </tbody>\n",
       "</table>\n",
       "</div>"
      ],
      "text/plain": [
       "   Unnamed: 0 customer_id item_id   down_date  down_year down_month  \\\n",
       "0           0       C5001  I-1038  2015-01-08       2015        Jan   \n",
       "1           1       C5001  I-1003  2015-01-17       2015        Jan   \n",
       "2           2       C5001  I-1017  2015-01-17       2015        Jan   \n",
       "3           3       C5001  I-1028  2015-01-19       2015        Jan   \n",
       "4           4       C5001  I-1036  2015-01-20       2015        Jan   \n",
       "\n",
       "  down_weekday  season  \n",
       "0          Thu  winter  \n",
       "1          Sat  winter  \n",
       "2          Sat  winter  \n",
       "3          Mon  winter  \n",
       "4          Tue  winter  "
      ]
     },
     "execution_count": 4,
     "metadata": {},
     "output_type": "execute_result"
    }
   ],
   "source": [
    "# df_down 데이터셋 생성\n",
    "df_down = pd.read_csv('./Data_OTT/download_month.csv', encoding = 'euc-kr')\n",
    "df_down.head()"
   ]
  },
  {
   "cell_type": "code",
   "execution_count": 5,
   "metadata": {},
   "outputs": [
    {
     "data": {
      "text/html": [
       "<div>\n",
       "<style scoped>\n",
       "    .dataframe tbody tr th:only-of-type {\n",
       "        vertical-align: middle;\n",
       "    }\n",
       "\n",
       "    .dataframe tbody tr th {\n",
       "        vertical-align: top;\n",
       "    }\n",
       "\n",
       "    .dataframe thead th {\n",
       "        text-align: right;\n",
       "    }\n",
       "</style>\n",
       "<table border=\"1\" class=\"dataframe\">\n",
       "  <thead>\n",
       "    <tr style=\"text-align: right;\">\n",
       "      <th></th>\n",
       "      <th>Unnamed: 0</th>\n",
       "      <th>customer_id</th>\n",
       "      <th>item_id</th>\n",
       "      <th>movie_id</th>\n",
       "      <th>down_year</th>\n",
       "      <th>down_month</th>\n",
       "      <th>down_weekday</th>\n",
       "      <th>season</th>\n",
       "      <th>title</th>\n",
       "      <th>release_year</th>\n",
       "      <th>...</th>\n",
       "      <th>Genre_1</th>\n",
       "      <th>Genre_2</th>\n",
       "      <th>Genre_3</th>\n",
       "      <th>actor_1</th>\n",
       "      <th>actor_2</th>\n",
       "      <th>actor_3</th>\n",
       "      <th>contract_price</th>\n",
       "      <th>studio_score</th>\n",
       "      <th>price_class</th>\n",
       "      <th>price</th>\n",
       "    </tr>\n",
       "  </thead>\n",
       "  <tbody>\n",
       "    <tr>\n",
       "      <th>0</th>\n",
       "      <td>0</td>\n",
       "      <td>C5001</td>\n",
       "      <td>I-1038</td>\n",
       "      <td>tt1951264</td>\n",
       "      <td>2015</td>\n",
       "      <td>Jan</td>\n",
       "      <td>Thu</td>\n",
       "      <td>winter</td>\n",
       "      <td>The Hunger Games: Catching Fire</td>\n",
       "      <td>2013</td>\n",
       "      <td>...</td>\n",
       "      <td>Action</td>\n",
       "      <td>Adventure</td>\n",
       "      <td>Mystery</td>\n",
       "      <td>Jennifer Lawrence</td>\n",
       "      <td>Liam Hemsworth</td>\n",
       "      <td>Jack Quaid</td>\n",
       "      <td>2600</td>\n",
       "      <td>6</td>\n",
       "      <td>10</td>\n",
       "      <td>1000.0</td>\n",
       "    </tr>\n",
       "    <tr>\n",
       "      <th>1</th>\n",
       "      <td>1</td>\n",
       "      <td>C5011</td>\n",
       "      <td>I-1038</td>\n",
       "      <td>tt1951264</td>\n",
       "      <td>2015</td>\n",
       "      <td>Mar</td>\n",
       "      <td>Fri</td>\n",
       "      <td>spring</td>\n",
       "      <td>The Hunger Games: Catching Fire</td>\n",
       "      <td>2013</td>\n",
       "      <td>...</td>\n",
       "      <td>Action</td>\n",
       "      <td>Adventure</td>\n",
       "      <td>Mystery</td>\n",
       "      <td>Jennifer Lawrence</td>\n",
       "      <td>Liam Hemsworth</td>\n",
       "      <td>Jack Quaid</td>\n",
       "      <td>2600</td>\n",
       "      <td>6</td>\n",
       "      <td>10</td>\n",
       "      <td>1000.0</td>\n",
       "    </tr>\n",
       "    <tr>\n",
       "      <th>2</th>\n",
       "      <td>2</td>\n",
       "      <td>C5024</td>\n",
       "      <td>I-1038</td>\n",
       "      <td>tt1951264</td>\n",
       "      <td>2015</td>\n",
       "      <td>Aug</td>\n",
       "      <td>Wed</td>\n",
       "      <td>summer</td>\n",
       "      <td>The Hunger Games: Catching Fire</td>\n",
       "      <td>2013</td>\n",
       "      <td>...</td>\n",
       "      <td>Action</td>\n",
       "      <td>Adventure</td>\n",
       "      <td>Mystery</td>\n",
       "      <td>Jennifer Lawrence</td>\n",
       "      <td>Liam Hemsworth</td>\n",
       "      <td>Jack Quaid</td>\n",
       "      <td>2600</td>\n",
       "      <td>6</td>\n",
       "      <td>10</td>\n",
       "      <td>1000.0</td>\n",
       "    </tr>\n",
       "    <tr>\n",
       "      <th>3</th>\n",
       "      <td>3</td>\n",
       "      <td>C5027</td>\n",
       "      <td>I-1038</td>\n",
       "      <td>tt1951264</td>\n",
       "      <td>2015</td>\n",
       "      <td>May</td>\n",
       "      <td>Mon</td>\n",
       "      <td>spring</td>\n",
       "      <td>The Hunger Games: Catching Fire</td>\n",
       "      <td>2013</td>\n",
       "      <td>...</td>\n",
       "      <td>Action</td>\n",
       "      <td>Adventure</td>\n",
       "      <td>Mystery</td>\n",
       "      <td>Jennifer Lawrence</td>\n",
       "      <td>Liam Hemsworth</td>\n",
       "      <td>Jack Quaid</td>\n",
       "      <td>2600</td>\n",
       "      <td>6</td>\n",
       "      <td>10</td>\n",
       "      <td>1000.0</td>\n",
       "    </tr>\n",
       "    <tr>\n",
       "      <th>4</th>\n",
       "      <td>4</td>\n",
       "      <td>C5035</td>\n",
       "      <td>I-1038</td>\n",
       "      <td>tt1951264</td>\n",
       "      <td>2015</td>\n",
       "      <td>Aug</td>\n",
       "      <td>Wed</td>\n",
       "      <td>summer</td>\n",
       "      <td>The Hunger Games: Catching Fire</td>\n",
       "      <td>2013</td>\n",
       "      <td>...</td>\n",
       "      <td>Action</td>\n",
       "      <td>Adventure</td>\n",
       "      <td>Mystery</td>\n",
       "      <td>Jennifer Lawrence</td>\n",
       "      <td>Liam Hemsworth</td>\n",
       "      <td>Jack Quaid</td>\n",
       "      <td>2600</td>\n",
       "      <td>6</td>\n",
       "      <td>10</td>\n",
       "      <td>1000.0</td>\n",
       "    </tr>\n",
       "  </tbody>\n",
       "</table>\n",
       "<p>5 rows × 33 columns</p>\n",
       "</div>"
      ],
      "text/plain": [
       "   Unnamed: 0 customer_id item_id   movie_id  down_year down_month  \\\n",
       "0           0       C5001  I-1038  tt1951264       2015        Jan   \n",
       "1           1       C5011  I-1038  tt1951264       2015        Mar   \n",
       "2           2       C5024  I-1038  tt1951264       2015        Aug   \n",
       "3           3       C5027  I-1038  tt1951264       2015        May   \n",
       "4           4       C5035  I-1038  tt1951264       2015        Aug   \n",
       "\n",
       "  down_weekday  season                            title  release_year  ...  \\\n",
       "0          Thu  winter  The Hunger Games: Catching Fire          2013  ...   \n",
       "1          Fri  spring  The Hunger Games: Catching Fire          2013  ...   \n",
       "2          Wed  summer  The Hunger Games: Catching Fire          2013  ...   \n",
       "3          Mon  spring  The Hunger Games: Catching Fire          2013  ...   \n",
       "4          Wed  summer  The Hunger Games: Catching Fire          2013  ...   \n",
       "\n",
       "   Genre_1    Genre_2  Genre_3            actor_1         actor_2     actor_3  \\\n",
       "0   Action  Adventure  Mystery  Jennifer Lawrence  Liam Hemsworth  Jack Quaid   \n",
       "1   Action  Adventure  Mystery  Jennifer Lawrence  Liam Hemsworth  Jack Quaid   \n",
       "2   Action  Adventure  Mystery  Jennifer Lawrence  Liam Hemsworth  Jack Quaid   \n",
       "3   Action  Adventure  Mystery  Jennifer Lawrence  Liam Hemsworth  Jack Quaid   \n",
       "4   Action  Adventure  Mystery  Jennifer Lawrence  Liam Hemsworth  Jack Quaid   \n",
       "\n",
       "   contract_price  studio_score  price_class   price  \n",
       "0            2600             6           10  1000.0  \n",
       "1            2600             6           10  1000.0  \n",
       "2            2600             6           10  1000.0  \n",
       "3            2600             6           10  1000.0  \n",
       "4            2600             6           10  1000.0  \n",
       "\n",
       "[5 rows x 33 columns]"
      ]
     },
     "execution_count": 5,
     "metadata": {},
     "output_type": "execute_result"
    }
   ],
   "source": [
    "# df_di 데이터셋 생성\n",
    "df_di = pd.read_csv('./Data_OTT_update/download_inventory_final.csv', encoding = 'utf-8')\n",
    "df_di.head()"
   ]
  },
  {
   "cell_type": "markdown",
   "metadata": {},
   "source": [
    "# 3. 고객의 선호 장르를 고객 데이터에 추가"
   ]
  },
  {
   "cell_type": "markdown",
   "metadata": {},
   "source": [
    "### 1) 선호 장르를 찾는 함수 생성"
   ]
  },
  {
   "cell_type": "code",
   "execution_count": 6,
   "metadata": {},
   "outputs": [],
   "source": [
    "# 고객의 선호 장르를 찾는 함수 생성\n",
    "def find_genre(Genre1, Genre2, Genre3):\n",
    "    m = 0\n",
    "    u_keys = [] \n",
    "    genre = Counter(Genre1) + Counter(Genre2) + Counter(Genre3)\n",
    "    for key, value in genre.items():\n",
    "        if value > m:\n",
    "            first = key\n",
    "            m = value\n",
    "\n",
    "    genre[first] = 0\n",
    "    m = 0\n",
    "    for key, value in genre.items():\n",
    "        if value > m:\n",
    "            second = key\n",
    "            m = value\n",
    "\n",
    "    return first, second  # 고객의 선호 장르(가장 많이 본 장르) 반환"
   ]
  },
  {
   "cell_type": "code",
   "execution_count": 7,
   "metadata": {},
   "outputs": [],
   "source": [
    "# 장르가 일치하는 데이터만 남기는 함수 생성\n",
    "def genre(user_name, df_raw):#, df_all):\n",
    "    Genre1 = df_raw[df_raw['customer_id'] == user_name]['Genre_1']\n",
    "    Genre2 = df_raw[df_raw['customer_id'] == user_name]['Genre_2']\n",
    "    Genre3 = df_raw[df_raw['customer_id'] == user_name]['Genre_3']\n",
    "    f, s = find_genre(Genre1, Genre2, Genre3)\n",
    "\n",
    "    return f, s"
   ]
  },
  {
   "cell_type": "markdown",
   "metadata": {},
   "source": [
    "### 2) 고객 id를 넣어 결과를 확인"
   ]
  },
  {
   "cell_type": "code",
   "execution_count": 8,
   "metadata": {},
   "outputs": [
    {
     "data": {
      "text/plain": [
       "('Adventure', 'Action')"
      ]
     },
     "execution_count": 8,
     "metadata": {},
     "output_type": "execute_result"
    }
   ],
   "source": [
    "genre('C5001', df_di)"
   ]
  },
  {
   "cell_type": "code",
   "execution_count": 9,
   "metadata": {},
   "outputs": [
    {
     "data": {
      "text/plain": [
       "('Adventure', 'Action')"
      ]
     },
     "execution_count": 9,
     "metadata": {},
     "output_type": "execute_result"
    }
   ],
   "source": [
    "genre('C6678', df_di)"
   ]
  },
  {
   "cell_type": "code",
   "execution_count": 10,
   "metadata": {},
   "outputs": [
    {
     "data": {
      "text/plain": [
       "('Adventure', 'Comedy')"
      ]
     },
     "execution_count": 10,
     "metadata": {},
     "output_type": "execute_result"
    }
   ],
   "source": [
    "genre('C6786', df_di)"
   ]
  },
  {
   "cell_type": "code",
   "execution_count": 11,
   "metadata": {},
   "outputs": [
    {
     "data": {
      "text/plain": [
       "('Adventure', 'Action')"
      ]
     },
     "execution_count": 11,
     "metadata": {},
     "output_type": "execute_result"
    }
   ],
   "source": [
    "genre('C8111', df_di)"
   ]
  },
  {
   "cell_type": "code",
   "execution_count": 12,
   "metadata": {},
   "outputs": [
    {
     "data": {
      "text/plain": [
       "('Adventure', 'Action')"
      ]
     },
     "execution_count": 12,
     "metadata": {},
     "output_type": "execute_result"
    }
   ],
   "source": [
    "genre('C7777', df_di)"
   ]
  },
  {
   "cell_type": "code",
   "execution_count": 13,
   "metadata": {},
   "outputs": [
    {
     "data": {
      "text/plain": [
       "('Action', 'Adventure')"
      ]
     },
     "execution_count": 13,
     "metadata": {},
     "output_type": "execute_result"
    }
   ],
   "source": [
    "genre('C7896', df_di)"
   ]
  },
  {
   "cell_type": "markdown",
   "metadata": {},
   "source": [
    "### 3) 고객의 가장 선호하는 장르와 두번째로 선호하는 장르를 각각 리스트에 저장"
   ]
  },
  {
   "cell_type": "code",
   "execution_count": 14,
   "metadata": {},
   "outputs": [
    {
     "data": {
      "text/plain": [
       "3277"
      ]
     },
     "execution_count": 14,
     "metadata": {},
     "output_type": "execute_result"
    }
   ],
   "source": [
    "genre_first = []\n",
    "genre_second = []\n",
    "\n",
    "for id in df_cus['customer_id']:\n",
    "    first, second = genre(id, df_di)\n",
    "    genre_first.append(first)\n",
    "    genre_second.append(second)\n",
    "    \n",
    "len(genre_first)"
   ]
  },
  {
   "cell_type": "markdown",
   "metadata": {},
   "source": [
    "### 4) 고객이 첫번째로 좋아하는 장르와 두번째로 선호하는 장르를 데이터셋에 추가"
   ]
  },
  {
   "cell_type": "code",
   "execution_count": 15,
   "metadata": {},
   "outputs": [],
   "source": [
    "# 'genre_first', 'genre_second' 열 생성\n",
    "df_cus['genre_first'] = genre_first\n",
    "df_cus['genre_second'] = genre_second"
   ]
  },
  {
   "cell_type": "code",
   "execution_count": 16,
   "metadata": {},
   "outputs": [
    {
     "data": {
      "text/html": [
       "<div>\n",
       "<style scoped>\n",
       "    .dataframe tbody tr th:only-of-type {\n",
       "        vertical-align: middle;\n",
       "    }\n",
       "\n",
       "    .dataframe tbody tr th {\n",
       "        vertical-align: top;\n",
       "    }\n",
       "\n",
       "    .dataframe thead th {\n",
       "        text-align: right;\n",
       "    }\n",
       "</style>\n",
       "<table border=\"1\" class=\"dataframe\">\n",
       "  <thead>\n",
       "    <tr style=\"text-align: right;\">\n",
       "      <th></th>\n",
       "      <th>customer_id</th>\n",
       "      <th>gender</th>\n",
       "      <th>age</th>\n",
       "      <th>age_group</th>\n",
       "      <th>married</th>\n",
       "      <th>kids_under12</th>\n",
       "      <th>area</th>\n",
       "      <th>subs_start_year</th>\n",
       "      <th>download_count</th>\n",
       "      <th>total_price</th>\n",
       "      <th>class</th>\n",
       "      <th>genre_first</th>\n",
       "      <th>genre_second</th>\n",
       "    </tr>\n",
       "  </thead>\n",
       "  <tbody>\n",
       "    <tr>\n",
       "      <th>0</th>\n",
       "      <td>C5001</td>\n",
       "      <td>F</td>\n",
       "      <td>51</td>\n",
       "      <td>50대</td>\n",
       "      <td>M</td>\n",
       "      <td>N</td>\n",
       "      <td>용산구</td>\n",
       "      <td>2015</td>\n",
       "      <td>55</td>\n",
       "      <td>262000.0</td>\n",
       "      <td>Platinum</td>\n",
       "      <td>Adventure</td>\n",
       "      <td>Action</td>\n",
       "    </tr>\n",
       "    <tr>\n",
       "      <th>1</th>\n",
       "      <td>C5002</td>\n",
       "      <td>M</td>\n",
       "      <td>22</td>\n",
       "      <td>20대</td>\n",
       "      <td>S</td>\n",
       "      <td>N</td>\n",
       "      <td>강남구</td>\n",
       "      <td>2015</td>\n",
       "      <td>23</td>\n",
       "      <td>102200.0</td>\n",
       "      <td>Silver</td>\n",
       "      <td>Adventure</td>\n",
       "      <td>Action</td>\n",
       "    </tr>\n",
       "    <tr>\n",
       "      <th>2</th>\n",
       "      <td>C5003</td>\n",
       "      <td>F</td>\n",
       "      <td>33</td>\n",
       "      <td>30대</td>\n",
       "      <td>M</td>\n",
       "      <td>Y</td>\n",
       "      <td>서대문구</td>\n",
       "      <td>2015</td>\n",
       "      <td>55</td>\n",
       "      <td>270800.0</td>\n",
       "      <td>Platinum</td>\n",
       "      <td>Adventure</td>\n",
       "      <td>Action</td>\n",
       "    </tr>\n",
       "    <tr>\n",
       "      <th>3</th>\n",
       "      <td>C5004</td>\n",
       "      <td>F</td>\n",
       "      <td>24</td>\n",
       "      <td>20대</td>\n",
       "      <td>M</td>\n",
       "      <td>N</td>\n",
       "      <td>서대문구</td>\n",
       "      <td>2015</td>\n",
       "      <td>41</td>\n",
       "      <td>200400.0</td>\n",
       "      <td>Gold</td>\n",
       "      <td>Adventure</td>\n",
       "      <td>Action</td>\n",
       "    </tr>\n",
       "    <tr>\n",
       "      <th>4</th>\n",
       "      <td>C5005</td>\n",
       "      <td>F</td>\n",
       "      <td>35</td>\n",
       "      <td>30대</td>\n",
       "      <td>M</td>\n",
       "      <td>N</td>\n",
       "      <td>마포구</td>\n",
       "      <td>2015</td>\n",
       "      <td>34</td>\n",
       "      <td>165900.0</td>\n",
       "      <td>Gold</td>\n",
       "      <td>Adventure</td>\n",
       "      <td>Comedy</td>\n",
       "    </tr>\n",
       "    <tr>\n",
       "      <th>...</th>\n",
       "      <td>...</td>\n",
       "      <td>...</td>\n",
       "      <td>...</td>\n",
       "      <td>...</td>\n",
       "      <td>...</td>\n",
       "      <td>...</td>\n",
       "      <td>...</td>\n",
       "      <td>...</td>\n",
       "      <td>...</td>\n",
       "      <td>...</td>\n",
       "      <td>...</td>\n",
       "      <td>...</td>\n",
       "      <td>...</td>\n",
       "    </tr>\n",
       "    <tr>\n",
       "      <th>3272</th>\n",
       "      <td>C8273</td>\n",
       "      <td>F</td>\n",
       "      <td>43</td>\n",
       "      <td>40대</td>\n",
       "      <td>M</td>\n",
       "      <td>N</td>\n",
       "      <td>마포구</td>\n",
       "      <td>2018</td>\n",
       "      <td>8</td>\n",
       "      <td>37000.0</td>\n",
       "      <td>Bronze</td>\n",
       "      <td>Action</td>\n",
       "      <td>Adventure</td>\n",
       "    </tr>\n",
       "    <tr>\n",
       "      <th>3273</th>\n",
       "      <td>C8274</td>\n",
       "      <td>F</td>\n",
       "      <td>24</td>\n",
       "      <td>20대</td>\n",
       "      <td>M</td>\n",
       "      <td>N</td>\n",
       "      <td>송파구</td>\n",
       "      <td>2018</td>\n",
       "      <td>10</td>\n",
       "      <td>48700.0</td>\n",
       "      <td>Bronze</td>\n",
       "      <td>Adventure</td>\n",
       "      <td>ETC</td>\n",
       "    </tr>\n",
       "    <tr>\n",
       "      <th>3274</th>\n",
       "      <td>C8275</td>\n",
       "      <td>F</td>\n",
       "      <td>55</td>\n",
       "      <td>50대</td>\n",
       "      <td>S</td>\n",
       "      <td>N</td>\n",
       "      <td>강남구</td>\n",
       "      <td>2018</td>\n",
       "      <td>9</td>\n",
       "      <td>44500.0</td>\n",
       "      <td>Bronze</td>\n",
       "      <td>Action</td>\n",
       "      <td>Adventure</td>\n",
       "    </tr>\n",
       "    <tr>\n",
       "      <th>3275</th>\n",
       "      <td>C8276</td>\n",
       "      <td>F</td>\n",
       "      <td>36</td>\n",
       "      <td>30대</td>\n",
       "      <td>S</td>\n",
       "      <td>Y</td>\n",
       "      <td>서대문구</td>\n",
       "      <td>2018</td>\n",
       "      <td>17</td>\n",
       "      <td>77500.0</td>\n",
       "      <td>Bronze</td>\n",
       "      <td>Adventure</td>\n",
       "      <td>Action</td>\n",
       "    </tr>\n",
       "    <tr>\n",
       "      <th>3276</th>\n",
       "      <td>C8277</td>\n",
       "      <td>M</td>\n",
       "      <td>37</td>\n",
       "      <td>30대</td>\n",
       "      <td>S</td>\n",
       "      <td>N</td>\n",
       "      <td>강남구</td>\n",
       "      <td>2018</td>\n",
       "      <td>10</td>\n",
       "      <td>48700.0</td>\n",
       "      <td>Bronze</td>\n",
       "      <td>Adventure</td>\n",
       "      <td>Action</td>\n",
       "    </tr>\n",
       "  </tbody>\n",
       "</table>\n",
       "<p>3277 rows × 13 columns</p>\n",
       "</div>"
      ],
      "text/plain": [
       "     customer_id gender  age age_group married kids_under12  area  \\\n",
       "0          C5001      F   51       50대       M            N   용산구   \n",
       "1          C5002      M   22       20대       S            N   강남구   \n",
       "2          C5003      F   33       30대       M            Y  서대문구   \n",
       "3          C5004      F   24       20대       M            N  서대문구   \n",
       "4          C5005      F   35       30대       M            N   마포구   \n",
       "...          ...    ...  ...       ...     ...          ...   ...   \n",
       "3272       C8273      F   43       40대       M            N   마포구   \n",
       "3273       C8274      F   24       20대       M            N   송파구   \n",
       "3274       C8275      F   55       50대       S            N   강남구   \n",
       "3275       C8276      F   36       30대       S            Y  서대문구   \n",
       "3276       C8277      M   37       30대       S            N   강남구   \n",
       "\n",
       "      subs_start_year  download_count  total_price     class genre_first  \\\n",
       "0                2015              55     262000.0  Platinum   Adventure   \n",
       "1                2015              23     102200.0    Silver   Adventure   \n",
       "2                2015              55     270800.0  Platinum   Adventure   \n",
       "3                2015              41     200400.0      Gold   Adventure   \n",
       "4                2015              34     165900.0      Gold   Adventure   \n",
       "...               ...             ...          ...       ...         ...   \n",
       "3272             2018               8      37000.0    Bronze      Action   \n",
       "3273             2018              10      48700.0    Bronze   Adventure   \n",
       "3274             2018               9      44500.0    Bronze      Action   \n",
       "3275             2018              17      77500.0    Bronze   Adventure   \n",
       "3276             2018              10      48700.0    Bronze   Adventure   \n",
       "\n",
       "     genre_second  \n",
       "0          Action  \n",
       "1          Action  \n",
       "2          Action  \n",
       "3          Action  \n",
       "4          Comedy  \n",
       "...           ...  \n",
       "3272    Adventure  \n",
       "3273          ETC  \n",
       "3274    Adventure  \n",
       "3275       Action  \n",
       "3276       Action  \n",
       "\n",
       "[3277 rows x 13 columns]"
      ]
     },
     "execution_count": 16,
     "metadata": {},
     "output_type": "execute_result"
    }
   ],
   "source": [
    "# 결과 확인\n",
    "df_cus"
   ]
  },
  {
   "cell_type": "code",
   "execution_count": 17,
   "metadata": {},
   "outputs": [],
   "source": [
    "# 변경된 데이터셋을 csv파일로 저장\n",
    "df_cus.to_csv('./customer_genre.csv', encoding = 'euc-kr')"
   ]
  },
  {
   "cell_type": "markdown",
   "metadata": {},
   "source": [
    "# 4. 고객들의 장르 선호도 총합"
   ]
  },
  {
   "cell_type": "markdown",
   "metadata": {},
   "source": [
    "### 1) 고객들의 장르 선호도 총합"
   ]
  },
  {
   "cell_type": "code",
   "execution_count": 18,
   "metadata": {},
   "outputs": [
    {
     "data": {
      "text/plain": [
       "Adventure    3003\n",
       "Action        222\n",
       "Comedy         35\n",
       "ETC             8\n",
       "Animation       7\n",
       "Drama           1\n",
       "Horror          1\n",
       "Name: genre_first, dtype: int64"
      ]
     },
     "execution_count": 18,
     "metadata": {},
     "output_type": "execute_result"
    }
   ],
   "source": [
    "# 고객들이 첫번째로 좋아하는 장르 선호도의 총합\n",
    "df_cus['genre_first'].value_counts()"
   ]
  },
  {
   "cell_type": "markdown",
   "metadata": {},
   "source": [
    "고객들이 대부분 Adventure와 Action 장르를 많이 선호하는 것을 알 수 있다."
   ]
  },
  {
   "cell_type": "code",
   "execution_count": 19,
   "metadata": {},
   "outputs": [
    {
     "data": {
      "text/plain": [
       "Action       2568\n",
       "Comedy        380\n",
       "Adventure     242\n",
       "Animation      53\n",
       "ETC            18\n",
       "Drama          11\n",
       "Sci-Fi          3\n",
       "Biography       1\n",
       "Family          1\n",
       "Name: genre_second, dtype: int64"
      ]
     },
     "execution_count": 19,
     "metadata": {},
     "output_type": "execute_result"
    }
   ],
   "source": [
    "# 고객들이 두번째로 좋아하는 장르 선호도의 총합\n",
    "df_cus['genre_second'].value_counts()"
   ]
  },
  {
   "cell_type": "markdown",
   "metadata": {},
   "source": [
    "고객들이 두번째로 좋아하는 장르가 Action, Comedy 인 것을 알 수 있다."
   ]
  },
  {
   "cell_type": "markdown",
   "metadata": {},
   "source": [
    "### 2) 연령대와 장르 선호도의 관계"
   ]
  },
  {
   "cell_type": "code",
   "execution_count": 20,
   "metadata": {
    "scrolled": true
   },
   "outputs": [
    {
     "data": {
      "text/html": [
       "<div>\n",
       "<style scoped>\n",
       "    .dataframe tbody tr th:only-of-type {\n",
       "        vertical-align: middle;\n",
       "    }\n",
       "\n",
       "    .dataframe tbody tr th {\n",
       "        vertical-align: top;\n",
       "    }\n",
       "\n",
       "    .dataframe thead th {\n",
       "        text-align: right;\n",
       "    }\n",
       "</style>\n",
       "<table border=\"1\" class=\"dataframe\">\n",
       "  <thead>\n",
       "    <tr style=\"text-align: right;\">\n",
       "      <th>genre_first</th>\n",
       "      <th>Action</th>\n",
       "      <th>Adventure</th>\n",
       "      <th>Animation</th>\n",
       "      <th>Comedy</th>\n",
       "      <th>Drama</th>\n",
       "      <th>ETC</th>\n",
       "      <th>Horror</th>\n",
       "    </tr>\n",
       "    <tr>\n",
       "      <th>age_group</th>\n",
       "      <th></th>\n",
       "      <th></th>\n",
       "      <th></th>\n",
       "      <th></th>\n",
       "      <th></th>\n",
       "      <th></th>\n",
       "      <th></th>\n",
       "    </tr>\n",
       "  </thead>\n",
       "  <tbody>\n",
       "    <tr>\n",
       "      <th>10대</th>\n",
       "      <td>6</td>\n",
       "      <td>40</td>\n",
       "      <td>0</td>\n",
       "      <td>2</td>\n",
       "      <td>0</td>\n",
       "      <td>0</td>\n",
       "      <td>0</td>\n",
       "    </tr>\n",
       "    <tr>\n",
       "      <th>20대</th>\n",
       "      <td>70</td>\n",
       "      <td>877</td>\n",
       "      <td>1</td>\n",
       "      <td>16</td>\n",
       "      <td>0</td>\n",
       "      <td>1</td>\n",
       "      <td>0</td>\n",
       "    </tr>\n",
       "    <tr>\n",
       "      <th>30대</th>\n",
       "      <td>62</td>\n",
       "      <td>807</td>\n",
       "      <td>0</td>\n",
       "      <td>7</td>\n",
       "      <td>0</td>\n",
       "      <td>4</td>\n",
       "      <td>0</td>\n",
       "    </tr>\n",
       "    <tr>\n",
       "      <th>40대</th>\n",
       "      <td>40</td>\n",
       "      <td>698</td>\n",
       "      <td>3</td>\n",
       "      <td>6</td>\n",
       "      <td>1</td>\n",
       "      <td>0</td>\n",
       "      <td>1</td>\n",
       "    </tr>\n",
       "    <tr>\n",
       "      <th>50대</th>\n",
       "      <td>38</td>\n",
       "      <td>500</td>\n",
       "      <td>3</td>\n",
       "      <td>3</td>\n",
       "      <td>0</td>\n",
       "      <td>3</td>\n",
       "      <td>0</td>\n",
       "    </tr>\n",
       "    <tr>\n",
       "      <th>60대</th>\n",
       "      <td>6</td>\n",
       "      <td>81</td>\n",
       "      <td>0</td>\n",
       "      <td>1</td>\n",
       "      <td>0</td>\n",
       "      <td>0</td>\n",
       "      <td>0</td>\n",
       "    </tr>\n",
       "  </tbody>\n",
       "</table>\n",
       "</div>"
      ],
      "text/plain": [
       "genre_first  Action  Adventure  Animation  Comedy  Drama  ETC  Horror\n",
       "age_group                                                            \n",
       "10대               6         40          0       2      0    0       0\n",
       "20대              70        877          1      16      0    1       0\n",
       "30대              62        807          0       7      0    4       0\n",
       "40대              40        698          3       6      1    0       1\n",
       "50대              38        500          3       3      0    3       0\n",
       "60대               6         81          0       1      0    0       0"
      ]
     },
     "execution_count": 20,
     "metadata": {},
     "output_type": "execute_result"
    }
   ],
   "source": [
    "# 연령대와 장르 선호도 관계 확인\n",
    "df1 = pd.crosstab(df_cus.age_group, df_cus.genre_first)\n",
    "df1"
   ]
  },
  {
   "cell_type": "code",
   "execution_count": 21,
   "metadata": {},
   "outputs": [
    {
     "data": {
      "text/html": [
       "<div>\n",
       "<style scoped>\n",
       "    .dataframe tbody tr th:only-of-type {\n",
       "        vertical-align: middle;\n",
       "    }\n",
       "\n",
       "    .dataframe tbody tr th {\n",
       "        vertical-align: top;\n",
       "    }\n",
       "\n",
       "    .dataframe thead th {\n",
       "        text-align: right;\n",
       "    }\n",
       "</style>\n",
       "<table border=\"1\" class=\"dataframe\">\n",
       "  <thead>\n",
       "    <tr style=\"text-align: right;\">\n",
       "      <th>genre_first</th>\n",
       "      <th>Action</th>\n",
       "      <th>Adventure</th>\n",
       "      <th>Animation</th>\n",
       "      <th>Comedy</th>\n",
       "      <th>Drama</th>\n",
       "      <th>ETC</th>\n",
       "      <th>Horror</th>\n",
       "    </tr>\n",
       "    <tr>\n",
       "      <th>age_group</th>\n",
       "      <th></th>\n",
       "      <th></th>\n",
       "      <th></th>\n",
       "      <th></th>\n",
       "      <th></th>\n",
       "      <th></th>\n",
       "      <th></th>\n",
       "    </tr>\n",
       "  </thead>\n",
       "  <tbody>\n",
       "    <tr>\n",
       "      <th>10대</th>\n",
       "      <td>0.125000</td>\n",
       "      <td>0.833333</td>\n",
       "      <td>0.000000</td>\n",
       "      <td>0.041667</td>\n",
       "      <td>0.000000</td>\n",
       "      <td>0.000000</td>\n",
       "      <td>0.000000</td>\n",
       "    </tr>\n",
       "    <tr>\n",
       "      <th>20대</th>\n",
       "      <td>0.072539</td>\n",
       "      <td>0.908808</td>\n",
       "      <td>0.001036</td>\n",
       "      <td>0.016580</td>\n",
       "      <td>0.000000</td>\n",
       "      <td>0.001036</td>\n",
       "      <td>0.000000</td>\n",
       "    </tr>\n",
       "    <tr>\n",
       "      <th>30대</th>\n",
       "      <td>0.070455</td>\n",
       "      <td>0.917045</td>\n",
       "      <td>0.000000</td>\n",
       "      <td>0.007955</td>\n",
       "      <td>0.000000</td>\n",
       "      <td>0.004545</td>\n",
       "      <td>0.000000</td>\n",
       "    </tr>\n",
       "    <tr>\n",
       "      <th>40대</th>\n",
       "      <td>0.053405</td>\n",
       "      <td>0.931909</td>\n",
       "      <td>0.004005</td>\n",
       "      <td>0.008011</td>\n",
       "      <td>0.001335</td>\n",
       "      <td>0.000000</td>\n",
       "      <td>0.001335</td>\n",
       "    </tr>\n",
       "    <tr>\n",
       "      <th>50대</th>\n",
       "      <td>0.069470</td>\n",
       "      <td>0.914077</td>\n",
       "      <td>0.005484</td>\n",
       "      <td>0.005484</td>\n",
       "      <td>0.000000</td>\n",
       "      <td>0.005484</td>\n",
       "      <td>0.000000</td>\n",
       "    </tr>\n",
       "    <tr>\n",
       "      <th>60대</th>\n",
       "      <td>0.068182</td>\n",
       "      <td>0.920455</td>\n",
       "      <td>0.000000</td>\n",
       "      <td>0.011364</td>\n",
       "      <td>0.000000</td>\n",
       "      <td>0.000000</td>\n",
       "      <td>0.000000</td>\n",
       "    </tr>\n",
       "  </tbody>\n",
       "</table>\n",
       "</div>"
      ],
      "text/plain": [
       "genre_first    Action  Adventure  Animation    Comedy     Drama       ETC  \\\n",
       "age_group                                                                   \n",
       "10대          0.125000   0.833333   0.000000  0.041667  0.000000  0.000000   \n",
       "20대          0.072539   0.908808   0.001036  0.016580  0.000000  0.001036   \n",
       "30대          0.070455   0.917045   0.000000  0.007955  0.000000  0.004545   \n",
       "40대          0.053405   0.931909   0.004005  0.008011  0.001335  0.000000   \n",
       "50대          0.069470   0.914077   0.005484  0.005484  0.000000  0.005484   \n",
       "60대          0.068182   0.920455   0.000000  0.011364  0.000000  0.000000   \n",
       "\n",
       "genre_first    Horror  \n",
       "age_group              \n",
       "10대          0.000000  \n",
       "20대          0.000000  \n",
       "30대          0.000000  \n",
       "40대          0.001335  \n",
       "50대          0.000000  \n",
       "60대          0.000000  "
      ]
     },
     "execution_count": 21,
     "metadata": {},
     "output_type": "execute_result"
    }
   ],
   "source": [
    "# 표준화를 적용\n",
    "for i in df1.index:\n",
    "    df1.loc[i] = df1.loc[i] / df1.loc[i].sum()\n",
    "df1"
   ]
  },
  {
   "cell_type": "code",
   "execution_count": 22,
   "metadata": {},
   "outputs": [
    {
     "name": "stderr",
     "output_type": "stream",
     "text": [
      "/home/piai/anaconda3/lib/python3.8/site-packages/matplotlib/backends/backend_agg.py:238: RuntimeWarning: Glyph 45824 missing from current font.\n",
      "  font.set_text(s, 0.0, flags=flags)\n",
      "/home/piai/anaconda3/lib/python3.8/site-packages/matplotlib/backends/backend_agg.py:201: RuntimeWarning: Glyph 45824 missing from current font.\n",
      "  font.set_text(s, 0, flags=flags)\n"
     ]
    },
    {
     "data": {
      "text/plain": [
       "<AxesSubplot:xlabel='genre_first', ylabel='age_group'>"
      ]
     },
     "execution_count": 22,
     "metadata": {},
     "output_type": "execute_result"
    },
    {
     "data": {
      "image/png": "[encoded data removed]",
      "text/plain": [
       "<Figure size 432x288 with 2 Axes>"
      ]
     },
     "metadata": {
      "needs_background": "light"
     },
     "output_type": "display_data"
    }
   ],
   "source": [
    "# heat map 그래프로 시각화\n",
    "sns.heatmap(df1, cmap='Blues')"
   ]
  },
  {
   "cell_type": "markdown",
   "metadata": {},
   "source": [
    "연령대별로 전부 adventure 장르를 대부분 선호하는 것을 알 수 있다."
   ]
  },
  {
   "cell_type": "code",
   "execution_count": 23,
   "metadata": {},
   "outputs": [
    {
     "data": {
      "text/plain": [
       "<AxesSubplot:xlabel='age_group,genre_first'>"
      ]
     },
     "execution_count": 23,
     "metadata": {},
     "output_type": "execute_result"
    },
    {
     "data": {
      "image/png": "[encoded data removed]",
      "text/plain": [
       "<Figure size 432x288 with 1 Axes>"
      ]
     },
     "metadata": {
      "needs_background": "light"
     },
     "output_type": "display_data"
    }
   ],
   "source": [
    "# 막대 그래프로 시각화\n",
    "df_cus.groupby(['age_group'])['genre_first'].value_counts().plot.bar()"
   ]
  },
  {
   "cell_type": "markdown",
   "metadata": {},
   "source": [
    "막대 그래프로 시각화 시켰으나 알아보기가 힘든 것을 알 수 있다."
   ]
  },
  {
   "cell_type": "code",
   "execution_count": 24,
   "metadata": {},
   "outputs": [
    {
     "name": "stderr",
     "output_type": "stream",
     "text": [
      "/home/piai/anaconda3/lib/python3.8/site-packages/seaborn/_decorators.py:36: FutureWarning: Pass the following variable as a keyword arg: x. From version 0.12, the only valid positional argument will be `data`, and passing other arguments without an explicit keyword will result in an error or misinterpretation.\n",
      "  warnings.warn(\n"
     ]
    },
    {
     "data": {
      "text/plain": [
       "<AxesSubplot:xlabel='age_group', ylabel='count'>"
      ]
     },
     "execution_count": 24,
     "metadata": {},
     "output_type": "execute_result"
    },
    {
     "name": "stderr",
     "output_type": "stream",
     "text": [
      "/home/piai/anaconda3/lib/python3.8/site-packages/matplotlib/backends/backend_agg.py:238: RuntimeWarning: Glyph 45824 missing from current font.\n",
      "  font.set_text(s, 0.0, flags=flags)\n",
      "/home/piai/anaconda3/lib/python3.8/site-packages/matplotlib/backends/backend_agg.py:201: RuntimeWarning: Glyph 45824 missing from current font.\n",
      "  font.set_text(s, 0, flags=flags)\n"
     ]
    },
    {
     "data": {
      "image/png": "[encoded data removed]",
      "text/plain": [
       "<Figure size 432x288 with 1 Axes>"
      ]
     },
     "metadata": {
      "needs_background": "light"
     },
     "output_type": "display_data"
    }
   ],
   "source": [
    "# 막대 그래프를 알아보기 쉽도록 변환\n",
    "sns.countplot('age_group',hue='genre_first',data=df_cus[['age_group','genre_first']])"
   ]
  },
  {
   "cell_type": "markdown",
   "metadata": {},
   "source": [
    "역시 연령대별로 전부 adventure 장르를 가장 선호하는 것을 알 수 있다."
   ]
  },
  {
   "cell_type": "markdown",
   "metadata": {},
   "source": [
    "### 3) 계절과 장르 선호도의 관계"
   ]
  },
  {
   "cell_type": "markdown",
   "metadata": {},
   "source": [
    "#### (1) 고객이 다운로드한 영화들의 장르 수와 계절의 관계"
   ]
  },
  {
   "cell_type": "code",
   "execution_count": 25,
   "metadata": {},
   "outputs": [
    {
     "name": "stdout",
     "output_type": "stream",
     "text": [
      "(116464, 33)\n"
     ]
    },
    {
     "data": {
      "text/html": [
       "<div>\n",
       "<style scoped>\n",
       "    .dataframe tbody tr th:only-of-type {\n",
       "        vertical-align: middle;\n",
       "    }\n",
       "\n",
       "    .dataframe tbody tr th {\n",
       "        vertical-align: top;\n",
       "    }\n",
       "\n",
       "    .dataframe thead th {\n",
       "        text-align: right;\n",
       "    }\n",
       "</style>\n",
       "<table border=\"1\" class=\"dataframe\">\n",
       "  <thead>\n",
       "    <tr style=\"text-align: right;\">\n",
       "      <th></th>\n",
       "      <th>Unnamed: 0</th>\n",
       "      <th>customer_id</th>\n",
       "      <th>item_id</th>\n",
       "      <th>movie_id</th>\n",
       "      <th>down_year</th>\n",
       "      <th>down_month</th>\n",
       "      <th>down_weekday</th>\n",
       "      <th>season</th>\n",
       "      <th>title</th>\n",
       "      <th>release_year</th>\n",
       "      <th>...</th>\n",
       "      <th>Genre_1</th>\n",
       "      <th>Genre_2</th>\n",
       "      <th>Genre_3</th>\n",
       "      <th>actor_1</th>\n",
       "      <th>actor_2</th>\n",
       "      <th>actor_3</th>\n",
       "      <th>contract_price</th>\n",
       "      <th>studio_score</th>\n",
       "      <th>price_class</th>\n",
       "      <th>price</th>\n",
       "    </tr>\n",
       "  </thead>\n",
       "  <tbody>\n",
       "    <tr>\n",
       "      <th>0</th>\n",
       "      <td>0</td>\n",
       "      <td>C5001</td>\n",
       "      <td>I-1038</td>\n",
       "      <td>tt1951264</td>\n",
       "      <td>2015</td>\n",
       "      <td>Jan</td>\n",
       "      <td>Thu</td>\n",
       "      <td>winter</td>\n",
       "      <td>The Hunger Games: Catching Fire</td>\n",
       "      <td>2013</td>\n",
       "      <td>...</td>\n",
       "      <td>Action</td>\n",
       "      <td>Adventure</td>\n",
       "      <td>Mystery</td>\n",
       "      <td>Jennifer Lawrence</td>\n",
       "      <td>Liam Hemsworth</td>\n",
       "      <td>Jack Quaid</td>\n",
       "      <td>2600</td>\n",
       "      <td>6</td>\n",
       "      <td>10</td>\n",
       "      <td>1000.0</td>\n",
       "    </tr>\n",
       "    <tr>\n",
       "      <th>1</th>\n",
       "      <td>1</td>\n",
       "      <td>C5011</td>\n",
       "      <td>I-1038</td>\n",
       "      <td>tt1951264</td>\n",
       "      <td>2015</td>\n",
       "      <td>Mar</td>\n",
       "      <td>Fri</td>\n",
       "      <td>spring</td>\n",
       "      <td>The Hunger Games: Catching Fire</td>\n",
       "      <td>2013</td>\n",
       "      <td>...</td>\n",
       "      <td>Action</td>\n",
       "      <td>Adventure</td>\n",
       "      <td>Mystery</td>\n",
       "      <td>Jennifer Lawrence</td>\n",
       "      <td>Liam Hemsworth</td>\n",
       "      <td>Jack Quaid</td>\n",
       "      <td>2600</td>\n",
       "      <td>6</td>\n",
       "      <td>10</td>\n",
       "      <td>1000.0</td>\n",
       "    </tr>\n",
       "    <tr>\n",
       "      <th>2</th>\n",
       "      <td>2</td>\n",
       "      <td>C5024</td>\n",
       "      <td>I-1038</td>\n",
       "      <td>tt1951264</td>\n",
       "      <td>2015</td>\n",
       "      <td>Aug</td>\n",
       "      <td>Wed</td>\n",
       "      <td>summer</td>\n",
       "      <td>The Hunger Games: Catching Fire</td>\n",
       "      <td>2013</td>\n",
       "      <td>...</td>\n",
       "      <td>Action</td>\n",
       "      <td>Adventure</td>\n",
       "      <td>Mystery</td>\n",
       "      <td>Jennifer Lawrence</td>\n",
       "      <td>Liam Hemsworth</td>\n",
       "      <td>Jack Quaid</td>\n",
       "      <td>2600</td>\n",
       "      <td>6</td>\n",
       "      <td>10</td>\n",
       "      <td>1000.0</td>\n",
       "    </tr>\n",
       "    <tr>\n",
       "      <th>3</th>\n",
       "      <td>3</td>\n",
       "      <td>C5027</td>\n",
       "      <td>I-1038</td>\n",
       "      <td>tt1951264</td>\n",
       "      <td>2015</td>\n",
       "      <td>May</td>\n",
       "      <td>Mon</td>\n",
       "      <td>spring</td>\n",
       "      <td>The Hunger Games: Catching Fire</td>\n",
       "      <td>2013</td>\n",
       "      <td>...</td>\n",
       "      <td>Action</td>\n",
       "      <td>Adventure</td>\n",
       "      <td>Mystery</td>\n",
       "      <td>Jennifer Lawrence</td>\n",
       "      <td>Liam Hemsworth</td>\n",
       "      <td>Jack Quaid</td>\n",
       "      <td>2600</td>\n",
       "      <td>6</td>\n",
       "      <td>10</td>\n",
       "      <td>1000.0</td>\n",
       "    </tr>\n",
       "    <tr>\n",
       "      <th>4</th>\n",
       "      <td>4</td>\n",
       "      <td>C5035</td>\n",
       "      <td>I-1038</td>\n",
       "      <td>tt1951264</td>\n",
       "      <td>2015</td>\n",
       "      <td>Aug</td>\n",
       "      <td>Wed</td>\n",
       "      <td>summer</td>\n",
       "      <td>The Hunger Games: Catching Fire</td>\n",
       "      <td>2013</td>\n",
       "      <td>...</td>\n",
       "      <td>Action</td>\n",
       "      <td>Adventure</td>\n",
       "      <td>Mystery</td>\n",
       "      <td>Jennifer Lawrence</td>\n",
       "      <td>Liam Hemsworth</td>\n",
       "      <td>Jack Quaid</td>\n",
       "      <td>2600</td>\n",
       "      <td>6</td>\n",
       "      <td>10</td>\n",
       "      <td>1000.0</td>\n",
       "    </tr>\n",
       "  </tbody>\n",
       "</table>\n",
       "<p>5 rows × 33 columns</p>\n",
       "</div>"
      ],
      "text/plain": [
       "   Unnamed: 0 customer_id item_id   movie_id  down_year down_month  \\\n",
       "0           0       C5001  I-1038  tt1951264       2015        Jan   \n",
       "1           1       C5011  I-1038  tt1951264       2015        Mar   \n",
       "2           2       C5024  I-1038  tt1951264       2015        Aug   \n",
       "3           3       C5027  I-1038  tt1951264       2015        May   \n",
       "4           4       C5035  I-1038  tt1951264       2015        Aug   \n",
       "\n",
       "  down_weekday  season                            title  release_year  ...  \\\n",
       "0          Thu  winter  The Hunger Games: Catching Fire          2013  ...   \n",
       "1          Fri  spring  The Hunger Games: Catching Fire          2013  ...   \n",
       "2          Wed  summer  The Hunger Games: Catching Fire          2013  ...   \n",
       "3          Mon  spring  The Hunger Games: Catching Fire          2013  ...   \n",
       "4          Wed  summer  The Hunger Games: Catching Fire          2013  ...   \n",
       "\n",
       "   Genre_1    Genre_2  Genre_3            actor_1         actor_2     actor_3  \\\n",
       "0   Action  Adventure  Mystery  Jennifer Lawrence  Liam Hemsworth  Jack Quaid   \n",
       "1   Action  Adventure  Mystery  Jennifer Lawrence  Liam Hemsworth  Jack Quaid   \n",
       "2   Action  Adventure  Mystery  Jennifer Lawrence  Liam Hemsworth  Jack Quaid   \n",
       "3   Action  Adventure  Mystery  Jennifer Lawrence  Liam Hemsworth  Jack Quaid   \n",
       "4   Action  Adventure  Mystery  Jennifer Lawrence  Liam Hemsworth  Jack Quaid   \n",
       "\n",
       "   contract_price  studio_score  price_class   price  \n",
       "0            2600             6           10  1000.0  \n",
       "1            2600             6           10  1000.0  \n",
       "2            2600             6           10  1000.0  \n",
       "3            2600             6           10  1000.0  \n",
       "4            2600             6           10  1000.0  \n",
       "\n",
       "[5 rows x 33 columns]"
      ]
     },
     "execution_count": 25,
     "metadata": {},
     "output_type": "execute_result"
    }
   ],
   "source": [
    "# df_di 데이터셋 확인\n",
    "print(df_di.shape)\n",
    "df_di.head()"
   ]
  },
  {
   "cell_type": "code",
   "execution_count": 26,
   "metadata": {},
   "outputs": [
    {
     "data": {
      "text/html": [
       "<div>\n",
       "<style scoped>\n",
       "    .dataframe tbody tr th:only-of-type {\n",
       "        vertical-align: middle;\n",
       "    }\n",
       "\n",
       "    .dataframe tbody tr th {\n",
       "        vertical-align: top;\n",
       "    }\n",
       "\n",
       "    .dataframe thead th {\n",
       "        text-align: right;\n",
       "    }\n",
       "</style>\n",
       "<table border=\"1\" class=\"dataframe\">\n",
       "  <thead>\n",
       "    <tr style=\"text-align: right;\">\n",
       "      <th></th>\n",
       "      <th>customer_id</th>\n",
       "      <th>season</th>\n",
       "    </tr>\n",
       "  </thead>\n",
       "  <tbody>\n",
       "    <tr>\n",
       "      <th>0</th>\n",
       "      <td>C5001</td>\n",
       "      <td>winter</td>\n",
       "    </tr>\n",
       "    <tr>\n",
       "      <th>1</th>\n",
       "      <td>C5011</td>\n",
       "      <td>spring</td>\n",
       "    </tr>\n",
       "    <tr>\n",
       "      <th>2</th>\n",
       "      <td>C5024</td>\n",
       "      <td>summer</td>\n",
       "    </tr>\n",
       "    <tr>\n",
       "      <th>3</th>\n",
       "      <td>C5027</td>\n",
       "      <td>spring</td>\n",
       "    </tr>\n",
       "    <tr>\n",
       "      <th>4</th>\n",
       "      <td>C5035</td>\n",
       "      <td>summer</td>\n",
       "    </tr>\n",
       "  </tbody>\n",
       "</table>\n",
       "</div>"
      ],
      "text/plain": [
       "  customer_id  season\n",
       "0       C5001  winter\n",
       "1       C5011  spring\n",
       "2       C5024  summer\n",
       "3       C5027  spring\n",
       "4       C5035  summer"
      ]
     },
     "execution_count": 26,
     "metadata": {},
     "output_type": "execute_result"
    }
   ],
   "source": [
    "# 'customer_id', 'season' 변수만 추출\n",
    "df2 = df_di[['customer_id', 'season']]\n",
    "df2.head()"
   ]
  },
  {
   "cell_type": "code",
   "execution_count": 27,
   "metadata": {},
   "outputs": [
    {
     "data": {
      "text/html": [
       "<div>\n",
       "<style scoped>\n",
       "    .dataframe tbody tr th:only-of-type {\n",
       "        vertical-align: middle;\n",
       "    }\n",
       "\n",
       "    .dataframe tbody tr th {\n",
       "        vertical-align: top;\n",
       "    }\n",
       "\n",
       "    .dataframe thead th {\n",
       "        text-align: right;\n",
       "    }\n",
       "</style>\n",
       "<table border=\"1\" class=\"dataframe\">\n",
       "  <thead>\n",
       "    <tr style=\"text-align: right;\">\n",
       "      <th></th>\n",
       "      <th>customer_id</th>\n",
       "      <th>genre_first</th>\n",
       "      <th>genre_second</th>\n",
       "    </tr>\n",
       "  </thead>\n",
       "  <tbody>\n",
       "    <tr>\n",
       "      <th>0</th>\n",
       "      <td>C5001</td>\n",
       "      <td>Adventure</td>\n",
       "      <td>Action</td>\n",
       "    </tr>\n",
       "    <tr>\n",
       "      <th>1</th>\n",
       "      <td>C5002</td>\n",
       "      <td>Adventure</td>\n",
       "      <td>Action</td>\n",
       "    </tr>\n",
       "    <tr>\n",
       "      <th>2</th>\n",
       "      <td>C5003</td>\n",
       "      <td>Adventure</td>\n",
       "      <td>Action</td>\n",
       "    </tr>\n",
       "    <tr>\n",
       "      <th>3</th>\n",
       "      <td>C5004</td>\n",
       "      <td>Adventure</td>\n",
       "      <td>Action</td>\n",
       "    </tr>\n",
       "    <tr>\n",
       "      <th>4</th>\n",
       "      <td>C5005</td>\n",
       "      <td>Adventure</td>\n",
       "      <td>Comedy</td>\n",
       "    </tr>\n",
       "  </tbody>\n",
       "</table>\n",
       "</div>"
      ],
      "text/plain": [
       "  customer_id genre_first genre_second\n",
       "0       C5001   Adventure       Action\n",
       "1       C5002   Adventure       Action\n",
       "2       C5003   Adventure       Action\n",
       "3       C5004   Adventure       Action\n",
       "4       C5005   Adventure       Comedy"
      ]
     },
     "execution_count": 27,
     "metadata": {},
     "output_type": "execute_result"
    }
   ],
   "source": [
    "# 'customer_id', 'genre_first', 'genre_second' 변수만 추출\n",
    "df3 = df_cus[['customer_id','genre_first','genre_second']]\n",
    "df3.head()"
   ]
  },
  {
   "cell_type": "code",
   "execution_count": 28,
   "metadata": {},
   "outputs": [
    {
     "data": {
      "text/html": [
       "<div>\n",
       "<style scoped>\n",
       "    .dataframe tbody tr th:only-of-type {\n",
       "        vertical-align: middle;\n",
       "    }\n",
       "\n",
       "    .dataframe tbody tr th {\n",
       "        vertical-align: top;\n",
       "    }\n",
       "\n",
       "    .dataframe thead th {\n",
       "        text-align: right;\n",
       "    }\n",
       "</style>\n",
       "<table border=\"1\" class=\"dataframe\">\n",
       "  <thead>\n",
       "    <tr style=\"text-align: right;\">\n",
       "      <th></th>\n",
       "      <th>customer_id</th>\n",
       "      <th>season</th>\n",
       "      <th>genre_first</th>\n",
       "      <th>genre_second</th>\n",
       "    </tr>\n",
       "  </thead>\n",
       "  <tbody>\n",
       "    <tr>\n",
       "      <th>0</th>\n",
       "      <td>C5001</td>\n",
       "      <td>winter</td>\n",
       "      <td>Adventure</td>\n",
       "      <td>Action</td>\n",
       "    </tr>\n",
       "    <tr>\n",
       "      <th>1</th>\n",
       "      <td>C5001</td>\n",
       "      <td>summer</td>\n",
       "      <td>Adventure</td>\n",
       "      <td>Action</td>\n",
       "    </tr>\n",
       "    <tr>\n",
       "      <th>2</th>\n",
       "      <td>C5001</td>\n",
       "      <td>winter</td>\n",
       "      <td>Adventure</td>\n",
       "      <td>Action</td>\n",
       "    </tr>\n",
       "    <tr>\n",
       "      <th>3</th>\n",
       "      <td>C5001</td>\n",
       "      <td>summer</td>\n",
       "      <td>Adventure</td>\n",
       "      <td>Action</td>\n",
       "    </tr>\n",
       "    <tr>\n",
       "      <th>4</th>\n",
       "      <td>C5001</td>\n",
       "      <td>winter</td>\n",
       "      <td>Adventure</td>\n",
       "      <td>Action</td>\n",
       "    </tr>\n",
       "  </tbody>\n",
       "</table>\n",
       "</div>"
      ],
      "text/plain": [
       "  customer_id  season genre_first genre_second\n",
       "0       C5001  winter   Adventure       Action\n",
       "1       C5001  summer   Adventure       Action\n",
       "2       C5001  winter   Adventure       Action\n",
       "3       C5001  summer   Adventure       Action\n",
       "4       C5001  winter   Adventure       Action"
      ]
     },
     "execution_count": 28,
     "metadata": {},
     "output_type": "execute_result"
    }
   ],
   "source": [
    "# 'customer_id'를 기준으로 두 데이터셋을 합침\n",
    "df_season = pd.merge(df2, df3, on = ('customer_id'))\n",
    "\n",
    "# 새 데이터셋 확인\n",
    "df_season.head()"
   ]
  },
  {
   "cell_type": "code",
   "execution_count": 29,
   "metadata": {
    "scrolled": false
   },
   "outputs": [
    {
     "data": {
      "text/plain": [
       "genre_first\n",
       "Adventure      27246\n",
       "Action           954\n",
       "Comedy           145\n",
       "ETC               25\n",
       "Animation         13\n",
       "Horror             2\n",
       "Drama              2\n",
       "dtype: int64"
      ]
     },
     "execution_count": 29,
     "metadata": {},
     "output_type": "execute_result"
    }
   ],
   "source": [
    "# 계절이 겨울일 때 고객이 가장 선호하는 장르 확인\n",
    "df_season[df_season['season'] == 'winter'][['genre_first']].value_counts()"
   ]
  },
  {
   "cell_type": "markdown",
   "metadata": {},
   "source": [
    "겨울에는 Adventure 장르를 가장 많이 본 것을 확인"
   ]
  },
  {
   "cell_type": "code",
   "execution_count": 30,
   "metadata": {
    "scrolled": false
   },
   "outputs": [
    {
     "data": {
      "text/plain": [
       "genre_first\n",
       "Adventure      28098\n",
       "Action          1062\n",
       "Comedy           137\n",
       "ETC               24\n",
       "Animation         18\n",
       "Drama              5\n",
       "Horror             3\n",
       "dtype: int64"
      ]
     },
     "execution_count": 30,
     "metadata": {},
     "output_type": "execute_result"
    }
   ],
   "source": [
    "# 계절이 여름일 때 고객이 가장 선호하는 장르 확인\n",
    "df_season[df_season['season'] == 'summer'][['genre_first']].value_counts()"
   ]
  },
  {
   "cell_type": "markdown",
   "metadata": {},
   "source": [
    "여름에도 Adventure 장르를 가장 많이 본 것을 확인"
   ]
  },
  {
   "cell_type": "code",
   "execution_count": 31,
   "metadata": {
    "scrolled": false
   },
   "outputs": [
    {
     "name": "stderr",
     "output_type": "stream",
     "text": [
      "/home/piai/anaconda3/lib/python3.8/site-packages/seaborn/_decorators.py:36: FutureWarning: Pass the following variable as a keyword arg: x. From version 0.12, the only valid positional argument will be `data`, and passing other arguments without an explicit keyword will result in an error or misinterpretation.\n",
      "  warnings.warn(\n"
     ]
    },
    {
     "data": {
      "text/plain": [
       "<AxesSubplot:xlabel='season', ylabel='count'>"
      ]
     },
     "execution_count": 31,
     "metadata": {},
     "output_type": "execute_result"
    },
    {
     "data": {
      "image/png": "[encoded data removed]",
      "text/plain": [
       "<Figure size 432x288 with 1 Axes>"
      ]
     },
     "metadata": {
      "needs_background": "light"
     },
     "output_type": "display_data"
    }
   ],
   "source": [
    "# 계절별 고객들의 장르 선호도 확인\n",
    "sns.countplot('season',hue='genre_first',data=df_season[['season','genre_first']])"
   ]
  },
  {
   "cell_type": "markdown",
   "metadata": {},
   "source": [
    "모든 계절마다 adventure 장르 선호도가 가장 높다.\n",
    "\n",
    "계절별로 크게 차이가 나지 않는다."
   ]
  },
  {
   "cell_type": "code",
   "execution_count": 32,
   "metadata": {
    "scrolled": false
   },
   "outputs": [
    {
     "name": "stderr",
     "output_type": "stream",
     "text": [
      "/home/piai/anaconda3/lib/python3.8/site-packages/seaborn/_decorators.py:36: FutureWarning: Pass the following variable as a keyword arg: x. From version 0.12, the only valid positional argument will be `data`, and passing other arguments without an explicit keyword will result in an error or misinterpretation.\n",
      "  warnings.warn(\n"
     ]
    },
    {
     "data": {
      "text/plain": [
       "<AxesSubplot:xlabel='season', ylabel='count'>"
      ]
     },
     "execution_count": 32,
     "metadata": {},
     "output_type": "execute_result"
    },
    {
     "data": {
      "image/png": "[encoded data removed]",
      "text/plain": [
       "<Figure size 432x288 with 1 Axes>"
      ]
     },
     "metadata": {
      "needs_background": "light"
     },
     "output_type": "display_data"
    }
   ],
   "source": [
    "# 계절별 고객들이 두번째로 좋아하는 장르 선호도 확인\n",
    "sns.countplot('season',hue='genre_second',data=df_season[['season','genre_second']])"
   ]
  },
  {
   "cell_type": "markdown",
   "metadata": {},
   "source": [
    "모든 계절마다 action 장르 선호도가 높다.\n",
    "\n",
    "역시 계절별로 거의 차이가 나지 않는다."
   ]
  },
  {
   "cell_type": "code",
   "execution_count": 33,
   "metadata": {
    "scrolled": true
   },
   "outputs": [
    {
     "data": {
      "text/plain": [
       "Counter({'Animation': 23,\n",
       "         'Adventure': 83,\n",
       "         'Biography': 6,\n",
       "         'Action': 61,\n",
       "         'Comedy': 35,\n",
       "         'Drama': 16,\n",
       "         'Horror': 3,\n",
       "         'Fantasy': 16,\n",
       "         'Family': 11,\n",
       "         'Music': 2,\n",
       "         'Romance': 2,\n",
       "         'ETC': 13,\n",
       "         'Crime': 3,\n",
       "         'Mystery': 2,\n",
       "         'Thriller': 8,\n",
       "         'Sci-Fi': 30,\n",
       "         'History': 3,\n",
       "         'Sport': 1})"
      ]
     },
     "execution_count": 33,
     "metadata": {},
     "output_type": "execute_result"
    }
   ],
   "source": [
    "# 회사가 소유한 영화들의 장르 수 확인\n",
    "counter = Counter(df_in['Genre_1']) + Counter(df_in['Genre_2']) + Counter(df_in['Genre_3'])\n",
    "counter"
   ]
  },
  {
   "cell_type": "markdown",
   "metadata": {},
   "source": [
    "회사가 소유한 영화들은 대부분 Adventure, Action 장르가 많은 것을 알 수 있다."
   ]
  },
  {
   "cell_type": "markdown",
   "metadata": {},
   "source": [
    "#### (2) (고객이 다운로드한 영화들의 장르 수) / (회사의 영화 장르 수) 와 계절의 관계"
   ]
  },
  {
   "cell_type": "code",
   "execution_count": 34,
   "metadata": {
    "scrolled": false
   },
   "outputs": [],
   "source": [
    "# (고객이 다운로드한 영화들의 장르 수를 회사의 영화 장르 수로 나누는 함수 생성 \n",
    "def calculator(counter, genre_cnt):\n",
    "    for i in genre_cnt.keys():\n",
    "        i = list(i)[0]\n",
    "        if counter[i] == 0:\n",
    "            pass\n",
    "        else:\n",
    "            genre_cnt[i] /= counter[i]\n",
    "    return genre_cnt"
   ]
  },
  {
   "cell_type": "code",
   "execution_count": 35,
   "metadata": {
    "scrolled": false
   },
   "outputs": [
    {
     "data": {
      "text/plain": [
       "genre_first\n",
       "Adventure      341.433735\n",
       "Action          16.754098\n",
       "Comedy           4.142857\n",
       "ETC              1.923077\n",
       "Animation        0.826087\n",
       "Drama            0.187500\n",
       "Horror           0.333333\n",
       "dtype: float64"
      ]
     },
     "execution_count": 35,
     "metadata": {},
     "output_type": "execute_result"
    }
   ],
   "source": [
    "# 함수를 적용하여 계절이 봄일 떄 결과 확인\n",
    "gen_spring = df_season[df_season['season'] == 'spring'][['genre_first']].value_counts()\n",
    "gen_sp_w = calculator(counter, gen_spring)\n",
    "gen_sp_w"
   ]
  },
  {
   "cell_type": "markdown",
   "metadata": {},
   "source": [
    "Adventure 장르의 선호도가 가장 높다.\n",
    "\n",
    "그 다음은 Action, Comedy 순"
   ]
  },
  {
   "cell_type": "code",
   "execution_count": 36,
   "metadata": {
    "scrolled": false
   },
   "outputs": [
    {
     "data": {
      "text/plain": [
       "genre_first\n",
       "Adventure      338.530120\n",
       "Action          17.409836\n",
       "Comedy           3.914286\n",
       "ETC              1.846154\n",
       "Animation        0.782609\n",
       "Drama            0.312500\n",
       "Horror           1.000000\n",
       "dtype: float64"
      ]
     },
     "execution_count": 36,
     "metadata": {},
     "output_type": "execute_result"
    }
   ],
   "source": [
    "# 함수를 적용하여 계절이 여름일 떄 결과 확인\n",
    "genre_summer = df_season[df_season['season'] == 'summer'][['genre_first']].value_counts()\n",
    "gen_su_w = calculator(counter, genre_summer)\n",
    "gen_su_w"
   ]
  },
  {
   "cell_type": "markdown",
   "metadata": {},
   "source": [
    "Adventure 장르의 선호도가 가장 높다.\n",
    "\n",
    "그 다음은 Action, Comedy 순"
   ]
  },
  {
   "cell_type": "code",
   "execution_count": 37,
   "metadata": {
    "scrolled": false
   },
   "outputs": [
    {
     "data": {
      "text/plain": [
       "genre_first\n",
       "Adventure      337.048193\n",
       "Action          16.590164\n",
       "Comedy           3.800000\n",
       "ETC              2.384615\n",
       "Animation        0.826087\n",
       "Horror           1.333333\n",
       "Drama            0.125000\n",
       "dtype: float64"
      ]
     },
     "execution_count": 37,
     "metadata": {},
     "output_type": "execute_result"
    }
   ],
   "source": [
    "# 함수를 적용하여 계절이 가을일 떄 결과 확인\n",
    "gen_autumn = df_season[df_season['season'] == 'autumn'][['genre_first']].value_counts()\n",
    "gen_au_w = calculator(counter, gen_autumn)\n",
    "gen_au_w"
   ]
  },
  {
   "cell_type": "markdown",
   "metadata": {},
   "source": [
    "Adventure 장르의 선호도가 가장 높다.\n",
    "\n",
    "그 다음은 Action, Comedy 순"
   ]
  },
  {
   "cell_type": "code",
   "execution_count": 38,
   "metadata": {
    "scrolled": false
   },
   "outputs": [
    {
     "data": {
      "text/plain": [
       "genre_first\n",
       "Adventure      328.265060\n",
       "Action          15.639344\n",
       "Comedy           4.142857\n",
       "ETC              1.923077\n",
       "Animation        0.565217\n",
       "Horror           0.666667\n",
       "Drama            0.125000\n",
       "dtype: float64"
      ]
     },
     "execution_count": 38,
     "metadata": {},
     "output_type": "execute_result"
    }
   ],
   "source": [
    "# 함수를 적용하여 계절이 겨울일 떄 결과 확인\n",
    "gen_winter = df_season[df_season['season'] == 'winter'][['genre_first']].value_counts()\n",
    "gen_wi_w = calculator(counter, gen_winter)\n",
    "gen_wi_w"
   ]
  },
  {
   "cell_type": "markdown",
   "metadata": {},
   "source": [
    "Adventure 장르의 선호도가 가장 높다.\n",
    "\n",
    "그 다음은 Action, Comedy 순"
   ]
  },
  {
   "cell_type": "markdown",
   "metadata": {},
   "source": [
    "- **분석 결과 장르와 계절간의 상관성은 없다고 판단**"
   ]
  },
  {
   "cell_type": "markdown",
   "metadata": {},
   "source": [
    "### 4) 성별과 장르 선호도의 관계"
   ]
  },
  {
   "cell_type": "code",
   "execution_count": 39,
   "metadata": {},
   "outputs": [
    {
     "data": {
      "text/plain": [
       "<AxesSubplot:xlabel='gender,genre_first'>"
      ]
     },
     "execution_count": 39,
     "metadata": {},
     "output_type": "execute_result"
    },
    {
     "data": {
      "image/png": "[encoded data removed]",
      "text/plain": [
       "<Figure size 1440x720 with 1 Axes>"
      ]
     },
     "metadata": {
      "needs_background": "light"
     },
     "output_type": "display_data"
    }
   ],
   "source": [
    "# 성별과 장르 선호도 관계 확인\n",
    "df_cus.groupby(['gender'])['genre_first'].value_counts().plot.bar(figsize = (20, 10))"
   ]
  },
  {
   "cell_type": "markdown",
   "metadata": {},
   "source": [
    "남녀 모두 adventure 장르를 가장 선호한다.\n",
    "\n",
    "남자가 여자에 비해 action 장르를 더 많이 선호하는 것을 알 수 있다."
   ]
  },
  {
   "cell_type": "code",
   "execution_count": 40,
   "metadata": {},
   "outputs": [
    {
     "data": {
      "text/plain": [
       "<AxesSubplot:xlabel='gender,genre_second'>"
      ]
     },
     "execution_count": 40,
     "metadata": {},
     "output_type": "execute_result"
    },
    {
     "data": {
      "image/png": "[encoded data removed]",
      "text/plain": [
       "<Figure size 1440x720 with 1 Axes>"
      ]
     },
     "metadata": {
      "needs_background": "light"
     },
     "output_type": "display_data"
    }
   ],
   "source": [
    "# 성별과 두번째로 선호하는 장르의 관계 확인\n",
    "df_cus.groupby(['gender'])['genre_second'].value_counts().plot.bar(figsize = (20, 10))"
   ]
  },
  {
   "cell_type": "markdown",
   "metadata": {},
   "source": [
    "남녀 모두 두번째로 선호하는 장르는 action 으로 같음\n",
    "\n",
    "남자의 경우 action 다음 adventure, comedy 순\n",
    "\n",
    "반면 여자의 경우 action 다음 comedy, adventure 순"
   ]
  },
  {
   "cell_type": "markdown",
   "metadata": {},
   "source": [
    "- **분석 결과 남자가 여자에 비해 action 장르를 더 좋아한다는 것을 확인**\n",
    "\n",
    "- **그러나 그 외에 다른 차이점은 보이지 않음**"
   ]
  },
  {
   "cell_type": "markdown",
   "metadata": {},
   "source": [
    "### 5) 결혼 여부와 장르 선호도의 관계"
   ]
  },
  {
   "cell_type": "code",
   "execution_count": 41,
   "metadata": {},
   "outputs": [
    {
     "data": {
      "text/plain": [
       "<AxesSubplot:xlabel='married,genre_first'>"
      ]
     },
     "execution_count": 41,
     "metadata": {},
     "output_type": "execute_result"
    },
    {
     "data": {
      "image/png": "[encoded data removed]",
      "text/plain": [
       "<Figure size 1440x720 with 1 Axes>"
      ]
     },
     "metadata": {
      "needs_background": "light"
     },
     "output_type": "display_data"
    }
   ],
   "source": [
    "# 결혼 유무에 따른 장르 선호도 확인\n",
    "df_cus.groupby(['married'])['genre_first'].value_counts().plot.bar(figsize = (20, 10))"
   ]
  },
  {
   "cell_type": "markdown",
   "metadata": {},
   "source": [
    "- 결혼 유무에 상관없이 모두 adventure 장르를 선호"
   ]
  },
  {
   "cell_type": "code",
   "execution_count": 42,
   "metadata": {},
   "outputs": [
    {
     "data": {
      "text/plain": [
       "<AxesSubplot:xlabel='married,genre_second'>"
      ]
     },
     "execution_count": 42,
     "metadata": {},
     "output_type": "execute_result"
    },
    {
     "data": {
      "image/png": "[encoded data removed]",
      "text/plain": [
       "<Figure size 1440x720 with 1 Axes>"
      ]
     },
     "metadata": {
      "needs_background": "light"
     },
     "output_type": "display_data"
    }
   ],
   "source": [
    "# 결혼 유무에 따른 두번째로 선호하는 장르 확인\n",
    "df_cus.groupby(['married'])['genre_second'].value_counts().plot.bar(figsize = (20, 10))"
   ]
  },
  {
   "cell_type": "markdown",
   "metadata": {},
   "source": [
    "결혼 유무에 상관없이 모두 action 장르를 두번째로 선호"
   ]
  },
  {
   "cell_type": "markdown",
   "metadata": {},
   "source": [
    "# 5. 가중치를 고려한 고객들의 장르 선호도와 여러 변수들의 관계 확인"
   ]
  },
  {
   "cell_type": "markdown",
   "metadata": {},
   "source": [
    "### 1) 가중치 고려한 장르 선호도 함수 생성"
   ]
  },
  {
   "cell_type": "code",
   "execution_count": 43,
   "metadata": {},
   "outputs": [],
   "source": [
    "# (고객이 다운로드한 영화들의 장르 수) / (회사의 영화 장르 수) 계산 함수 생성\n",
    "def weighted_calculator(counter, genre_cnt):\n",
    "    for i in genre_cnt.keys():\n",
    "        if counter[i] == 0:\n",
    "            pass\n",
    "        else:\n",
    "            genre_cnt[i] /= counter[i]\n",
    "    return genre_cnt"
   ]
  },
  {
   "cell_type": "code",
   "execution_count": 44,
   "metadata": {},
   "outputs": [],
   "source": [
    "# 고객의 선호 장르를 찾는 함수 생성\n",
    "def find_weighted_genre(Genre1, Genre2, Genre3, counter):\n",
    "    m = 0\n",
    "    u_keys = []\n",
    "    genre = Counter(Genre1) + Counter(Genre2) + Counter(Genre3)\n",
    "    genre_cnt = weighted_calculator(counter, genre)\n",
    "    for key, value in genre_cnt.items():\n",
    "        if value > m:\n",
    "            first = key\n",
    "            m = value\n",
    "\n",
    "    genre[first] = 0\n",
    "    m = 0\n",
    "    for key, value in genre.items():\n",
    "        if value > m:\n",
    "            second = key\n",
    "            m = value\n",
    "\n",
    "    return first, second  # 고객의 선호 장르(가장 많이 본 장르) 반환\n",
    "\n"
   ]
  },
  {
   "cell_type": "code",
   "execution_count": 45,
   "metadata": {},
   "outputs": [],
   "source": [
    "# 장르가 일치하는 데이터만 남기는 함수 생성\n",
    "def weighted_genre(user_name, df_raw, counter):#, df_all):\n",
    "    Genre1 = df_raw[df_raw['customer_id'] == user_name]['Genre_1']\n",
    "    Genre2 = df_raw[df_raw['customer_id'] == user_name]['Genre_2']\n",
    "    Genre3 = df_raw[df_raw['customer_id'] == user_name]['Genre_3']\n",
    "    f, s = find_weighted_genre(Genre1, Genre2, Genre3, counter)\n",
    "\n",
    "    return f, s"
   ]
  },
  {
   "cell_type": "code",
   "execution_count": 46,
   "metadata": {},
   "outputs": [],
   "source": [
    "weighted_genre_first = []\n",
    "weighted_genre_second = []\n",
    "\n",
    "# 고객이 첫번째로 선호하는 장르와 두 번째로 선호하는 장르를 각각 리스트에 추가\n",
    "for id in df_cus['customer_id']:\n",
    "    first, second = weighted_genre(id, df_di,counter)\n",
    "    weighted_genre_first.append(first)\n",
    "    weighted_genre_second.append(second)"
   ]
  },
  {
   "cell_type": "code",
   "execution_count": 47,
   "metadata": {},
   "outputs": [],
   "source": [
    "# df_cus 데이터에 가중치 고려한 고객이 첫번째로 선호하는 장르와 두 번째로 선호하는 장르 열 추가\n",
    "df_cus['weighted_genre_first'] = weighted_genre_first\n",
    "df_cus['weighted_genre_second'] = weighted_genre_second"
   ]
  },
  {
   "cell_type": "code",
   "execution_count": 48,
   "metadata": {},
   "outputs": [
    {
     "data": {
      "text/html": [
       "<div>\n",
       "<style scoped>\n",
       "    .dataframe tbody tr th:only-of-type {\n",
       "        vertical-align: middle;\n",
       "    }\n",
       "\n",
       "    .dataframe tbody tr th {\n",
       "        vertical-align: top;\n",
       "    }\n",
       "\n",
       "    .dataframe thead th {\n",
       "        text-align: right;\n",
       "    }\n",
       "</style>\n",
       "<table border=\"1\" class=\"dataframe\">\n",
       "  <thead>\n",
       "    <tr style=\"text-align: right;\">\n",
       "      <th></th>\n",
       "      <th>customer_id</th>\n",
       "      <th>gender</th>\n",
       "      <th>age</th>\n",
       "      <th>age_group</th>\n",
       "      <th>married</th>\n",
       "      <th>kids_under12</th>\n",
       "      <th>area</th>\n",
       "      <th>subs_start_year</th>\n",
       "      <th>download_count</th>\n",
       "      <th>total_price</th>\n",
       "      <th>class</th>\n",
       "      <th>genre_first</th>\n",
       "      <th>genre_second</th>\n",
       "      <th>weighted_genre_first</th>\n",
       "      <th>weighted_genre_second</th>\n",
       "    </tr>\n",
       "  </thead>\n",
       "  <tbody>\n",
       "    <tr>\n",
       "      <th>0</th>\n",
       "      <td>C5001</td>\n",
       "      <td>F</td>\n",
       "      <td>51</td>\n",
       "      <td>50대</td>\n",
       "      <td>M</td>\n",
       "      <td>N</td>\n",
       "      <td>용산구</td>\n",
       "      <td>2015</td>\n",
       "      <td>55</td>\n",
       "      <td>262000.0</td>\n",
       "      <td>Platinum</td>\n",
       "      <td>Adventure</td>\n",
       "      <td>Action</td>\n",
       "      <td>Mystery</td>\n",
       "      <td>Crime</td>\n",
       "    </tr>\n",
       "    <tr>\n",
       "      <th>1</th>\n",
       "      <td>C5002</td>\n",
       "      <td>M</td>\n",
       "      <td>22</td>\n",
       "      <td>20대</td>\n",
       "      <td>S</td>\n",
       "      <td>N</td>\n",
       "      <td>강남구</td>\n",
       "      <td>2015</td>\n",
       "      <td>23</td>\n",
       "      <td>102200.0</td>\n",
       "      <td>Silver</td>\n",
       "      <td>Adventure</td>\n",
       "      <td>Action</td>\n",
       "      <td>Romance</td>\n",
       "      <td>Biography</td>\n",
       "    </tr>\n",
       "    <tr>\n",
       "      <th>2</th>\n",
       "      <td>C5003</td>\n",
       "      <td>F</td>\n",
       "      <td>33</td>\n",
       "      <td>30대</td>\n",
       "      <td>M</td>\n",
       "      <td>Y</td>\n",
       "      <td>서대문구</td>\n",
       "      <td>2015</td>\n",
       "      <td>55</td>\n",
       "      <td>270800.0</td>\n",
       "      <td>Platinum</td>\n",
       "      <td>Adventure</td>\n",
       "      <td>Action</td>\n",
       "      <td>Music</td>\n",
       "      <td>Crime</td>\n",
       "    </tr>\n",
       "    <tr>\n",
       "      <th>3</th>\n",
       "      <td>C5004</td>\n",
       "      <td>F</td>\n",
       "      <td>24</td>\n",
       "      <td>20대</td>\n",
       "      <td>M</td>\n",
       "      <td>N</td>\n",
       "      <td>서대문구</td>\n",
       "      <td>2015</td>\n",
       "      <td>41</td>\n",
       "      <td>200400.0</td>\n",
       "      <td>Gold</td>\n",
       "      <td>Adventure</td>\n",
       "      <td>Action</td>\n",
       "      <td>Sci-Fi</td>\n",
       "      <td>Romance</td>\n",
       "    </tr>\n",
       "    <tr>\n",
       "      <th>4</th>\n",
       "      <td>C5005</td>\n",
       "      <td>F</td>\n",
       "      <td>35</td>\n",
       "      <td>30대</td>\n",
       "      <td>M</td>\n",
       "      <td>N</td>\n",
       "      <td>마포구</td>\n",
       "      <td>2015</td>\n",
       "      <td>34</td>\n",
       "      <td>165900.0</td>\n",
       "      <td>Gold</td>\n",
       "      <td>Adventure</td>\n",
       "      <td>Comedy</td>\n",
       "      <td>Romance</td>\n",
       "      <td>Fantasy</td>\n",
       "    </tr>\n",
       "    <tr>\n",
       "      <th>...</th>\n",
       "      <td>...</td>\n",
       "      <td>...</td>\n",
       "      <td>...</td>\n",
       "      <td>...</td>\n",
       "      <td>...</td>\n",
       "      <td>...</td>\n",
       "      <td>...</td>\n",
       "      <td>...</td>\n",
       "      <td>...</td>\n",
       "      <td>...</td>\n",
       "      <td>...</td>\n",
       "      <td>...</td>\n",
       "      <td>...</td>\n",
       "      <td>...</td>\n",
       "      <td>...</td>\n",
       "    </tr>\n",
       "    <tr>\n",
       "      <th>3272</th>\n",
       "      <td>C8273</td>\n",
       "      <td>F</td>\n",
       "      <td>43</td>\n",
       "      <td>40대</td>\n",
       "      <td>M</td>\n",
       "      <td>N</td>\n",
       "      <td>마포구</td>\n",
       "      <td>2018</td>\n",
       "      <td>8</td>\n",
       "      <td>37000.0</td>\n",
       "      <td>Bronze</td>\n",
       "      <td>Action</td>\n",
       "      <td>Adventure</td>\n",
       "      <td>Mystery</td>\n",
       "      <td>Thriller</td>\n",
       "    </tr>\n",
       "    <tr>\n",
       "      <th>3273</th>\n",
       "      <td>C8274</td>\n",
       "      <td>F</td>\n",
       "      <td>24</td>\n",
       "      <td>20대</td>\n",
       "      <td>M</td>\n",
       "      <td>N</td>\n",
       "      <td>송파구</td>\n",
       "      <td>2018</td>\n",
       "      <td>10</td>\n",
       "      <td>48700.0</td>\n",
       "      <td>Bronze</td>\n",
       "      <td>Adventure</td>\n",
       "      <td>ETC</td>\n",
       "      <td>Horror</td>\n",
       "      <td>Mystery</td>\n",
       "    </tr>\n",
       "    <tr>\n",
       "      <th>3274</th>\n",
       "      <td>C8275</td>\n",
       "      <td>F</td>\n",
       "      <td>55</td>\n",
       "      <td>50대</td>\n",
       "      <td>S</td>\n",
       "      <td>N</td>\n",
       "      <td>강남구</td>\n",
       "      <td>2018</td>\n",
       "      <td>9</td>\n",
       "      <td>44500.0</td>\n",
       "      <td>Bronze</td>\n",
       "      <td>Action</td>\n",
       "      <td>Adventure</td>\n",
       "      <td>Mystery</td>\n",
       "      <td>Horror</td>\n",
       "    </tr>\n",
       "    <tr>\n",
       "      <th>3275</th>\n",
       "      <td>C8276</td>\n",
       "      <td>F</td>\n",
       "      <td>36</td>\n",
       "      <td>30대</td>\n",
       "      <td>S</td>\n",
       "      <td>Y</td>\n",
       "      <td>서대문구</td>\n",
       "      <td>2018</td>\n",
       "      <td>17</td>\n",
       "      <td>77500.0</td>\n",
       "      <td>Bronze</td>\n",
       "      <td>Adventure</td>\n",
       "      <td>Action</td>\n",
       "      <td>Horror</td>\n",
       "      <td>ETC</td>\n",
       "    </tr>\n",
       "    <tr>\n",
       "      <th>3276</th>\n",
       "      <td>C8277</td>\n",
       "      <td>M</td>\n",
       "      <td>37</td>\n",
       "      <td>30대</td>\n",
       "      <td>S</td>\n",
       "      <td>N</td>\n",
       "      <td>강남구</td>\n",
       "      <td>2018</td>\n",
       "      <td>10</td>\n",
       "      <td>48700.0</td>\n",
       "      <td>Bronze</td>\n",
       "      <td>Adventure</td>\n",
       "      <td>Action</td>\n",
       "      <td>Horror</td>\n",
       "      <td>Crime</td>\n",
       "    </tr>\n",
       "  </tbody>\n",
       "</table>\n",
       "<p>3277 rows × 15 columns</p>\n",
       "</div>"
      ],
      "text/plain": [
       "     customer_id gender  age age_group married kids_under12  area  \\\n",
       "0          C5001      F   51       50대       M            N   용산구   \n",
       "1          C5002      M   22       20대       S            N   강남구   \n",
       "2          C5003      F   33       30대       M            Y  서대문구   \n",
       "3          C5004      F   24       20대       M            N  서대문구   \n",
       "4          C5005      F   35       30대       M            N   마포구   \n",
       "...          ...    ...  ...       ...     ...          ...   ...   \n",
       "3272       C8273      F   43       40대       M            N   마포구   \n",
       "3273       C8274      F   24       20대       M            N   송파구   \n",
       "3274       C8275      F   55       50대       S            N   강남구   \n",
       "3275       C8276      F   36       30대       S            Y  서대문구   \n",
       "3276       C8277      M   37       30대       S            N   강남구   \n",
       "\n",
       "      subs_start_year  download_count  total_price     class genre_first  \\\n",
       "0                2015              55     262000.0  Platinum   Adventure   \n",
       "1                2015              23     102200.0    Silver   Adventure   \n",
       "2                2015              55     270800.0  Platinum   Adventure   \n",
       "3                2015              41     200400.0      Gold   Adventure   \n",
       "4                2015              34     165900.0      Gold   Adventure   \n",
       "...               ...             ...          ...       ...         ...   \n",
       "3272             2018               8      37000.0    Bronze      Action   \n",
       "3273             2018              10      48700.0    Bronze   Adventure   \n",
       "3274             2018               9      44500.0    Bronze      Action   \n",
       "3275             2018              17      77500.0    Bronze   Adventure   \n",
       "3276             2018              10      48700.0    Bronze   Adventure   \n",
       "\n",
       "     genre_second weighted_genre_first weighted_genre_second  \n",
       "0          Action              Mystery                 Crime  \n",
       "1          Action              Romance             Biography  \n",
       "2          Action                Music                 Crime  \n",
       "3          Action               Sci-Fi               Romance  \n",
       "4          Comedy              Romance               Fantasy  \n",
       "...           ...                  ...                   ...  \n",
       "3272    Adventure              Mystery              Thriller  \n",
       "3273          ETC               Horror               Mystery  \n",
       "3274    Adventure              Mystery                Horror  \n",
       "3275       Action               Horror                   ETC  \n",
       "3276       Action               Horror                 Crime  \n",
       "\n",
       "[3277 rows x 15 columns]"
      ]
     },
     "execution_count": 48,
     "metadata": {},
     "output_type": "execute_result"
    }
   ],
   "source": [
    "# 변경된 데이터셋 확인\n",
    "df_cus"
   ]
  },
  {
   "cell_type": "code",
   "execution_count": 49,
   "metadata": {},
   "outputs": [
    {
     "data": {
      "text/plain": [
       "History      682\n",
       "Romance      613\n",
       "Crime        488\n",
       "Sport        388\n",
       "Music        246\n",
       "Horror       215\n",
       "ETC          165\n",
       "Mystery      142\n",
       "Family       120\n",
       "Biography    101\n",
       "Thriller      36\n",
       "Fantasy       31\n",
       "Animation     28\n",
       "Comedy        10\n",
       "Sci-Fi         8\n",
       "Drama          4\n",
       "Name: weighted_genre_first, dtype: int64"
      ]
     },
     "execution_count": 49,
     "metadata": {},
     "output_type": "execute_result"
    }
   ],
   "source": [
    "# 가중치 고려한 고객이 가장 선호하는 장르의 개수 파악\n",
    "df_cus['weighted_genre_first'].value_counts()"
   ]
  },
  {
   "cell_type": "markdown",
   "metadata": {},
   "source": [
    "가중치를 고려한 결과 history 장르를 가장 선호하는 것을 확인"
   ]
  },
  {
   "cell_type": "markdown",
   "metadata": {},
   "source": [
    "### 2) 계절과 가중치 고려한 장르 선호도의 관계"
   ]
  },
  {
   "cell_type": "code",
   "execution_count": 50,
   "metadata": {},
   "outputs": [
    {
     "data": {
      "text/html": [
       "<div>\n",
       "<style scoped>\n",
       "    .dataframe tbody tr th:only-of-type {\n",
       "        vertical-align: middle;\n",
       "    }\n",
       "\n",
       "    .dataframe tbody tr th {\n",
       "        vertical-align: top;\n",
       "    }\n",
       "\n",
       "    .dataframe thead th {\n",
       "        text-align: right;\n",
       "    }\n",
       "</style>\n",
       "<table border=\"1\" class=\"dataframe\">\n",
       "  <thead>\n",
       "    <tr style=\"text-align: right;\">\n",
       "      <th></th>\n",
       "      <th>customer_id</th>\n",
       "      <th>weighted_genre_first</th>\n",
       "      <th>weighted_genre_second</th>\n",
       "    </tr>\n",
       "  </thead>\n",
       "  <tbody>\n",
       "    <tr>\n",
       "      <th>0</th>\n",
       "      <td>C5001</td>\n",
       "      <td>Mystery</td>\n",
       "      <td>Crime</td>\n",
       "    </tr>\n",
       "    <tr>\n",
       "      <th>1</th>\n",
       "      <td>C5002</td>\n",
       "      <td>Romance</td>\n",
       "      <td>Biography</td>\n",
       "    </tr>\n",
       "    <tr>\n",
       "      <th>2</th>\n",
       "      <td>C5003</td>\n",
       "      <td>Music</td>\n",
       "      <td>Crime</td>\n",
       "    </tr>\n",
       "    <tr>\n",
       "      <th>3</th>\n",
       "      <td>C5004</td>\n",
       "      <td>Sci-Fi</td>\n",
       "      <td>Romance</td>\n",
       "    </tr>\n",
       "    <tr>\n",
       "      <th>4</th>\n",
       "      <td>C5005</td>\n",
       "      <td>Romance</td>\n",
       "      <td>Fantasy</td>\n",
       "    </tr>\n",
       "  </tbody>\n",
       "</table>\n",
       "</div>"
      ],
      "text/plain": [
       "  customer_id weighted_genre_first weighted_genre_second\n",
       "0       C5001              Mystery                 Crime\n",
       "1       C5002              Romance             Biography\n",
       "2       C5003                Music                 Crime\n",
       "3       C5004               Sci-Fi               Romance\n",
       "4       C5005              Romance               Fantasy"
      ]
     },
     "execution_count": 50,
     "metadata": {},
     "output_type": "execute_result"
    }
   ],
   "source": [
    "# 필요한 변수들만 추출한 새 데이터셋 생성\n",
    "df3_1 = df_cus[['customer_id','weighted_genre_first','weighted_genre_second']]\n",
    "df3_1.head()"
   ]
  },
  {
   "cell_type": "code",
   "execution_count": 51,
   "metadata": {},
   "outputs": [
    {
     "data": {
      "text/html": [
       "<div>\n",
       "<style scoped>\n",
       "    .dataframe tbody tr th:only-of-type {\n",
       "        vertical-align: middle;\n",
       "    }\n",
       "\n",
       "    .dataframe tbody tr th {\n",
       "        vertical-align: top;\n",
       "    }\n",
       "\n",
       "    .dataframe thead th {\n",
       "        text-align: right;\n",
       "    }\n",
       "</style>\n",
       "<table border=\"1\" class=\"dataframe\">\n",
       "  <thead>\n",
       "    <tr style=\"text-align: right;\">\n",
       "      <th></th>\n",
       "      <th>customer_id</th>\n",
       "      <th>season</th>\n",
       "      <th>weighted_genre_first</th>\n",
       "      <th>weighted_genre_second</th>\n",
       "    </tr>\n",
       "  </thead>\n",
       "  <tbody>\n",
       "    <tr>\n",
       "      <th>0</th>\n",
       "      <td>C5001</td>\n",
       "      <td>winter</td>\n",
       "      <td>Mystery</td>\n",
       "      <td>Crime</td>\n",
       "    </tr>\n",
       "    <tr>\n",
       "      <th>1</th>\n",
       "      <td>C5001</td>\n",
       "      <td>summer</td>\n",
       "      <td>Mystery</td>\n",
       "      <td>Crime</td>\n",
       "    </tr>\n",
       "    <tr>\n",
       "      <th>2</th>\n",
       "      <td>C5001</td>\n",
       "      <td>winter</td>\n",
       "      <td>Mystery</td>\n",
       "      <td>Crime</td>\n",
       "    </tr>\n",
       "    <tr>\n",
       "      <th>3</th>\n",
       "      <td>C5001</td>\n",
       "      <td>summer</td>\n",
       "      <td>Mystery</td>\n",
       "      <td>Crime</td>\n",
       "    </tr>\n",
       "    <tr>\n",
       "      <th>4</th>\n",
       "      <td>C5001</td>\n",
       "      <td>winter</td>\n",
       "      <td>Mystery</td>\n",
       "      <td>Crime</td>\n",
       "    </tr>\n",
       "  </tbody>\n",
       "</table>\n",
       "</div>"
      ],
      "text/plain": [
       "  customer_id  season weighted_genre_first weighted_genre_second\n",
       "0       C5001  winter              Mystery                 Crime\n",
       "1       C5001  summer              Mystery                 Crime\n",
       "2       C5001  winter              Mystery                 Crime\n",
       "3       C5001  summer              Mystery                 Crime\n",
       "4       C5001  winter              Mystery                 Crime"
      ]
     },
     "execution_count": 51,
     "metadata": {},
     "output_type": "execute_result"
    }
   ],
   "source": [
    "# 두 데이터셋을 합쳐 새 데이터셋에 생성\n",
    "df_season = pd.merge(df2, df3_1, on = ('customer_id'))\n",
    "\n",
    "# df_season 데이터셋 확인\n",
    "df_season.head()"
   ]
  },
  {
   "cell_type": "code",
   "execution_count": 54,
   "metadata": {},
   "outputs": [
    {
     "data": {
      "text/plain": [
       "weighted_genre_first\n",
       "History                 6487\n",
       "Sport                   5435\n",
       "Romance                 4602\n",
       "Crime                   4025\n",
       "Music                   1637\n",
       "ETC                     1603\n",
       "Family                  1160\n",
       "Horror                   892\n",
       "Biography                858\n",
       "Mystery                  819\n",
       "Thriller                 290\n",
       "Fantasy                  230\n",
       "Animation                178\n",
       "Sci-Fi                    80\n",
       "Drama                     56\n",
       "Comedy                    35\n",
       "dtype: int64"
      ]
     },
     "execution_count": 54,
     "metadata": {},
     "output_type": "execute_result"
    }
   ],
   "source": [
    "# 계절이 겨울일 때 가중치 고려한 장르 선호도 확인\n",
    "df_season[df_season['season'] == 'winter'][['weighted_genre_first']].value_counts()"
   ]
  },
  {
   "cell_type": "markdown",
   "metadata": {},
   "source": [
    "겨울엔 History 장르가 가장 많은 것을 알 수 있다.\n",
    "\n",
    "그 다음엔 Sport, Romance 순"
   ]
  },
  {
   "cell_type": "code",
   "execution_count": 57,
   "metadata": {},
   "outputs": [
    {
     "data": {
      "text/plain": [
       "weighted_genre_first\n",
       "History                 6751\n",
       "Sport                   5657\n",
       "Romance                 4799\n",
       "Crime                   4187\n",
       "Music                   1745\n",
       "ETC                     1586\n",
       "Family                  1140\n",
       "Horror                   919\n",
       "Biography                911\n",
       "Mystery                  821\n",
       "Thriller                 268\n",
       "Fantasy                  217\n",
       "Animation                188\n",
       "Sci-Fi                    81\n",
       "Drama                     40\n",
       "Comedy                    37\n",
       "dtype: int64"
      ]
     },
     "execution_count": 57,
     "metadata": {},
     "output_type": "execute_result"
    }
   ],
   "source": [
    "# 계절이 여름일 때 가중치 고려한 장르 선호도 확인\n",
    "df_season[df_season['season'] == 'summer'][['weighted_genre_first']].value_counts()"
   ]
  },
  {
   "cell_type": "markdown",
   "metadata": {},
   "source": [
    "여름도 History 장르가 가장 많은 것을 알 수 있다.\n",
    "\n",
    "그 다음은 Sport, Romance 순"
   ]
  },
  {
   "cell_type": "code",
   "execution_count": 56,
   "metadata": {},
   "outputs": [
    {
     "name": "stderr",
     "output_type": "stream",
     "text": [
      "/home/piai/anaconda3/lib/python3.8/site-packages/seaborn/_decorators.py:36: FutureWarning: Pass the following variable as a keyword arg: x. From version 0.12, the only valid positional argument will be `data`, and passing other arguments without an explicit keyword will result in an error or misinterpretation.\n",
      "  warnings.warn(\n"
     ]
    },
    {
     "data": {
      "text/plain": [
       "<AxesSubplot:xlabel='season', ylabel='count'>"
      ]
     },
     "execution_count": 56,
     "metadata": {},
     "output_type": "execute_result"
    },
    {
     "data": {
      "image/png": "[encoded data removed]",
      "text/plain": [
       "<Figure size 432x288 with 1 Axes>"
      ]
     },
     "metadata": {
      "needs_background": "light"
     },
     "output_type": "display_data"
    }
   ],
   "source": [
    "# 계절별 가중치 고려한 장르 선호도를 그래프로 시각화\n",
    "sns.countplot('season',hue='weighted_genre_first',data=df_season[['season','weighted_genre_first']])"
   ]
  },
  {
   "cell_type": "markdown",
   "metadata": {},
   "source": [
    "계절별로 장르 선호도에 큰 차이가 없는 것을 알 수 있다."
   ]
  },
  {
   "cell_type": "code",
   "execution_count": 58,
   "metadata": {},
   "outputs": [
    {
     "name": "stderr",
     "output_type": "stream",
     "text": [
      "/home/piai/anaconda3/lib/python3.8/site-packages/seaborn/_decorators.py:36: FutureWarning: Pass the following variable as a keyword arg: x. From version 0.12, the only valid positional argument will be `data`, and passing other arguments without an explicit keyword will result in an error or misinterpretation.\n",
      "  warnings.warn(\n"
     ]
    },
    {
     "data": {
      "text/plain": [
       "<AxesSubplot:xlabel='season', ylabel='count'>"
      ]
     },
     "execution_count": 58,
     "metadata": {},
     "output_type": "execute_result"
    },
    {
     "data": {
      "image/png": "[encoded data removed]",
      "text/plain": [
       "<Figure size 432x288 with 1 Axes>"
      ]
     },
     "metadata": {
      "needs_background": "light"
     },
     "output_type": "display_data"
    }
   ],
   "source": [
    "# 계절별 가중치 고려한 두번째 장르 선호도를 그래프로 시각화\n",
    "sns.countplot('season',hue='weighted_genre_second',data=df_season[['season','weighted_genre_second']])"
   ]
  },
  {
   "cell_type": "markdown",
   "metadata": {},
   "source": [
    "### 3) 연령대와 가중치 고려한 장르 선호도의 관계"
   ]
  },
  {
   "cell_type": "code",
   "execution_count": 59,
   "metadata": {},
   "outputs": [
    {
     "data": {
      "text/html": [
       "<div>\n",
       "<style scoped>\n",
       "    .dataframe tbody tr th:only-of-type {\n",
       "        vertical-align: middle;\n",
       "    }\n",
       "\n",
       "    .dataframe tbody tr th {\n",
       "        vertical-align: top;\n",
       "    }\n",
       "\n",
       "    .dataframe thead th {\n",
       "        text-align: right;\n",
       "    }\n",
       "</style>\n",
       "<table border=\"1\" class=\"dataframe\">\n",
       "  <thead>\n",
       "    <tr style=\"text-align: right;\">\n",
       "      <th>weighted_genre_first</th>\n",
       "      <th>Animation</th>\n",
       "      <th>Biography</th>\n",
       "      <th>Comedy</th>\n",
       "      <th>Crime</th>\n",
       "      <th>Drama</th>\n",
       "      <th>ETC</th>\n",
       "      <th>Family</th>\n",
       "      <th>Fantasy</th>\n",
       "      <th>History</th>\n",
       "      <th>Horror</th>\n",
       "      <th>Music</th>\n",
       "      <th>Mystery</th>\n",
       "      <th>Romance</th>\n",
       "      <th>Sci-Fi</th>\n",
       "      <th>Sport</th>\n",
       "      <th>Thriller</th>\n",
       "    </tr>\n",
       "    <tr>\n",
       "      <th>age_group</th>\n",
       "      <th></th>\n",
       "      <th></th>\n",
       "      <th></th>\n",
       "      <th></th>\n",
       "      <th></th>\n",
       "      <th></th>\n",
       "      <th></th>\n",
       "      <th></th>\n",
       "      <th></th>\n",
       "      <th></th>\n",
       "      <th></th>\n",
       "      <th></th>\n",
       "      <th></th>\n",
       "      <th></th>\n",
       "      <th></th>\n",
       "      <th></th>\n",
       "    </tr>\n",
       "  </thead>\n",
       "  <tbody>\n",
       "    <tr>\n",
       "      <th>10대</th>\n",
       "      <td>0</td>\n",
       "      <td>4</td>\n",
       "      <td>0</td>\n",
       "      <td>7</td>\n",
       "      <td>0</td>\n",
       "      <td>4</td>\n",
       "      <td>0</td>\n",
       "      <td>0</td>\n",
       "      <td>9</td>\n",
       "      <td>4</td>\n",
       "      <td>9</td>\n",
       "      <td>2</td>\n",
       "      <td>8</td>\n",
       "      <td>0</td>\n",
       "      <td>1</td>\n",
       "      <td>0</td>\n",
       "    </tr>\n",
       "    <tr>\n",
       "      <th>20대</th>\n",
       "      <td>7</td>\n",
       "      <td>44</td>\n",
       "      <td>6</td>\n",
       "      <td>134</td>\n",
       "      <td>1</td>\n",
       "      <td>44</td>\n",
       "      <td>39</td>\n",
       "      <td>8</td>\n",
       "      <td>214</td>\n",
       "      <td>68</td>\n",
       "      <td>99</td>\n",
       "      <td>55</td>\n",
       "      <td>212</td>\n",
       "      <td>3</td>\n",
       "      <td>23</td>\n",
       "      <td>8</td>\n",
       "    </tr>\n",
       "    <tr>\n",
       "      <th>30대</th>\n",
       "      <td>9</td>\n",
       "      <td>22</td>\n",
       "      <td>1</td>\n",
       "      <td>138</td>\n",
       "      <td>1</td>\n",
       "      <td>37</td>\n",
       "      <td>33</td>\n",
       "      <td>7</td>\n",
       "      <td>198</td>\n",
       "      <td>62</td>\n",
       "      <td>63</td>\n",
       "      <td>34</td>\n",
       "      <td>170</td>\n",
       "      <td>1</td>\n",
       "      <td>97</td>\n",
       "      <td>7</td>\n",
       "    </tr>\n",
       "    <tr>\n",
       "      <th>40대</th>\n",
       "      <td>6</td>\n",
       "      <td>15</td>\n",
       "      <td>1</td>\n",
       "      <td>94</td>\n",
       "      <td>2</td>\n",
       "      <td>39</td>\n",
       "      <td>29</td>\n",
       "      <td>7</td>\n",
       "      <td>163</td>\n",
       "      <td>43</td>\n",
       "      <td>40</td>\n",
       "      <td>20</td>\n",
       "      <td>104</td>\n",
       "      <td>3</td>\n",
       "      <td>176</td>\n",
       "      <td>7</td>\n",
       "    </tr>\n",
       "    <tr>\n",
       "      <th>50대</th>\n",
       "      <td>5</td>\n",
       "      <td>13</td>\n",
       "      <td>0</td>\n",
       "      <td>92</td>\n",
       "      <td>0</td>\n",
       "      <td>36</td>\n",
       "      <td>18</td>\n",
       "      <td>8</td>\n",
       "      <td>92</td>\n",
       "      <td>34</td>\n",
       "      <td>27</td>\n",
       "      <td>26</td>\n",
       "      <td>97</td>\n",
       "      <td>1</td>\n",
       "      <td>87</td>\n",
       "      <td>11</td>\n",
       "    </tr>\n",
       "    <tr>\n",
       "      <th>60대</th>\n",
       "      <td>1</td>\n",
       "      <td>3</td>\n",
       "      <td>2</td>\n",
       "      <td>23</td>\n",
       "      <td>0</td>\n",
       "      <td>5</td>\n",
       "      <td>1</td>\n",
       "      <td>1</td>\n",
       "      <td>6</td>\n",
       "      <td>4</td>\n",
       "      <td>8</td>\n",
       "      <td>5</td>\n",
       "      <td>22</td>\n",
       "      <td>0</td>\n",
       "      <td>4</td>\n",
       "      <td>3</td>\n",
       "    </tr>\n",
       "  </tbody>\n",
       "</table>\n",
       "</div>"
      ],
      "text/plain": [
       "weighted_genre_first  Animation  Biography  Comedy  Crime  Drama  ETC  Family  \\\n",
       "age_group                                                                       \n",
       "10대                           0          4       0      7      0    4       0   \n",
       "20대                           7         44       6    134      1   44      39   \n",
       "30대                           9         22       1    138      1   37      33   \n",
       "40대                           6         15       1     94      2   39      29   \n",
       "50대                           5         13       0     92      0   36      18   \n",
       "60대                           1          3       2     23      0    5       1   \n",
       "\n",
       "weighted_genre_first  Fantasy  History  Horror  Music  Mystery  Romance  \\\n",
       "age_group                                                                 \n",
       "10대                         0        9       4      9        2        8   \n",
       "20대                         8      214      68     99       55      212   \n",
       "30대                         7      198      62     63       34      170   \n",
       "40대                         7      163      43     40       20      104   \n",
       "50대                         8       92      34     27       26       97   \n",
       "60대                         1        6       4      8        5       22   \n",
       "\n",
       "weighted_genre_first  Sci-Fi  Sport  Thriller  \n",
       "age_group                                      \n",
       "10대                        0      1         0  \n",
       "20대                        3     23         8  \n",
       "30대                        1     97         7  \n",
       "40대                        3    176         7  \n",
       "50대                        1     87        11  \n",
       "60대                        0      4         3  "
      ]
     },
     "execution_count": 59,
     "metadata": {},
     "output_type": "execute_result"
    }
   ],
   "source": [
    "# 연령대와 가중치 고려한 장르 선호도 관계 확인\n",
    "df1_1 = pd.crosstab(df_cus.age_group, df_cus.weighted_genre_first)\n",
    "df1_1"
   ]
  },
  {
   "cell_type": "code",
   "execution_count": 60,
   "metadata": {},
   "outputs": [
    {
     "name": "stderr",
     "output_type": "stream",
     "text": [
      "/home/piai/anaconda3/lib/python3.8/site-packages/matplotlib/backends/backend_agg.py:238: RuntimeWarning: Glyph 45824 missing from current font.\n",
      "  font.set_text(s, 0.0, flags=flags)\n",
      "/home/piai/anaconda3/lib/python3.8/site-packages/matplotlib/backends/backend_agg.py:201: RuntimeWarning: Glyph 45824 missing from current font.\n",
      "  font.set_text(s, 0, flags=flags)\n"
     ]
    },
    {
     "data": {
      "text/plain": [
       "<AxesSubplot:xlabel='weighted_genre_first', ylabel='age_group'>"
      ]
     },
     "execution_count": 60,
     "metadata": {},
     "output_type": "execute_result"
    },
    {
     "data": {
      "image/png": "[encoded data removed]",
      "text/plain": [
       "<Figure size 432x288 with 2 Axes>"
      ]
     },
     "metadata": {
      "needs_background": "light"
     },
     "output_type": "display_data"
    }
   ],
   "source": [
    "# heatmap을 통한 시각화\n",
    "sns.heatmap(df1_1, cmap='Blues')"
   ]
  },
  {
   "cell_type": "markdown",
   "metadata": {},
   "source": [
    "Crime, History, Romance, Sport 장르 쪽이 인기가 있다는 것을 확인할 수 있다."
   ]
  },
  {
   "cell_type": "code",
   "execution_count": 61,
   "metadata": {},
   "outputs": [
    {
     "data": {
      "text/plain": [
       "<AxesSubplot:xlabel='age_group,weighted_genre_first'>"
      ]
     },
     "execution_count": 61,
     "metadata": {},
     "output_type": "execute_result"
    },
    {
     "data": {
      "image/png": "[encoded data removed]",
      "text/plain": [
       "<Figure size 1440x720 with 1 Axes>"
      ]
     },
     "metadata": {
      "needs_background": "light"
     },
     "output_type": "display_data"
    }
   ],
   "source": [
    "# 연령대별 가중치 고려한 장르 선호도 확인\n",
    "df_cus.groupby(['age_group'])['weighted_genre_first'].value_counts().plot.bar(figsize = (20, 10))"
   ]
  },
  {
   "cell_type": "markdown",
   "metadata": {},
   "source": [
    "가중치를 고려했을 때\n",
    "\n",
    "10대, 20대, 30대 : History\n",
    "\n",
    "40대 : Sport\n",
    "\n",
    "50대 : Romance\n",
    "\n",
    "60대 : Crime\n",
    "\n",
    "장르를 가장 많이 선호하는 것을 알 수 있다."
   ]
  },
  {
   "cell_type": "code",
   "execution_count": 62,
   "metadata": {},
   "outputs": [
    {
     "data": {
      "text/plain": [
       "<AxesSubplot:xlabel='age_group,weighted_genre_second'>"
      ]
     },
     "execution_count": 62,
     "metadata": {},
     "output_type": "execute_result"
    },
    {
     "data": {
      "image/png": "[encoded data removed]",
      "text/plain": [
       "<Figure size 1440x720 with 1 Axes>"
      ]
     },
     "metadata": {
      "needs_background": "light"
     },
     "output_type": "display_data"
    }
   ],
   "source": [
    "# 연령대별 가중치 고려한 두번째 장르 선호도 확인\n",
    "df_cus.groupby(['age_group'])['weighted_genre_second'].value_counts().plot.bar(figsize = (20, 10))"
   ]
  },
  {
   "cell_type": "markdown",
   "metadata": {},
   "source": [
    "가중치를 고려했을 때\n",
    "\n",
    "10대 : Romance\n",
    "\n",
    "20대, 30대, 40대 : Biography\n",
    "\n",
    "50대 : History\n",
    "\n",
    "장르를 두번째로 많이 선호하는 것을 알 수 있다."
   ]
  },
  {
   "cell_type": "markdown",
   "metadata": {},
   "source": [
    "### 4) 성별과 가중치 고려한 장르 선호도 관계"
   ]
  },
  {
   "cell_type": "code",
   "execution_count": 63,
   "metadata": {},
   "outputs": [
    {
     "data": {
      "text/plain": [
       "<AxesSubplot:xlabel='gender,weighted_genre_first'>"
      ]
     },
     "execution_count": 63,
     "metadata": {},
     "output_type": "execute_result"
    },
    {
     "data": {
      "image/png": "[encoded data removed]",
      "text/plain": [
       "<Figure size 1440x720 with 1 Axes>"
      ]
     },
     "metadata": {
      "needs_background": "light"
     },
     "output_type": "display_data"
    }
   ],
   "source": [
    "# 성별과 가중치 고려한 장르 선호도 관계 확인\n",
    "df_cus.groupby(['gender'])['weighted_genre_first'].value_counts().plot.bar(figsize = (20, 10))"
   ]
  },
  {
   "cell_type": "markdown",
   "metadata": {},
   "source": [
    "가중치를 고려했을 때 여자의 경우 History, 남자의 경우 Crime 장르를 가장 선호하는 것을 알 수 있다."
   ]
  },
  {
   "cell_type": "code",
   "execution_count": 64,
   "metadata": {},
   "outputs": [
    {
     "data": {
      "text/plain": [
       "<AxesSubplot:xlabel='gender,weighted_genre_second'>"
      ]
     },
     "execution_count": 64,
     "metadata": {},
     "output_type": "execute_result"
    },
    {
     "data": {
      "image/png": "[encoded data removed]",
      "text/plain": [
       "<Figure size 1440x720 with 1 Axes>"
      ]
     },
     "metadata": {
      "needs_background": "light"
     },
     "output_type": "display_data"
    }
   ],
   "source": [
    "# 성별과 가중치 고려한 두번째 장르 선호도 관계 확인\n",
    "df_cus.groupby(['gender'])['weighted_genre_second'].value_counts().plot.bar(figsize = (20, 10))"
   ]
  },
  {
   "cell_type": "markdown",
   "metadata": {},
   "source": [
    "가중치를 고려했을 때 여자의 경우 History, 남자의 경우 Crime 장르를 두번째로 선호하는 것을 알 수 있다."
   ]
  },
  {
   "cell_type": "code",
   "execution_count": null,
   "metadata": {},
   "outputs": [],
   "source": []
  }
 ],
 "metadata": {
  "kernelspec": {
   "display_name": "Python 3",
   "language": "python",
   "name": "python3"
  },
  "language_info": {
   "codemirror_mode": {
    "name": "ipython",
    "version": 3
   },
   "file_extension": ".py",
   "mimetype": "text/x-python",
   "name": "python",
   "nbconvert_exporter": "python",
   "pygments_lexer": "ipython3",
   "version": "3.8.5"
  }
 },
 "nbformat": 4,
 "nbformat_minor": 4
}
